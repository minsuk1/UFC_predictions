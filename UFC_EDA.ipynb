{
 "cells": [
  {
   "cell_type": "code",
   "execution_count": 1,
   "metadata": {},
   "outputs": [
    {
     "data": {
      "text/html": [
       "        <script type=\"text/javascript\">\n",
       "        window.PlotlyConfig = {MathJaxConfig: 'local'};\n",
       "        if (window.MathJax) {MathJax.Hub.Config({SVG: {font: \"STIX-Web\"}});}\n",
       "        if (typeof require !== 'undefined') {\n",
       "        require.undef(\"plotly\");\n",
       "        requirejs.config({\n",
       "            paths: {\n",
       "                'plotly': ['https://cdn.plot.ly/plotly-latest.min']\n",
       "            }\n",
       "        });\n",
       "        require(['plotly'], function(Plotly) {\n",
       "            window._Plotly = Plotly;\n",
       "        });\n",
       "        }\n",
       "        </script>\n",
       "        "
      ]
     },
     "metadata": {},
     "output_type": "display_data"
    }
   ],
   "source": [
    "import pandas as pd\n",
    "import numpy as np\n",
    "%matplotlib inline\n",
    "pd.options.display.max_columns = None\n",
    "pd.options.display.max_rows = None\n",
    "\n",
    "import matplotlib.pyplot as plt\n",
    "import seaborn as sns\n",
    "from plotly.offline import init_notebook_mode, iplot, plot\n",
    "import plotly as py\n",
    "import plotly.graph_objs as go\n",
    "init_notebook_mode(connected = True)\n",
    "from matplotlib import font_manager, rc\n",
    "plt.style.use('seaborn')\n",
    "rc('font',family = 'Malgun Gothic')\n",
    "plt.rcParams['axes.unicode_minus'] = False"
   ]
  },
  {
   "cell_type": "markdown",
   "metadata": {},
   "source": [
    "## 데이터 불러오기"
   ]
  },
  {
   "cell_type": "code",
   "execution_count": 2,
   "metadata": {},
   "outputs": [],
   "source": [
    "dat = pd.read_csv('ufcdata/data.csv')"
   ]
  },
  {
   "cell_type": "code",
   "execution_count": 3,
   "metadata": {},
   "outputs": [],
   "source": [
    "df = dat.copy()"
   ]
  },
  {
   "cell_type": "markdown",
   "metadata": {},
   "source": [
    "## EDA"
   ]
  },
  {
   "cell_type": "markdown",
   "metadata": {},
   "source": [
    "#### 2001.04.01이전 삭제 (ufc규칙 발표되기 이전)"
   ]
  },
  {
   "cell_type": "code",
   "execution_count": 4,
   "metadata": {},
   "outputs": [
    {
     "name": "stdout",
     "output_type": "stream",
     "text": [
      "(4887, 145)\n"
     ]
    }
   ],
   "source": [
    "limit_date = '2001-04-01'\n",
    "df = df[(df['date'] > limit_date)]\n",
    "print(df.shape)"
   ]
  },
  {
   "cell_type": "markdown",
   "metadata": {},
   "source": [
    "#### 결측치 확인"
   ]
  },
  {
   "cell_type": "code",
   "execution_count": 5,
   "metadata": {
    "scrolled": true
   },
   "outputs": [
    {
     "name": "stdout",
     "output_type": "stream",
     "text": [
      "Number of Features in data with missing values: 108\n",
      "\n",
      "B_avg_opp_CLINCH_landed         1136\n",
      "B_avg_TD_landed                 1136\n",
      "B_avg_opp_TD_att                1136\n",
      "B_avg_opp_TD_pct                1136\n",
      "B_avg_opp_TOTAL_STR_att         1136\n",
      "B_avg_opp_TOTAL_STR_landed      1136\n",
      "B_avg_opp_BODY_landed           1136\n",
      "B_total_time_fought(seconds)    1136\n",
      "B_avg_opp_BODY_att              1136\n",
      "B_avg_TOTAL_STR_landed          1136\n",
      "B_avg_TOTAL_STR_att             1136\n",
      "B_avg_TD_pct                    1136\n",
      "B_avg_TD_att                    1136\n",
      "B_avg_opp_SIG_STR_pct           1136\n",
      "B_avg_KD                        1136\n",
      "B_avg_LEG_att                   1136\n",
      "B_avg_SUB_ATT                   1136\n",
      "B_avg_SIG_STR_pct               1136\n",
      "B_avg_SIG_STR_landed            1136\n",
      "B_avg_SIG_STR_att               1136\n",
      "B_avg_REV                       1136\n",
      "B_avg_PASS                      1136\n",
      "B_avg_LEG_landed                1136\n",
      "B_avg_opp_CLINCH_att            1136\n",
      "B_avg_opp_SUB_ATT               1136\n",
      "B_avg_opp_TD_landed             1136\n",
      "B_avg_opp_SIG_STR_landed        1136\n",
      "B_avg_GROUND_landed             1136\n",
      "B_avg_opp_DISTANCE_att          1136\n",
      "B_avg_opp_DISTANCE_landed       1136\n",
      "B_avg_BODY_att                  1136\n",
      "B_avg_opp_GROUND_att            1136\n",
      "B_avg_BODY_landed               1136\n",
      "B_avg_CLINCH_att                1136\n",
      "B_avg_CLINCH_landed             1136\n",
      "B_avg_DISTANCE_att              1136\n",
      "B_avg_opp_SIG_STR_att           1136\n",
      "B_avg_GROUND_att                1136\n",
      "B_avg_DISTANCE_landed           1136\n",
      "B_avg_HEAD_att                  1136\n",
      "B_avg_opp_LEG_att               1136\n",
      "B_avg_opp_GROUND_landed         1136\n",
      "B_avg_opp_PASS                  1136\n",
      "B_avg_opp_LEG_landed            1136\n",
      "B_avg_opp_REV                   1136\n",
      "B_avg_opp_KD                    1136\n",
      "B_avg_opp_HEAD_landed           1136\n",
      "B_avg_opp_HEAD_att              1136\n",
      "B_avg_HEAD_landed               1136\n",
      "R_avg_BODY_att                   554\n",
      "R_avg_BODY_landed                554\n",
      "R_avg_CLINCH_att                 554\n",
      "R_avg_GROUND_landed              554\n",
      "R_avg_CLINCH_landed              554\n",
      "R_avg_DISTANCE_att               554\n",
      "R_avg_DISTANCE_landed            554\n",
      "R_avg_GROUND_att                 554\n",
      "R_avg_PASS                       554\n",
      "R_avg_HEAD_att                   554\n",
      "R_avg_opp_SIG_STR_att            554\n",
      "R_avg_opp_GROUND_landed          554\n",
      "R_avg_opp_HEAD_att               554\n",
      "R_avg_opp_HEAD_landed            554\n",
      "R_avg_opp_KD                     554\n",
      "R_avg_opp_LEG_att                554\n",
      "R_avg_opp_LEG_landed             554\n",
      "R_avg_opp_PASS                   554\n",
      "R_avg_opp_REV                    554\n",
      "R_avg_opp_SIG_STR_landed         554\n",
      "R_avg_opp_DISTANCE_landed        554\n",
      "R_avg_opp_SIG_STR_pct            554\n",
      "R_avg_opp_SUB_ATT                554\n",
      "R_avg_opp_TD_att                 554\n",
      "R_avg_opp_TD_landed              554\n",
      "R_avg_opp_TD_pct                 554\n",
      "R_avg_opp_TOTAL_STR_att          554\n",
      "R_avg_opp_TOTAL_STR_landed       554\n",
      "R_total_time_fought(seconds)     554\n",
      "R_avg_HEAD_landed                554\n",
      "R_avg_opp_GROUND_att             554\n",
      "R_avg_opp_DISTANCE_att           554\n",
      "R_avg_TD_att                     554\n",
      "R_avg_KD                         554\n",
      "R_avg_LEG_att                    554\n",
      "R_avg_LEG_landed                 554\n",
      "R_avg_REV                        554\n",
      "R_avg_SIG_STR_att                554\n",
      "R_avg_SIG_STR_landed             554\n",
      "R_avg_SIG_STR_pct                554\n",
      "R_avg_opp_CLINCH_landed          554\n",
      "R_avg_SUB_ATT                    554\n",
      "R_avg_TD_landed                  554\n",
      "R_avg_TD_pct                     554\n",
      "R_avg_TOTAL_STR_att              554\n",
      "R_avg_TOTAL_STR_landed           554\n",
      "R_avg_opp_BODY_att               554\n",
      "R_avg_opp_BODY_landed            554\n",
      "R_avg_opp_CLINCH_att             554\n",
      "B_Reach_cms                      430\n",
      "B_Stance                         138\n",
      "R_Stance                         128\n",
      "R_Reach_cms                      118\n",
      "B_age                             44\n",
      "Referee                           22\n",
      "R_age                              6\n",
      "B_Height_cms                       2\n",
      "R_Height_cms                       2\n",
      "R_Weight_lbs                       1\n",
      "dtype: int64\n"
     ]
    }
   ],
   "source": [
    "missing = df.isnull().sum().sort_values(ascending=False)\n",
    "print(f'Number of Features in data with missing values: {len(missing[missing > 0])}\\n')\n",
    "print(missing[missing > 0])"
   ]
  },
  {
   "cell_type": "markdown",
   "metadata": {},
   "source": [
    "#### 편의를 위해 결측치 삭제"
   ]
  },
  {
   "cell_type": "code",
   "execution_count": 6,
   "metadata": {},
   "outputs": [],
   "source": [
    "drop_na = df[df['B_avg_opp_TD_att'].isnull()].index\n",
    "df = df.drop(drop_na, axis=0)\n",
    "drop_na = df[df['R_avg_opp_TD_att'].isnull()].index\n",
    "df = df.drop(drop_na, axis=0)\n",
    "drop_na = df[df['Winner'].isnull()].index\n",
    "df = df.drop(drop_na, axis=0)"
   ]
  },
  {
   "cell_type": "code",
   "execution_count": 7,
   "metadata": {},
   "outputs": [
    {
     "name": "stdout",
     "output_type": "stream",
     "text": [
      "Nan in Referee: 16\n",
      "Nan in B_Stance: 74\n",
      "Nan in B_Height_cms: 1\n",
      "Nan in B_Reach_cms: 172\n",
      "Nan in R_Stance: 76\n",
      "Nan in R_Reach_cms: 41\n",
      "Nan in B_age: 14\n",
      "Nan in R_age: 2\n"
     ]
    }
   ],
   "source": [
    "for column in df.columns:\n",
    "    if df[column].isnull().sum()!=0:\n",
    "        print(f\"Nan in {column}: {df[column].isnull().sum()}\")\n"
   ]
  },
  {
   "cell_type": "code",
   "execution_count": 8,
   "metadata": {},
   "outputs": [
    {
     "data": {
      "text/html": [
       "<div>\n",
       "<style scoped>\n",
       "    .dataframe tbody tr th:only-of-type {\n",
       "        vertical-align: middle;\n",
       "    }\n",
       "\n",
       "    .dataframe tbody tr th {\n",
       "        vertical-align: top;\n",
       "    }\n",
       "\n",
       "    .dataframe thead th {\n",
       "        text-align: right;\n",
       "    }\n",
       "</style>\n",
       "<table border=\"1\" class=\"dataframe\">\n",
       "  <thead>\n",
       "    <tr style=\"text-align: right;\">\n",
       "      <th></th>\n",
       "      <th>R_fighter</th>\n",
       "      <th>B_fighter</th>\n",
       "      <th>Referee</th>\n",
       "      <th>date</th>\n",
       "      <th>location</th>\n",
       "      <th>Winner</th>\n",
       "      <th>title_bout</th>\n",
       "      <th>weight_class</th>\n",
       "      <th>no_of_rounds</th>\n",
       "      <th>B_current_lose_streak</th>\n",
       "      <th>B_current_win_streak</th>\n",
       "      <th>B_draw</th>\n",
       "      <th>B_avg_BODY_att</th>\n",
       "      <th>B_avg_BODY_landed</th>\n",
       "      <th>B_avg_CLINCH_att</th>\n",
       "      <th>B_avg_CLINCH_landed</th>\n",
       "      <th>B_avg_DISTANCE_att</th>\n",
       "      <th>B_avg_DISTANCE_landed</th>\n",
       "      <th>B_avg_GROUND_att</th>\n",
       "      <th>B_avg_GROUND_landed</th>\n",
       "      <th>B_avg_HEAD_att</th>\n",
       "      <th>B_avg_HEAD_landed</th>\n",
       "      <th>B_avg_KD</th>\n",
       "      <th>B_avg_LEG_att</th>\n",
       "      <th>B_avg_LEG_landed</th>\n",
       "      <th>B_avg_PASS</th>\n",
       "      <th>B_avg_REV</th>\n",
       "      <th>B_avg_SIG_STR_att</th>\n",
       "      <th>B_avg_SIG_STR_landed</th>\n",
       "      <th>B_avg_SIG_STR_pct</th>\n",
       "      <th>B_avg_SUB_ATT</th>\n",
       "      <th>B_avg_TD_att</th>\n",
       "      <th>B_avg_TD_landed</th>\n",
       "      <th>B_avg_TD_pct</th>\n",
       "      <th>B_avg_TOTAL_STR_att</th>\n",
       "      <th>B_avg_TOTAL_STR_landed</th>\n",
       "      <th>B_longest_win_streak</th>\n",
       "      <th>B_losses</th>\n",
       "      <th>B_avg_opp_BODY_att</th>\n",
       "      <th>B_avg_opp_BODY_landed</th>\n",
       "      <th>B_avg_opp_CLINCH_att</th>\n",
       "      <th>B_avg_opp_CLINCH_landed</th>\n",
       "      <th>B_avg_opp_DISTANCE_att</th>\n",
       "      <th>B_avg_opp_DISTANCE_landed</th>\n",
       "      <th>B_avg_opp_GROUND_att</th>\n",
       "      <th>B_avg_opp_GROUND_landed</th>\n",
       "      <th>B_avg_opp_HEAD_att</th>\n",
       "      <th>B_avg_opp_HEAD_landed</th>\n",
       "      <th>B_avg_opp_KD</th>\n",
       "      <th>B_avg_opp_LEG_att</th>\n",
       "      <th>B_avg_opp_LEG_landed</th>\n",
       "      <th>B_avg_opp_PASS</th>\n",
       "      <th>B_avg_opp_REV</th>\n",
       "      <th>B_avg_opp_SIG_STR_att</th>\n",
       "      <th>B_avg_opp_SIG_STR_landed</th>\n",
       "      <th>B_avg_opp_SIG_STR_pct</th>\n",
       "      <th>B_avg_opp_SUB_ATT</th>\n",
       "      <th>B_avg_opp_TD_att</th>\n",
       "      <th>B_avg_opp_TD_landed</th>\n",
       "      <th>B_avg_opp_TD_pct</th>\n",
       "      <th>B_avg_opp_TOTAL_STR_att</th>\n",
       "      <th>B_avg_opp_TOTAL_STR_landed</th>\n",
       "      <th>B_total_rounds_fought</th>\n",
       "      <th>B_total_time_fought(seconds)</th>\n",
       "      <th>B_total_title_bouts</th>\n",
       "      <th>B_win_by_Decision_Majority</th>\n",
       "      <th>B_win_by_Decision_Split</th>\n",
       "      <th>B_win_by_Decision_Unanimous</th>\n",
       "      <th>B_win_by_KO/TKO</th>\n",
       "      <th>B_win_by_Submission</th>\n",
       "      <th>B_win_by_TKO_Doctor_Stoppage</th>\n",
       "      <th>B_wins</th>\n",
       "      <th>B_Stance</th>\n",
       "      <th>B_Height_cms</th>\n",
       "      <th>B_Reach_cms</th>\n",
       "      <th>B_Weight_lbs</th>\n",
       "      <th>R_current_lose_streak</th>\n",
       "      <th>R_current_win_streak</th>\n",
       "      <th>R_draw</th>\n",
       "      <th>R_avg_BODY_att</th>\n",
       "      <th>R_avg_BODY_landed</th>\n",
       "      <th>R_avg_CLINCH_att</th>\n",
       "      <th>R_avg_CLINCH_landed</th>\n",
       "      <th>R_avg_DISTANCE_att</th>\n",
       "      <th>R_avg_DISTANCE_landed</th>\n",
       "      <th>R_avg_GROUND_att</th>\n",
       "      <th>R_avg_GROUND_landed</th>\n",
       "      <th>R_avg_HEAD_att</th>\n",
       "      <th>R_avg_HEAD_landed</th>\n",
       "      <th>R_avg_KD</th>\n",
       "      <th>R_avg_LEG_att</th>\n",
       "      <th>R_avg_LEG_landed</th>\n",
       "      <th>R_avg_PASS</th>\n",
       "      <th>R_avg_REV</th>\n",
       "      <th>R_avg_SIG_STR_att</th>\n",
       "      <th>R_avg_SIG_STR_landed</th>\n",
       "      <th>R_avg_SIG_STR_pct</th>\n",
       "      <th>R_avg_SUB_ATT</th>\n",
       "      <th>R_avg_TD_att</th>\n",
       "      <th>R_avg_TD_landed</th>\n",
       "      <th>R_avg_TD_pct</th>\n",
       "      <th>R_avg_TOTAL_STR_att</th>\n",
       "      <th>R_avg_TOTAL_STR_landed</th>\n",
       "      <th>R_longest_win_streak</th>\n",
       "      <th>R_losses</th>\n",
       "      <th>R_avg_opp_BODY_att</th>\n",
       "      <th>R_avg_opp_BODY_landed</th>\n",
       "      <th>R_avg_opp_CLINCH_att</th>\n",
       "      <th>R_avg_opp_CLINCH_landed</th>\n",
       "      <th>R_avg_opp_DISTANCE_att</th>\n",
       "      <th>R_avg_opp_DISTANCE_landed</th>\n",
       "      <th>R_avg_opp_GROUND_att</th>\n",
       "      <th>R_avg_opp_GROUND_landed</th>\n",
       "      <th>R_avg_opp_HEAD_att</th>\n",
       "      <th>R_avg_opp_HEAD_landed</th>\n",
       "      <th>R_avg_opp_KD</th>\n",
       "      <th>R_avg_opp_LEG_att</th>\n",
       "      <th>R_avg_opp_LEG_landed</th>\n",
       "      <th>R_avg_opp_PASS</th>\n",
       "      <th>R_avg_opp_REV</th>\n",
       "      <th>R_avg_opp_SIG_STR_att</th>\n",
       "      <th>R_avg_opp_SIG_STR_landed</th>\n",
       "      <th>R_avg_opp_SIG_STR_pct</th>\n",
       "      <th>R_avg_opp_SUB_ATT</th>\n",
       "      <th>R_avg_opp_TD_att</th>\n",
       "      <th>R_avg_opp_TD_landed</th>\n",
       "      <th>R_avg_opp_TD_pct</th>\n",
       "      <th>R_avg_opp_TOTAL_STR_att</th>\n",
       "      <th>R_avg_opp_TOTAL_STR_landed</th>\n",
       "      <th>R_total_rounds_fought</th>\n",
       "      <th>R_total_time_fought(seconds)</th>\n",
       "      <th>R_total_title_bouts</th>\n",
       "      <th>R_win_by_Decision_Majority</th>\n",
       "      <th>R_win_by_Decision_Split</th>\n",
       "      <th>R_win_by_Decision_Unanimous</th>\n",
       "      <th>R_win_by_KO/TKO</th>\n",
       "      <th>R_win_by_Submission</th>\n",
       "      <th>R_win_by_TKO_Doctor_Stoppage</th>\n",
       "      <th>R_wins</th>\n",
       "      <th>R_Stance</th>\n",
       "      <th>R_Height_cms</th>\n",
       "      <th>R_Reach_cms</th>\n",
       "      <th>R_Weight_lbs</th>\n",
       "      <th>B_age</th>\n",
       "      <th>R_age</th>\n",
       "    </tr>\n",
       "  </thead>\n",
       "  <tbody>\n",
       "    <tr>\n",
       "      <th>0</th>\n",
       "      <td>Henry Cejudo</td>\n",
       "      <td>Marlon Moraes</td>\n",
       "      <td>Marc Goddard</td>\n",
       "      <td>2019-06-08</td>\n",
       "      <td>Chicago, Illinois, USA</td>\n",
       "      <td>Red</td>\n",
       "      <td>True</td>\n",
       "      <td>Bantamweight</td>\n",
       "      <td>5</td>\n",
       "      <td>0.0</td>\n",
       "      <td>4.0</td>\n",
       "      <td>0.0</td>\n",
       "      <td>9.200000</td>\n",
       "      <td>6.000000</td>\n",
       "      <td>0.200000</td>\n",
       "      <td>0.000000</td>\n",
       "      <td>62.600000</td>\n",
       "      <td>20.600000</td>\n",
       "      <td>2.600000</td>\n",
       "      <td>2.000000</td>\n",
       "      <td>48.600000</td>\n",
       "      <td>11.200000</td>\n",
       "      <td>0.800000</td>\n",
       "      <td>7.6</td>\n",
       "      <td>5.400000</td>\n",
       "      <td>0.400000</td>\n",
       "      <td>0.000000</td>\n",
       "      <td>65.4</td>\n",
       "      <td>22.600000</td>\n",
       "      <td>0.466000</td>\n",
       "      <td>0.400000</td>\n",
       "      <td>0.80000</td>\n",
       "      <td>0.200000</td>\n",
       "      <td>0.100000</td>\n",
       "      <td>66.400000</td>\n",
       "      <td>23.600000</td>\n",
       "      <td>4.0</td>\n",
       "      <td>1.0</td>\n",
       "      <td>6.400000</td>\n",
       "      <td>4.000000</td>\n",
       "      <td>1.000000</td>\n",
       "      <td>0.60000</td>\n",
       "      <td>51.200000</td>\n",
       "      <td>17.400000</td>\n",
       "      <td>0.600000</td>\n",
       "      <td>0.200000</td>\n",
       "      <td>39.600000</td>\n",
       "      <td>9.400000</td>\n",
       "      <td>0.200000</td>\n",
       "      <td>6.80000</td>\n",
       "      <td>4.800000</td>\n",
       "      <td>0.000000</td>\n",
       "      <td>0.000000</td>\n",
       "      <td>52.800000</td>\n",
       "      <td>18.20000</td>\n",
       "      <td>0.236000</td>\n",
       "      <td>0.000000</td>\n",
       "      <td>1.000000</td>\n",
       "      <td>0.400000</td>\n",
       "      <td>0.100000</td>\n",
       "      <td>53.800000</td>\n",
       "      <td>19.200000</td>\n",
       "      <td>9.0</td>\n",
       "      <td>419.400000</td>\n",
       "      <td>0.0</td>\n",
       "      <td>0.0</td>\n",
       "      <td>1.0</td>\n",
       "      <td>0.0</td>\n",
       "      <td>2.0</td>\n",
       "      <td>1.0</td>\n",
       "      <td>0.0</td>\n",
       "      <td>4.0</td>\n",
       "      <td>Orthodox</td>\n",
       "      <td>167.64</td>\n",
       "      <td>170.18</td>\n",
       "      <td>135.0</td>\n",
       "      <td>0.0</td>\n",
       "      <td>4.0</td>\n",
       "      <td>0.0</td>\n",
       "      <td>21.900000</td>\n",
       "      <td>16.400000</td>\n",
       "      <td>17.000000</td>\n",
       "      <td>11.000000</td>\n",
       "      <td>75.000000</td>\n",
       "      <td>26.500000</td>\n",
       "      <td>9.400000</td>\n",
       "      <td>6.500000</td>\n",
       "      <td>74.200000</td>\n",
       "      <td>23.9</td>\n",
       "      <td>0.4</td>\n",
       "      <td>5.300000</td>\n",
       "      <td>3.700000</td>\n",
       "      <td>1.200000</td>\n",
       "      <td>0.000000</td>\n",
       "      <td>101.400000</td>\n",
       "      <td>44.000000</td>\n",
       "      <td>0.466000</td>\n",
       "      <td>0.100000</td>\n",
       "      <td>5.300000</td>\n",
       "      <td>1.900000</td>\n",
       "      <td>0.458000</td>\n",
       "      <td>129.900000</td>\n",
       "      <td>69.100000</td>\n",
       "      <td>4.0</td>\n",
       "      <td>2.0</td>\n",
       "      <td>13.300000</td>\n",
       "      <td>8.800000</td>\n",
       "      <td>7.500000</td>\n",
       "      <td>5.100000</td>\n",
       "      <td>90.500000</td>\n",
       "      <td>26.800000</td>\n",
       "      <td>0.800000</td>\n",
       "      <td>0.300000</td>\n",
       "      <td>76.100000</td>\n",
       "      <td>17.300000</td>\n",
       "      <td>0.100000</td>\n",
       "      <td>9.400000</td>\n",
       "      <td>6.100000</td>\n",
       "      <td>0.000000</td>\n",
       "      <td>0.000000</td>\n",
       "      <td>98.800000</td>\n",
       "      <td>32.200000</td>\n",
       "      <td>0.336000</td>\n",
       "      <td>0.000000</td>\n",
       "      <td>0.900000</td>\n",
       "      <td>0.100000</td>\n",
       "      <td>0.050000</td>\n",
       "      <td>110.500000</td>\n",
       "      <td>43.300000</td>\n",
       "      <td>27.0</td>\n",
       "      <td>742.6</td>\n",
       "      <td>3.0</td>\n",
       "      <td>0.0</td>\n",
       "      <td>2.0</td>\n",
       "      <td>4.0</td>\n",
       "      <td>2.0</td>\n",
       "      <td>0.0</td>\n",
       "      <td>0.0</td>\n",
       "      <td>8.0</td>\n",
       "      <td>Orthodox</td>\n",
       "      <td>162.56</td>\n",
       "      <td>162.56</td>\n",
       "      <td>135.0</td>\n",
       "      <td>31.0</td>\n",
       "      <td>32.0</td>\n",
       "    </tr>\n",
       "    <tr>\n",
       "      <th>1</th>\n",
       "      <td>Valentina Shevchenko</td>\n",
       "      <td>Jessica Eye</td>\n",
       "      <td>Robert Madrigal</td>\n",
       "      <td>2019-06-08</td>\n",
       "      <td>Chicago, Illinois, USA</td>\n",
       "      <td>Red</td>\n",
       "      <td>True</td>\n",
       "      <td>Women's Flyweight</td>\n",
       "      <td>5</td>\n",
       "      <td>0.0</td>\n",
       "      <td>3.0</td>\n",
       "      <td>0.0</td>\n",
       "      <td>14.600000</td>\n",
       "      <td>9.100000</td>\n",
       "      <td>11.800000</td>\n",
       "      <td>7.300000</td>\n",
       "      <td>124.700000</td>\n",
       "      <td>42.100000</td>\n",
       "      <td>2.400000</td>\n",
       "      <td>1.900000</td>\n",
       "      <td>112.000000</td>\n",
       "      <td>32.000000</td>\n",
       "      <td>0.000000</td>\n",
       "      <td>12.3</td>\n",
       "      <td>10.200000</td>\n",
       "      <td>0.800000</td>\n",
       "      <td>0.000000</td>\n",
       "      <td>138.9</td>\n",
       "      <td>51.300000</td>\n",
       "      <td>0.399000</td>\n",
       "      <td>0.700000</td>\n",
       "      <td>1.00000</td>\n",
       "      <td>0.500000</td>\n",
       "      <td>0.225000</td>\n",
       "      <td>158.700000</td>\n",
       "      <td>69.600000</td>\n",
       "      <td>3.0</td>\n",
       "      <td>6.0</td>\n",
       "      <td>13.000000</td>\n",
       "      <td>9.300000</td>\n",
       "      <td>12.800000</td>\n",
       "      <td>9.60000</td>\n",
       "      <td>101.700000</td>\n",
       "      <td>32.000000</td>\n",
       "      <td>8.100000</td>\n",
       "      <td>6.900000</td>\n",
       "      <td>97.700000</td>\n",
       "      <td>30.800000</td>\n",
       "      <td>0.100000</td>\n",
       "      <td>11.90000</td>\n",
       "      <td>8.400000</td>\n",
       "      <td>1.400000</td>\n",
       "      <td>0.000000</td>\n",
       "      <td>122.600000</td>\n",
       "      <td>48.50000</td>\n",
       "      <td>0.408000</td>\n",
       "      <td>0.700000</td>\n",
       "      <td>2.300000</td>\n",
       "      <td>0.900000</td>\n",
       "      <td>0.231000</td>\n",
       "      <td>151.500000</td>\n",
       "      <td>75.400000</td>\n",
       "      <td>29.0</td>\n",
       "      <td>849.000000</td>\n",
       "      <td>0.0</td>\n",
       "      <td>0.0</td>\n",
       "      <td>2.0</td>\n",
       "      <td>1.0</td>\n",
       "      <td>0.0</td>\n",
       "      <td>0.0</td>\n",
       "      <td>1.0</td>\n",
       "      <td>4.0</td>\n",
       "      <td>Orthodox</td>\n",
       "      <td>167.64</td>\n",
       "      <td>167.64</td>\n",
       "      <td>125.0</td>\n",
       "      <td>0.0</td>\n",
       "      <td>2.0</td>\n",
       "      <td>0.0</td>\n",
       "      <td>12.000000</td>\n",
       "      <td>7.714286</td>\n",
       "      <td>9.285714</td>\n",
       "      <td>6.857143</td>\n",
       "      <td>88.142857</td>\n",
       "      <td>36.142857</td>\n",
       "      <td>18.428571</td>\n",
       "      <td>16.428571</td>\n",
       "      <td>84.571429</td>\n",
       "      <td>37.0</td>\n",
       "      <td>0.0</td>\n",
       "      <td>19.285714</td>\n",
       "      <td>14.714286</td>\n",
       "      <td>1.714286</td>\n",
       "      <td>0.142857</td>\n",
       "      <td>115.857143</td>\n",
       "      <td>59.428571</td>\n",
       "      <td>0.575714</td>\n",
       "      <td>0.428571</td>\n",
       "      <td>5.142857</td>\n",
       "      <td>2.428571</td>\n",
       "      <td>0.601429</td>\n",
       "      <td>161.571429</td>\n",
       "      <td>102.857143</td>\n",
       "      <td>2.0</td>\n",
       "      <td>2.0</td>\n",
       "      <td>24.571429</td>\n",
       "      <td>14.142857</td>\n",
       "      <td>10.571429</td>\n",
       "      <td>7.857143</td>\n",
       "      <td>98.571429</td>\n",
       "      <td>32.571429</td>\n",
       "      <td>6.428571</td>\n",
       "      <td>4.285714</td>\n",
       "      <td>61.857143</td>\n",
       "      <td>12.428571</td>\n",
       "      <td>0.000000</td>\n",
       "      <td>29.142857</td>\n",
       "      <td>18.142857</td>\n",
       "      <td>1.142857</td>\n",
       "      <td>0.000000</td>\n",
       "      <td>115.571429</td>\n",
       "      <td>44.714286</td>\n",
       "      <td>0.437143</td>\n",
       "      <td>0.285714</td>\n",
       "      <td>3.285714</td>\n",
       "      <td>0.857143</td>\n",
       "      <td>0.147143</td>\n",
       "      <td>158.142857</td>\n",
       "      <td>82.285714</td>\n",
       "      <td>25.0</td>\n",
       "      <td>1062.0</td>\n",
       "      <td>2.0</td>\n",
       "      <td>0.0</td>\n",
       "      <td>1.0</td>\n",
       "      <td>2.0</td>\n",
       "      <td>0.0</td>\n",
       "      <td>2.0</td>\n",
       "      <td>0.0</td>\n",
       "      <td>5.0</td>\n",
       "      <td>Southpaw</td>\n",
       "      <td>165.10</td>\n",
       "      <td>167.64</td>\n",
       "      <td>125.0</td>\n",
       "      <td>32.0</td>\n",
       "      <td>31.0</td>\n",
       "    </tr>\n",
       "    <tr>\n",
       "      <th>2</th>\n",
       "      <td>Tony Ferguson</td>\n",
       "      <td>Donald Cerrone</td>\n",
       "      <td>Dan Miragliotta</td>\n",
       "      <td>2019-06-08</td>\n",
       "      <td>Chicago, Illinois, USA</td>\n",
       "      <td>Red</td>\n",
       "      <td>False</td>\n",
       "      <td>Lightweight</td>\n",
       "      <td>3</td>\n",
       "      <td>0.0</td>\n",
       "      <td>3.0</td>\n",
       "      <td>0.0</td>\n",
       "      <td>15.354839</td>\n",
       "      <td>11.322581</td>\n",
       "      <td>6.741935</td>\n",
       "      <td>4.387097</td>\n",
       "      <td>84.741935</td>\n",
       "      <td>38.580645</td>\n",
       "      <td>5.516129</td>\n",
       "      <td>3.806452</td>\n",
       "      <td>67.645161</td>\n",
       "      <td>23.258065</td>\n",
       "      <td>0.645161</td>\n",
       "      <td>14.0</td>\n",
       "      <td>12.193548</td>\n",
       "      <td>0.935484</td>\n",
       "      <td>0.096774</td>\n",
       "      <td>97.0</td>\n",
       "      <td>46.774194</td>\n",
       "      <td>0.496129</td>\n",
       "      <td>0.354839</td>\n",
       "      <td>2.16129</td>\n",
       "      <td>0.677419</td>\n",
       "      <td>0.295484</td>\n",
       "      <td>103.709677</td>\n",
       "      <td>52.548387</td>\n",
       "      <td>8.0</td>\n",
       "      <td>8.0</td>\n",
       "      <td>17.903226</td>\n",
       "      <td>11.870968</td>\n",
       "      <td>8.419355</td>\n",
       "      <td>5.83871</td>\n",
       "      <td>84.548387</td>\n",
       "      <td>38.064516</td>\n",
       "      <td>1.741935</td>\n",
       "      <td>0.935484</td>\n",
       "      <td>67.645161</td>\n",
       "      <td>25.483871</td>\n",
       "      <td>0.225806</td>\n",
       "      <td>9.16129</td>\n",
       "      <td>7.483871</td>\n",
       "      <td>0.032258</td>\n",
       "      <td>0.032258</td>\n",
       "      <td>94.709677</td>\n",
       "      <td>44.83871</td>\n",
       "      <td>0.453226</td>\n",
       "      <td>0.096774</td>\n",
       "      <td>2.096774</td>\n",
       "      <td>0.225806</td>\n",
       "      <td>0.063548</td>\n",
       "      <td>100.387097</td>\n",
       "      <td>49.774194</td>\n",
       "      <td>68.0</td>\n",
       "      <td>581.870968</td>\n",
       "      <td>1.0</td>\n",
       "      <td>0.0</td>\n",
       "      <td>0.0</td>\n",
       "      <td>7.0</td>\n",
       "      <td>10.0</td>\n",
       "      <td>6.0</td>\n",
       "      <td>0.0</td>\n",
       "      <td>23.0</td>\n",
       "      <td>Orthodox</td>\n",
       "      <td>185.42</td>\n",
       "      <td>185.42</td>\n",
       "      <td>155.0</td>\n",
       "      <td>0.0</td>\n",
       "      <td>11.0</td>\n",
       "      <td>0.0</td>\n",
       "      <td>13.866667</td>\n",
       "      <td>8.666667</td>\n",
       "      <td>2.866667</td>\n",
       "      <td>1.733333</td>\n",
       "      <td>116.133333</td>\n",
       "      <td>49.466667</td>\n",
       "      <td>5.333333</td>\n",
       "      <td>4.266667</td>\n",
       "      <td>96.733333</td>\n",
       "      <td>35.6</td>\n",
       "      <td>0.2</td>\n",
       "      <td>13.733333</td>\n",
       "      <td>11.200000</td>\n",
       "      <td>0.333333</td>\n",
       "      <td>0.133333</td>\n",
       "      <td>124.333333</td>\n",
       "      <td>55.466667</td>\n",
       "      <td>0.430000</td>\n",
       "      <td>1.000000</td>\n",
       "      <td>0.933333</td>\n",
       "      <td>0.400000</td>\n",
       "      <td>0.277333</td>\n",
       "      <td>133.000000</td>\n",
       "      <td>63.400000</td>\n",
       "      <td>11.0</td>\n",
       "      <td>1.0</td>\n",
       "      <td>14.466667</td>\n",
       "      <td>8.133333</td>\n",
       "      <td>2.800000</td>\n",
       "      <td>0.733333</td>\n",
       "      <td>91.066667</td>\n",
       "      <td>32.200000</td>\n",
       "      <td>4.866667</td>\n",
       "      <td>2.800000</td>\n",
       "      <td>78.266667</td>\n",
       "      <td>23.200000</td>\n",
       "      <td>0.266667</td>\n",
       "      <td>6.000000</td>\n",
       "      <td>4.400000</td>\n",
       "      <td>0.333333</td>\n",
       "      <td>0.133333</td>\n",
       "      <td>98.733333</td>\n",
       "      <td>35.733333</td>\n",
       "      <td>0.340000</td>\n",
       "      <td>0.066667</td>\n",
       "      <td>2.866667</td>\n",
       "      <td>0.666667</td>\n",
       "      <td>0.131333</td>\n",
       "      <td>102.133333</td>\n",
       "      <td>38.600000</td>\n",
       "      <td>33.0</td>\n",
       "      <td>604.4</td>\n",
       "      <td>2.0</td>\n",
       "      <td>0.0</td>\n",
       "      <td>1.0</td>\n",
       "      <td>3.0</td>\n",
       "      <td>3.0</td>\n",
       "      <td>6.0</td>\n",
       "      <td>1.0</td>\n",
       "      <td>14.0</td>\n",
       "      <td>Orthodox</td>\n",
       "      <td>180.34</td>\n",
       "      <td>193.04</td>\n",
       "      <td>155.0</td>\n",
       "      <td>36.0</td>\n",
       "      <td>35.0</td>\n",
       "    </tr>\n",
       "  </tbody>\n",
       "</table>\n",
       "</div>"
      ],
      "text/plain": [
       "              R_fighter       B_fighter          Referee        date  \\\n",
       "0          Henry Cejudo   Marlon Moraes     Marc Goddard  2019-06-08   \n",
       "1  Valentina Shevchenko     Jessica Eye  Robert Madrigal  2019-06-08   \n",
       "2         Tony Ferguson  Donald Cerrone  Dan Miragliotta  2019-06-08   \n",
       "\n",
       "                 location Winner  title_bout       weight_class  no_of_rounds  \\\n",
       "0  Chicago, Illinois, USA    Red        True       Bantamweight             5   \n",
       "1  Chicago, Illinois, USA    Red        True  Women's Flyweight             5   \n",
       "2  Chicago, Illinois, USA    Red       False        Lightweight             3   \n",
       "\n",
       "   B_current_lose_streak  B_current_win_streak  B_draw  B_avg_BODY_att  \\\n",
       "0                    0.0                   4.0     0.0        9.200000   \n",
       "1                    0.0                   3.0     0.0       14.600000   \n",
       "2                    0.0                   3.0     0.0       15.354839   \n",
       "\n",
       "   B_avg_BODY_landed  B_avg_CLINCH_att  B_avg_CLINCH_landed  \\\n",
       "0           6.000000          0.200000             0.000000   \n",
       "1           9.100000         11.800000             7.300000   \n",
       "2          11.322581          6.741935             4.387097   \n",
       "\n",
       "   B_avg_DISTANCE_att  B_avg_DISTANCE_landed  B_avg_GROUND_att  \\\n",
       "0           62.600000              20.600000          2.600000   \n",
       "1          124.700000              42.100000          2.400000   \n",
       "2           84.741935              38.580645          5.516129   \n",
       "\n",
       "   B_avg_GROUND_landed  B_avg_HEAD_att  B_avg_HEAD_landed  B_avg_KD  \\\n",
       "0             2.000000       48.600000          11.200000  0.800000   \n",
       "1             1.900000      112.000000          32.000000  0.000000   \n",
       "2             3.806452       67.645161          23.258065  0.645161   \n",
       "\n",
       "   B_avg_LEG_att  B_avg_LEG_landed  B_avg_PASS  B_avg_REV  B_avg_SIG_STR_att  \\\n",
       "0            7.6          5.400000    0.400000   0.000000               65.4   \n",
       "1           12.3         10.200000    0.800000   0.000000              138.9   \n",
       "2           14.0         12.193548    0.935484   0.096774               97.0   \n",
       "\n",
       "   B_avg_SIG_STR_landed  B_avg_SIG_STR_pct  B_avg_SUB_ATT  B_avg_TD_att  \\\n",
       "0             22.600000           0.466000       0.400000       0.80000   \n",
       "1             51.300000           0.399000       0.700000       1.00000   \n",
       "2             46.774194           0.496129       0.354839       2.16129   \n",
       "\n",
       "   B_avg_TD_landed  B_avg_TD_pct  B_avg_TOTAL_STR_att  B_avg_TOTAL_STR_landed  \\\n",
       "0         0.200000      0.100000            66.400000               23.600000   \n",
       "1         0.500000      0.225000           158.700000               69.600000   \n",
       "2         0.677419      0.295484           103.709677               52.548387   \n",
       "\n",
       "   B_longest_win_streak  B_losses  B_avg_opp_BODY_att  B_avg_opp_BODY_landed  \\\n",
       "0                   4.0       1.0            6.400000               4.000000   \n",
       "1                   3.0       6.0           13.000000               9.300000   \n",
       "2                   8.0       8.0           17.903226              11.870968   \n",
       "\n",
       "   B_avg_opp_CLINCH_att  B_avg_opp_CLINCH_landed  B_avg_opp_DISTANCE_att  \\\n",
       "0              1.000000                  0.60000               51.200000   \n",
       "1             12.800000                  9.60000              101.700000   \n",
       "2              8.419355                  5.83871               84.548387   \n",
       "\n",
       "   B_avg_opp_DISTANCE_landed  B_avg_opp_GROUND_att  B_avg_opp_GROUND_landed  \\\n",
       "0                  17.400000              0.600000                 0.200000   \n",
       "1                  32.000000              8.100000                 6.900000   \n",
       "2                  38.064516              1.741935                 0.935484   \n",
       "\n",
       "   B_avg_opp_HEAD_att  B_avg_opp_HEAD_landed  B_avg_opp_KD  B_avg_opp_LEG_att  \\\n",
       "0           39.600000               9.400000      0.200000            6.80000   \n",
       "1           97.700000              30.800000      0.100000           11.90000   \n",
       "2           67.645161              25.483871      0.225806            9.16129   \n",
       "\n",
       "   B_avg_opp_LEG_landed  B_avg_opp_PASS  B_avg_opp_REV  B_avg_opp_SIG_STR_att  \\\n",
       "0              4.800000        0.000000       0.000000              52.800000   \n",
       "1              8.400000        1.400000       0.000000             122.600000   \n",
       "2              7.483871        0.032258       0.032258              94.709677   \n",
       "\n",
       "   B_avg_opp_SIG_STR_landed  B_avg_opp_SIG_STR_pct  B_avg_opp_SUB_ATT  \\\n",
       "0                  18.20000               0.236000           0.000000   \n",
       "1                  48.50000               0.408000           0.700000   \n",
       "2                  44.83871               0.453226           0.096774   \n",
       "\n",
       "   B_avg_opp_TD_att  B_avg_opp_TD_landed  B_avg_opp_TD_pct  \\\n",
       "0          1.000000             0.400000          0.100000   \n",
       "1          2.300000             0.900000          0.231000   \n",
       "2          2.096774             0.225806          0.063548   \n",
       "\n",
       "   B_avg_opp_TOTAL_STR_att  B_avg_opp_TOTAL_STR_landed  B_total_rounds_fought  \\\n",
       "0                53.800000                   19.200000                    9.0   \n",
       "1               151.500000                   75.400000                   29.0   \n",
       "2               100.387097                   49.774194                   68.0   \n",
       "\n",
       "   B_total_time_fought(seconds)  B_total_title_bouts  \\\n",
       "0                    419.400000                  0.0   \n",
       "1                    849.000000                  0.0   \n",
       "2                    581.870968                  1.0   \n",
       "\n",
       "   B_win_by_Decision_Majority  B_win_by_Decision_Split  \\\n",
       "0                         0.0                      1.0   \n",
       "1                         0.0                      2.0   \n",
       "2                         0.0                      0.0   \n",
       "\n",
       "   B_win_by_Decision_Unanimous  B_win_by_KO/TKO  B_win_by_Submission  \\\n",
       "0                          0.0              2.0                  1.0   \n",
       "1                          1.0              0.0                  0.0   \n",
       "2                          7.0             10.0                  6.0   \n",
       "\n",
       "   B_win_by_TKO_Doctor_Stoppage  B_wins  B_Stance  B_Height_cms  B_Reach_cms  \\\n",
       "0                           0.0     4.0  Orthodox        167.64       170.18   \n",
       "1                           1.0     4.0  Orthodox        167.64       167.64   \n",
       "2                           0.0    23.0  Orthodox        185.42       185.42   \n",
       "\n",
       "   B_Weight_lbs  R_current_lose_streak  R_current_win_streak  R_draw  \\\n",
       "0         135.0                    0.0                   4.0     0.0   \n",
       "1         125.0                    0.0                   2.0     0.0   \n",
       "2         155.0                    0.0                  11.0     0.0   \n",
       "\n",
       "   R_avg_BODY_att  R_avg_BODY_landed  R_avg_CLINCH_att  R_avg_CLINCH_landed  \\\n",
       "0       21.900000          16.400000         17.000000            11.000000   \n",
       "1       12.000000           7.714286          9.285714             6.857143   \n",
       "2       13.866667           8.666667          2.866667             1.733333   \n",
       "\n",
       "   R_avg_DISTANCE_att  R_avg_DISTANCE_landed  R_avg_GROUND_att  \\\n",
       "0           75.000000              26.500000          9.400000   \n",
       "1           88.142857              36.142857         18.428571   \n",
       "2          116.133333              49.466667          5.333333   \n",
       "\n",
       "   R_avg_GROUND_landed  R_avg_HEAD_att  R_avg_HEAD_landed  R_avg_KD  \\\n",
       "0             6.500000       74.200000               23.9       0.4   \n",
       "1            16.428571       84.571429               37.0       0.0   \n",
       "2             4.266667       96.733333               35.6       0.2   \n",
       "\n",
       "   R_avg_LEG_att  R_avg_LEG_landed  R_avg_PASS  R_avg_REV  R_avg_SIG_STR_att  \\\n",
       "0       5.300000          3.700000    1.200000   0.000000         101.400000   \n",
       "1      19.285714         14.714286    1.714286   0.142857         115.857143   \n",
       "2      13.733333         11.200000    0.333333   0.133333         124.333333   \n",
       "\n",
       "   R_avg_SIG_STR_landed  R_avg_SIG_STR_pct  R_avg_SUB_ATT  R_avg_TD_att  \\\n",
       "0             44.000000           0.466000       0.100000      5.300000   \n",
       "1             59.428571           0.575714       0.428571      5.142857   \n",
       "2             55.466667           0.430000       1.000000      0.933333   \n",
       "\n",
       "   R_avg_TD_landed  R_avg_TD_pct  R_avg_TOTAL_STR_att  R_avg_TOTAL_STR_landed  \\\n",
       "0         1.900000      0.458000           129.900000               69.100000   \n",
       "1         2.428571      0.601429           161.571429              102.857143   \n",
       "2         0.400000      0.277333           133.000000               63.400000   \n",
       "\n",
       "   R_longest_win_streak  R_losses  R_avg_opp_BODY_att  R_avg_opp_BODY_landed  \\\n",
       "0                   4.0       2.0           13.300000               8.800000   \n",
       "1                   2.0       2.0           24.571429              14.142857   \n",
       "2                  11.0       1.0           14.466667               8.133333   \n",
       "\n",
       "   R_avg_opp_CLINCH_att  R_avg_opp_CLINCH_landed  R_avg_opp_DISTANCE_att  \\\n",
       "0              7.500000                 5.100000               90.500000   \n",
       "1             10.571429                 7.857143               98.571429   \n",
       "2              2.800000                 0.733333               91.066667   \n",
       "\n",
       "   R_avg_opp_DISTANCE_landed  R_avg_opp_GROUND_att  R_avg_opp_GROUND_landed  \\\n",
       "0                  26.800000              0.800000                 0.300000   \n",
       "1                  32.571429              6.428571                 4.285714   \n",
       "2                  32.200000              4.866667                 2.800000   \n",
       "\n",
       "   R_avg_opp_HEAD_att  R_avg_opp_HEAD_landed  R_avg_opp_KD  R_avg_opp_LEG_att  \\\n",
       "0           76.100000              17.300000      0.100000           9.400000   \n",
       "1           61.857143              12.428571      0.000000          29.142857   \n",
       "2           78.266667              23.200000      0.266667           6.000000   \n",
       "\n",
       "   R_avg_opp_LEG_landed  R_avg_opp_PASS  R_avg_opp_REV  R_avg_opp_SIG_STR_att  \\\n",
       "0              6.100000        0.000000       0.000000              98.800000   \n",
       "1             18.142857        1.142857       0.000000             115.571429   \n",
       "2              4.400000        0.333333       0.133333              98.733333   \n",
       "\n",
       "   R_avg_opp_SIG_STR_landed  R_avg_opp_SIG_STR_pct  R_avg_opp_SUB_ATT  \\\n",
       "0                 32.200000               0.336000           0.000000   \n",
       "1                 44.714286               0.437143           0.285714   \n",
       "2                 35.733333               0.340000           0.066667   \n",
       "\n",
       "   R_avg_opp_TD_att  R_avg_opp_TD_landed  R_avg_opp_TD_pct  \\\n",
       "0          0.900000             0.100000          0.050000   \n",
       "1          3.285714             0.857143          0.147143   \n",
       "2          2.866667             0.666667          0.131333   \n",
       "\n",
       "   R_avg_opp_TOTAL_STR_att  R_avg_opp_TOTAL_STR_landed  R_total_rounds_fought  \\\n",
       "0               110.500000                   43.300000                   27.0   \n",
       "1               158.142857                   82.285714                   25.0   \n",
       "2               102.133333                   38.600000                   33.0   \n",
       "\n",
       "   R_total_time_fought(seconds)  R_total_title_bouts  \\\n",
       "0                         742.6                  3.0   \n",
       "1                        1062.0                  2.0   \n",
       "2                         604.4                  2.0   \n",
       "\n",
       "   R_win_by_Decision_Majority  R_win_by_Decision_Split  \\\n",
       "0                         0.0                      2.0   \n",
       "1                         0.0                      1.0   \n",
       "2                         0.0                      1.0   \n",
       "\n",
       "   R_win_by_Decision_Unanimous  R_win_by_KO/TKO  R_win_by_Submission  \\\n",
       "0                          4.0              2.0                  0.0   \n",
       "1                          2.0              0.0                  2.0   \n",
       "2                          3.0              3.0                  6.0   \n",
       "\n",
       "   R_win_by_TKO_Doctor_Stoppage  R_wins  R_Stance  R_Height_cms  R_Reach_cms  \\\n",
       "0                           0.0     8.0  Orthodox        162.56       162.56   \n",
       "1                           0.0     5.0  Southpaw        165.10       167.64   \n",
       "2                           1.0    14.0  Orthodox        180.34       193.04   \n",
       "\n",
       "   R_Weight_lbs  B_age  R_age  \n",
       "0         135.0   31.0   32.0  \n",
       "1         125.0   32.0   31.0  \n",
       "2         155.0   36.0   35.0  "
      ]
     },
     "execution_count": 8,
     "metadata": {},
     "output_type": "execute_result"
    }
   ],
   "source": [
    "df.head(3)"
   ]
  },
  {
   "cell_type": "code",
   "execution_count": 9,
   "metadata": {},
   "outputs": [
    {
     "data": {
      "text/html": [
       "<div>\n",
       "<style scoped>\n",
       "    .dataframe tbody tr th:only-of-type {\n",
       "        vertical-align: middle;\n",
       "    }\n",
       "\n",
       "    .dataframe tbody tr th {\n",
       "        vertical-align: top;\n",
       "    }\n",
       "\n",
       "    .dataframe thead th {\n",
       "        text-align: right;\n",
       "    }\n",
       "</style>\n",
       "<table border=\"1\" class=\"dataframe\">\n",
       "  <thead>\n",
       "    <tr style=\"text-align: right;\">\n",
       "      <th></th>\n",
       "      <th>no_of_rounds</th>\n",
       "      <th>B_current_lose_streak</th>\n",
       "      <th>B_current_win_streak</th>\n",
       "      <th>B_draw</th>\n",
       "      <th>B_avg_BODY_att</th>\n",
       "      <th>B_avg_BODY_landed</th>\n",
       "      <th>B_avg_CLINCH_att</th>\n",
       "      <th>B_avg_CLINCH_landed</th>\n",
       "      <th>B_avg_DISTANCE_att</th>\n",
       "      <th>B_avg_DISTANCE_landed</th>\n",
       "      <th>B_avg_GROUND_att</th>\n",
       "      <th>B_avg_GROUND_landed</th>\n",
       "      <th>B_avg_HEAD_att</th>\n",
       "      <th>B_avg_HEAD_landed</th>\n",
       "      <th>B_avg_KD</th>\n",
       "      <th>B_avg_LEG_att</th>\n",
       "      <th>B_avg_LEG_landed</th>\n",
       "      <th>B_avg_PASS</th>\n",
       "      <th>B_avg_REV</th>\n",
       "      <th>B_avg_SIG_STR_att</th>\n",
       "      <th>B_avg_SIG_STR_landed</th>\n",
       "      <th>B_avg_SIG_STR_pct</th>\n",
       "      <th>B_avg_SUB_ATT</th>\n",
       "      <th>B_avg_TD_att</th>\n",
       "      <th>B_avg_TD_landed</th>\n",
       "      <th>B_avg_TD_pct</th>\n",
       "      <th>B_avg_TOTAL_STR_att</th>\n",
       "      <th>B_avg_TOTAL_STR_landed</th>\n",
       "      <th>B_longest_win_streak</th>\n",
       "      <th>B_losses</th>\n",
       "      <th>B_avg_opp_BODY_att</th>\n",
       "      <th>B_avg_opp_BODY_landed</th>\n",
       "      <th>B_avg_opp_CLINCH_att</th>\n",
       "      <th>B_avg_opp_CLINCH_landed</th>\n",
       "      <th>B_avg_opp_DISTANCE_att</th>\n",
       "      <th>B_avg_opp_DISTANCE_landed</th>\n",
       "      <th>B_avg_opp_GROUND_att</th>\n",
       "      <th>B_avg_opp_GROUND_landed</th>\n",
       "      <th>B_avg_opp_HEAD_att</th>\n",
       "      <th>B_avg_opp_HEAD_landed</th>\n",
       "      <th>B_avg_opp_KD</th>\n",
       "      <th>B_avg_opp_LEG_att</th>\n",
       "      <th>B_avg_opp_LEG_landed</th>\n",
       "      <th>B_avg_opp_PASS</th>\n",
       "      <th>B_avg_opp_REV</th>\n",
       "      <th>B_avg_opp_SIG_STR_att</th>\n",
       "      <th>B_avg_opp_SIG_STR_landed</th>\n",
       "      <th>B_avg_opp_SIG_STR_pct</th>\n",
       "      <th>B_avg_opp_SUB_ATT</th>\n",
       "      <th>B_avg_opp_TD_att</th>\n",
       "      <th>B_avg_opp_TD_landed</th>\n",
       "      <th>B_avg_opp_TD_pct</th>\n",
       "      <th>B_avg_opp_TOTAL_STR_att</th>\n",
       "      <th>B_avg_opp_TOTAL_STR_landed</th>\n",
       "      <th>B_total_rounds_fought</th>\n",
       "      <th>B_total_time_fought(seconds)</th>\n",
       "      <th>B_total_title_bouts</th>\n",
       "      <th>B_win_by_Decision_Majority</th>\n",
       "      <th>B_win_by_Decision_Split</th>\n",
       "      <th>B_win_by_Decision_Unanimous</th>\n",
       "      <th>B_win_by_KO/TKO</th>\n",
       "      <th>B_win_by_Submission</th>\n",
       "      <th>B_win_by_TKO_Doctor_Stoppage</th>\n",
       "      <th>B_wins</th>\n",
       "      <th>B_Height_cms</th>\n",
       "      <th>B_Reach_cms</th>\n",
       "      <th>B_Weight_lbs</th>\n",
       "      <th>R_current_lose_streak</th>\n",
       "      <th>R_current_win_streak</th>\n",
       "      <th>R_draw</th>\n",
       "      <th>R_avg_BODY_att</th>\n",
       "      <th>R_avg_BODY_landed</th>\n",
       "      <th>R_avg_CLINCH_att</th>\n",
       "      <th>R_avg_CLINCH_landed</th>\n",
       "      <th>R_avg_DISTANCE_att</th>\n",
       "      <th>R_avg_DISTANCE_landed</th>\n",
       "      <th>R_avg_GROUND_att</th>\n",
       "      <th>R_avg_GROUND_landed</th>\n",
       "      <th>R_avg_HEAD_att</th>\n",
       "      <th>R_avg_HEAD_landed</th>\n",
       "      <th>R_avg_KD</th>\n",
       "      <th>R_avg_LEG_att</th>\n",
       "      <th>R_avg_LEG_landed</th>\n",
       "      <th>R_avg_PASS</th>\n",
       "      <th>R_avg_REV</th>\n",
       "      <th>R_avg_SIG_STR_att</th>\n",
       "      <th>R_avg_SIG_STR_landed</th>\n",
       "      <th>R_avg_SIG_STR_pct</th>\n",
       "      <th>R_avg_SUB_ATT</th>\n",
       "      <th>R_avg_TD_att</th>\n",
       "      <th>R_avg_TD_landed</th>\n",
       "      <th>R_avg_TD_pct</th>\n",
       "      <th>R_avg_TOTAL_STR_att</th>\n",
       "      <th>R_avg_TOTAL_STR_landed</th>\n",
       "      <th>R_longest_win_streak</th>\n",
       "      <th>R_losses</th>\n",
       "      <th>R_avg_opp_BODY_att</th>\n",
       "      <th>R_avg_opp_BODY_landed</th>\n",
       "      <th>R_avg_opp_CLINCH_att</th>\n",
       "      <th>R_avg_opp_CLINCH_landed</th>\n",
       "      <th>R_avg_opp_DISTANCE_att</th>\n",
       "      <th>R_avg_opp_DISTANCE_landed</th>\n",
       "      <th>R_avg_opp_GROUND_att</th>\n",
       "      <th>R_avg_opp_GROUND_landed</th>\n",
       "      <th>R_avg_opp_HEAD_att</th>\n",
       "      <th>R_avg_opp_HEAD_landed</th>\n",
       "      <th>R_avg_opp_KD</th>\n",
       "      <th>R_avg_opp_LEG_att</th>\n",
       "      <th>R_avg_opp_LEG_landed</th>\n",
       "      <th>R_avg_opp_PASS</th>\n",
       "      <th>R_avg_opp_REV</th>\n",
       "      <th>R_avg_opp_SIG_STR_att</th>\n",
       "      <th>R_avg_opp_SIG_STR_landed</th>\n",
       "      <th>R_avg_opp_SIG_STR_pct</th>\n",
       "      <th>R_avg_opp_SUB_ATT</th>\n",
       "      <th>R_avg_opp_TD_att</th>\n",
       "      <th>R_avg_opp_TD_landed</th>\n",
       "      <th>R_avg_opp_TD_pct</th>\n",
       "      <th>R_avg_opp_TOTAL_STR_att</th>\n",
       "      <th>R_avg_opp_TOTAL_STR_landed</th>\n",
       "      <th>R_total_rounds_fought</th>\n",
       "      <th>R_total_time_fought(seconds)</th>\n",
       "      <th>R_total_title_bouts</th>\n",
       "      <th>R_win_by_Decision_Majority</th>\n",
       "      <th>R_win_by_Decision_Split</th>\n",
       "      <th>R_win_by_Decision_Unanimous</th>\n",
       "      <th>R_win_by_KO/TKO</th>\n",
       "      <th>R_win_by_Submission</th>\n",
       "      <th>R_win_by_TKO_Doctor_Stoppage</th>\n",
       "      <th>R_wins</th>\n",
       "      <th>R_Height_cms</th>\n",
       "      <th>R_Reach_cms</th>\n",
       "      <th>R_Weight_lbs</th>\n",
       "      <th>B_age</th>\n",
       "      <th>R_age</th>\n",
       "    </tr>\n",
       "  </thead>\n",
       "  <tbody>\n",
       "    <tr>\n",
       "      <th>count</th>\n",
       "      <td>3549.000000</td>\n",
       "      <td>3549.000000</td>\n",
       "      <td>3549.000000</td>\n",
       "      <td>3549.0</td>\n",
       "      <td>3549.000000</td>\n",
       "      <td>3549.000000</td>\n",
       "      <td>3549.000000</td>\n",
       "      <td>3549.000000</td>\n",
       "      <td>3549.000000</td>\n",
       "      <td>3549.000000</td>\n",
       "      <td>3549.000000</td>\n",
       "      <td>3549.000000</td>\n",
       "      <td>3549.000000</td>\n",
       "      <td>3549.000000</td>\n",
       "      <td>3549.000000</td>\n",
       "      <td>3549.000000</td>\n",
       "      <td>3549.000000</td>\n",
       "      <td>3549.000000</td>\n",
       "      <td>3549.000000</td>\n",
       "      <td>3549.000000</td>\n",
       "      <td>3549.000000</td>\n",
       "      <td>3549.000000</td>\n",
       "      <td>3549.000000</td>\n",
       "      <td>3549.000000</td>\n",
       "      <td>3549.000000</td>\n",
       "      <td>3549.000000</td>\n",
       "      <td>3549.000000</td>\n",
       "      <td>3549.000000</td>\n",
       "      <td>3549.000000</td>\n",
       "      <td>3549.000000</td>\n",
       "      <td>3549.000000</td>\n",
       "      <td>3549.000000</td>\n",
       "      <td>3549.000000</td>\n",
       "      <td>3549.000000</td>\n",
       "      <td>3549.000000</td>\n",
       "      <td>3549.000000</td>\n",
       "      <td>3549.000000</td>\n",
       "      <td>3549.000000</td>\n",
       "      <td>3549.000000</td>\n",
       "      <td>3549.000000</td>\n",
       "      <td>3549.000000</td>\n",
       "      <td>3549.000000</td>\n",
       "      <td>3549.000000</td>\n",
       "      <td>3549.000000</td>\n",
       "      <td>3549.000000</td>\n",
       "      <td>3549.000000</td>\n",
       "      <td>3549.000000</td>\n",
       "      <td>3549.000000</td>\n",
       "      <td>3549.000000</td>\n",
       "      <td>3549.000000</td>\n",
       "      <td>3549.000000</td>\n",
       "      <td>3549.000000</td>\n",
       "      <td>3549.000000</td>\n",
       "      <td>3549.000000</td>\n",
       "      <td>3549.000000</td>\n",
       "      <td>3549.000000</td>\n",
       "      <td>3549.000000</td>\n",
       "      <td>3549.000000</td>\n",
       "      <td>3549.000000</td>\n",
       "      <td>3549.000000</td>\n",
       "      <td>3549.000000</td>\n",
       "      <td>3549.000000</td>\n",
       "      <td>3549.000000</td>\n",
       "      <td>3549.000000</td>\n",
       "      <td>3548.000000</td>\n",
       "      <td>3377.000000</td>\n",
       "      <td>3549.000000</td>\n",
       "      <td>3549.000000</td>\n",
       "      <td>3549.000000</td>\n",
       "      <td>3549.0</td>\n",
       "      <td>3549.000000</td>\n",
       "      <td>3549.000000</td>\n",
       "      <td>3549.000000</td>\n",
       "      <td>3549.000000</td>\n",
       "      <td>3549.000000</td>\n",
       "      <td>3549.000000</td>\n",
       "      <td>3549.000000</td>\n",
       "      <td>3549.000000</td>\n",
       "      <td>3549.000000</td>\n",
       "      <td>3549.000000</td>\n",
       "      <td>3549.000000</td>\n",
       "      <td>3549.000000</td>\n",
       "      <td>3549.000000</td>\n",
       "      <td>3549.000000</td>\n",
       "      <td>3549.000000</td>\n",
       "      <td>3549.000000</td>\n",
       "      <td>3549.000000</td>\n",
       "      <td>3549.000000</td>\n",
       "      <td>3549.000000</td>\n",
       "      <td>3549.000000</td>\n",
       "      <td>3549.000000</td>\n",
       "      <td>3549.000000</td>\n",
       "      <td>3549.000000</td>\n",
       "      <td>3549.000000</td>\n",
       "      <td>3549.000000</td>\n",
       "      <td>3549.000000</td>\n",
       "      <td>3549.000000</td>\n",
       "      <td>3549.000000</td>\n",
       "      <td>3549.000000</td>\n",
       "      <td>3549.000000</td>\n",
       "      <td>3549.000000</td>\n",
       "      <td>3549.000000</td>\n",
       "      <td>3549.000000</td>\n",
       "      <td>3549.000000</td>\n",
       "      <td>3549.000000</td>\n",
       "      <td>3549.000000</td>\n",
       "      <td>3549.000000</td>\n",
       "      <td>3549.000000</td>\n",
       "      <td>3549.000000</td>\n",
       "      <td>3549.000000</td>\n",
       "      <td>3549.000000</td>\n",
       "      <td>3549.000000</td>\n",
       "      <td>3549.000000</td>\n",
       "      <td>3549.000000</td>\n",
       "      <td>3549.000000</td>\n",
       "      <td>3549.000000</td>\n",
       "      <td>3549.000000</td>\n",
       "      <td>3549.000000</td>\n",
       "      <td>3549.000000</td>\n",
       "      <td>3549.000000</td>\n",
       "      <td>3549.000000</td>\n",
       "      <td>3549.000000</td>\n",
       "      <td>3549.000000</td>\n",
       "      <td>3549.000000</td>\n",
       "      <td>3549.000000</td>\n",
       "      <td>3549.000000</td>\n",
       "      <td>3549.000000</td>\n",
       "      <td>3549.000000</td>\n",
       "      <td>3549.000000</td>\n",
       "      <td>3549.000000</td>\n",
       "      <td>3549.000000</td>\n",
       "      <td>3508.000000</td>\n",
       "      <td>3549.000000</td>\n",
       "      <td>3535.000000</td>\n",
       "      <td>3547.000000</td>\n",
       "    </tr>\n",
       "    <tr>\n",
       "      <th>mean</th>\n",
       "      <td>3.222880</td>\n",
       "      <td>0.568047</td>\n",
       "      <td>1.127360</td>\n",
       "      <td>0.0</td>\n",
       "      <td>9.001568</td>\n",
       "      <td>6.292248</td>\n",
       "      <td>8.430907</td>\n",
       "      <td>5.705121</td>\n",
       "      <td>55.233139</td>\n",
       "      <td>20.149996</td>\n",
       "      <td>8.834917</td>\n",
       "      <td>5.832794</td>\n",
       "      <td>57.299299</td>\n",
       "      <td>20.481125</td>\n",
       "      <td>0.252286</td>\n",
       "      <td>6.198096</td>\n",
       "      <td>4.914538</td>\n",
       "      <td>1.309876</td>\n",
       "      <td>0.169922</td>\n",
       "      <td>72.498963</td>\n",
       "      <td>31.687911</td>\n",
       "      <td>0.454664</td>\n",
       "      <td>0.544716</td>\n",
       "      <td>2.888463</td>\n",
       "      <td>1.219878</td>\n",
       "      <td>0.313787</td>\n",
       "      <td>95.234285</td>\n",
       "      <td>51.946386</td>\n",
       "      <td>2.172161</td>\n",
       "      <td>2.005072</td>\n",
       "      <td>8.617734</td>\n",
       "      <td>5.831241</td>\n",
       "      <td>7.586074</td>\n",
       "      <td>5.021735</td>\n",
       "      <td>53.991357</td>\n",
       "      <td>18.926954</td>\n",
       "      <td>7.038743</td>\n",
       "      <td>4.599155</td>\n",
       "      <td>53.748353</td>\n",
       "      <td>17.785131</td>\n",
       "      <td>0.159616</td>\n",
       "      <td>6.250087</td>\n",
       "      <td>4.931473</td>\n",
       "      <td>1.085704</td>\n",
       "      <td>0.154961</td>\n",
       "      <td>68.616174</td>\n",
       "      <td>28.547844</td>\n",
       "      <td>0.424724</td>\n",
       "      <td>0.453846</td>\n",
       "      <td>2.974605</td>\n",
       "      <td>1.105597</td>\n",
       "      <td>0.274473</td>\n",
       "      <td>89.216411</td>\n",
       "      <td>46.962918</td>\n",
       "      <td>12.390814</td>\n",
       "      <td>603.829975</td>\n",
       "      <td>0.380671</td>\n",
       "      <td>0.023387</td>\n",
       "      <td>0.297830</td>\n",
       "      <td>1.094675</td>\n",
       "      <td>1.198084</td>\n",
       "      <td>0.742744</td>\n",
       "      <td>0.060017</td>\n",
       "      <td>3.424063</td>\n",
       "      <td>179.221054</td>\n",
       "      <td>183.599805</td>\n",
       "      <td>170.212172</td>\n",
       "      <td>0.627219</td>\n",
       "      <td>1.215554</td>\n",
       "      <td>0.0</td>\n",
       "      <td>9.133827</td>\n",
       "      <td>6.343100</td>\n",
       "      <td>8.321312</td>\n",
       "      <td>5.624595</td>\n",
       "      <td>55.949955</td>\n",
       "      <td>20.460045</td>\n",
       "      <td>9.700858</td>\n",
       "      <td>6.437355</td>\n",
       "      <td>58.293693</td>\n",
       "      <td>21.011789</td>\n",
       "      <td>0.272204</td>\n",
       "      <td>6.544605</td>\n",
       "      <td>5.167105</td>\n",
       "      <td>1.439245</td>\n",
       "      <td>0.151658</td>\n",
       "      <td>73.972126</td>\n",
       "      <td>32.521995</td>\n",
       "      <td>0.462504</td>\n",
       "      <td>0.545343</td>\n",
       "      <td>3.099813</td>\n",
       "      <td>1.333273</td>\n",
       "      <td>0.332017</td>\n",
       "      <td>96.468023</td>\n",
       "      <td>52.616206</td>\n",
       "      <td>2.801916</td>\n",
       "      <td>2.394759</td>\n",
       "      <td>8.403340</td>\n",
       "      <td>5.624005</td>\n",
       "      <td>7.406590</td>\n",
       "      <td>4.837108</td>\n",
       "      <td>54.393767</td>\n",
       "      <td>18.517994</td>\n",
       "      <td>6.633687</td>\n",
       "      <td>4.286871</td>\n",
       "      <td>53.853850</td>\n",
       "      <td>17.242135</td>\n",
       "      <td>0.155298</td>\n",
       "      <td>6.176854</td>\n",
       "      <td>4.775833</td>\n",
       "      <td>0.999823</td>\n",
       "      <td>0.156800</td>\n",
       "      <td>68.434044</td>\n",
       "      <td>27.641973</td>\n",
       "      <td>0.412008</td>\n",
       "      <td>0.440242</td>\n",
       "      <td>2.905260</td>\n",
       "      <td>1.032875</td>\n",
       "      <td>0.256536</td>\n",
       "      <td>88.042964</td>\n",
       "      <td>45.191823</td>\n",
       "      <td>16.316991</td>\n",
       "      <td>614.723752</td>\n",
       "      <td>0.774584</td>\n",
       "      <td>0.035785</td>\n",
       "      <td>0.357566</td>\n",
       "      <td>1.518174</td>\n",
       "      <td>1.599042</td>\n",
       "      <td>0.959989</td>\n",
       "      <td>0.084813</td>\n",
       "      <td>4.565230</td>\n",
       "      <td>179.114015</td>\n",
       "      <td>183.785798</td>\n",
       "      <td>170.432516</td>\n",
       "      <td>29.660255</td>\n",
       "      <td>29.956865</td>\n",
       "    </tr>\n",
       "    <tr>\n",
       "      <th>std</th>\n",
       "      <td>0.629217</td>\n",
       "      <td>0.797194</td>\n",
       "      <td>1.410065</td>\n",
       "      <td>0.0</td>\n",
       "      <td>7.087542</td>\n",
       "      <td>5.079605</td>\n",
       "      <td>7.498123</td>\n",
       "      <td>5.412808</td>\n",
       "      <td>40.974830</td>\n",
       "      <td>15.975332</td>\n",
       "      <td>8.593200</td>\n",
       "      <td>5.677165</td>\n",
       "      <td>35.957408</td>\n",
       "      <td>12.991833</td>\n",
       "      <td>0.338930</td>\n",
       "      <td>5.825232</td>\n",
       "      <td>4.615793</td>\n",
       "      <td>1.458459</td>\n",
       "      <td>0.320044</td>\n",
       "      <td>43.518166</td>\n",
       "      <td>18.582527</td>\n",
       "      <td>0.118953</td>\n",
       "      <td>0.708612</td>\n",
       "      <td>2.679570</td>\n",
       "      <td>1.256448</td>\n",
       "      <td>0.249945</td>\n",
       "      <td>49.755193</td>\n",
       "      <td>28.250053</td>\n",
       "      <td>1.787295</td>\n",
       "      <td>1.953656</td>\n",
       "      <td>6.652608</td>\n",
       "      <td>4.712972</td>\n",
       "      <td>6.939332</td>\n",
       "      <td>5.027695</td>\n",
       "      <td>40.925993</td>\n",
       "      <td>15.272368</td>\n",
       "      <td>8.365078</td>\n",
       "      <td>5.734025</td>\n",
       "      <td>35.669909</td>\n",
       "      <td>12.524385</td>\n",
       "      <td>0.274407</td>\n",
       "      <td>5.588920</td>\n",
       "      <td>4.497621</td>\n",
       "      <td>1.422699</td>\n",
       "      <td>0.309469</td>\n",
       "      <td>43.249464</td>\n",
       "      <td>17.963331</td>\n",
       "      <td>0.118798</td>\n",
       "      <td>0.629297</td>\n",
       "      <td>2.539857</td>\n",
       "      <td>1.150660</td>\n",
       "      <td>0.242400</td>\n",
       "      <td>47.825159</td>\n",
       "      <td>26.240977</td>\n",
       "      <td>11.773450</td>\n",
       "      <td>224.240405</td>\n",
       "      <td>1.313437</td>\n",
       "      <td>0.153003</td>\n",
       "      <td>0.606288</td>\n",
       "      <td>1.433827</td>\n",
       "      <td>1.727631</td>\n",
       "      <td>1.256115</td>\n",
       "      <td>0.252505</td>\n",
       "      <td>3.384459</td>\n",
       "      <td>8.413365</td>\n",
       "      <td>9.992706</td>\n",
       "      <td>33.514360</td>\n",
       "      <td>0.859297</td>\n",
       "      <td>1.723086</td>\n",
       "      <td>0.0</td>\n",
       "      <td>6.823562</td>\n",
       "      <td>4.769922</td>\n",
       "      <td>6.801075</td>\n",
       "      <td>4.943064</td>\n",
       "      <td>38.961929</td>\n",
       "      <td>14.919758</td>\n",
       "      <td>8.586898</td>\n",
       "      <td>5.772863</td>\n",
       "      <td>33.022576</td>\n",
       "      <td>11.668252</td>\n",
       "      <td>0.325813</td>\n",
       "      <td>5.793775</td>\n",
       "      <td>4.496528</td>\n",
       "      <td>1.433176</td>\n",
       "      <td>0.270066</td>\n",
       "      <td>40.565534</td>\n",
       "      <td>17.039156</td>\n",
       "      <td>0.112898</td>\n",
       "      <td>0.626744</td>\n",
       "      <td>2.739955</td>\n",
       "      <td>1.212262</td>\n",
       "      <td>0.227668</td>\n",
       "      <td>45.736328</td>\n",
       "      <td>25.816222</td>\n",
       "      <td>2.063790</td>\n",
       "      <td>2.200488</td>\n",
       "      <td>5.919775</td>\n",
       "      <td>3.993842</td>\n",
       "      <td>6.173040</td>\n",
       "      <td>4.263464</td>\n",
       "      <td>38.015087</td>\n",
       "      <td>13.800672</td>\n",
       "      <td>7.259741</td>\n",
       "      <td>4.598455</td>\n",
       "      <td>32.877829</td>\n",
       "      <td>11.152332</td>\n",
       "      <td>0.236448</td>\n",
       "      <td>5.061296</td>\n",
       "      <td>3.856057</td>\n",
       "      <td>1.219726</td>\n",
       "      <td>0.275528</td>\n",
       "      <td>39.877301</td>\n",
       "      <td>15.833447</td>\n",
       "      <td>0.104608</td>\n",
       "      <td>0.570449</td>\n",
       "      <td>2.256827</td>\n",
       "      <td>0.991758</td>\n",
       "      <td>0.209746</td>\n",
       "      <td>43.868822</td>\n",
       "      <td>22.940470</td>\n",
       "      <td>13.809548</td>\n",
       "      <td>215.552829</td>\n",
       "      <td>1.789647</td>\n",
       "      <td>0.188789</td>\n",
       "      <td>0.659945</td>\n",
       "      <td>1.725046</td>\n",
       "      <td>1.958881</td>\n",
       "      <td>1.436589</td>\n",
       "      <td>0.301944</td>\n",
       "      <td>3.823625</td>\n",
       "      <td>8.697611</td>\n",
       "      <td>10.353783</td>\n",
       "      <td>33.681942</td>\n",
       "      <td>4.033005</td>\n",
       "      <td>4.144948</td>\n",
       "    </tr>\n",
       "    <tr>\n",
       "      <th>min</th>\n",
       "      <td>3.000000</td>\n",
       "      <td>0.000000</td>\n",
       "      <td>0.000000</td>\n",
       "      <td>0.0</td>\n",
       "      <td>0.000000</td>\n",
       "      <td>0.000000</td>\n",
       "      <td>0.000000</td>\n",
       "      <td>0.000000</td>\n",
       "      <td>0.000000</td>\n",
       "      <td>0.000000</td>\n",
       "      <td>0.000000</td>\n",
       "      <td>0.000000</td>\n",
       "      <td>0.000000</td>\n",
       "      <td>0.000000</td>\n",
       "      <td>0.000000</td>\n",
       "      <td>0.000000</td>\n",
       "      <td>0.000000</td>\n",
       "      <td>0.000000</td>\n",
       "      <td>0.000000</td>\n",
       "      <td>0.000000</td>\n",
       "      <td>0.000000</td>\n",
       "      <td>0.000000</td>\n",
       "      <td>0.000000</td>\n",
       "      <td>0.000000</td>\n",
       "      <td>0.000000</td>\n",
       "      <td>0.000000</td>\n",
       "      <td>0.000000</td>\n",
       "      <td>0.000000</td>\n",
       "      <td>0.000000</td>\n",
       "      <td>0.000000</td>\n",
       "      <td>0.000000</td>\n",
       "      <td>0.000000</td>\n",
       "      <td>0.000000</td>\n",
       "      <td>0.000000</td>\n",
       "      <td>0.000000</td>\n",
       "      <td>0.000000</td>\n",
       "      <td>0.000000</td>\n",
       "      <td>0.000000</td>\n",
       "      <td>0.000000</td>\n",
       "      <td>0.000000</td>\n",
       "      <td>0.000000</td>\n",
       "      <td>0.000000</td>\n",
       "      <td>0.000000</td>\n",
       "      <td>0.000000</td>\n",
       "      <td>0.000000</td>\n",
       "      <td>0.500000</td>\n",
       "      <td>0.000000</td>\n",
       "      <td>0.000000</td>\n",
       "      <td>0.000000</td>\n",
       "      <td>0.000000</td>\n",
       "      <td>0.000000</td>\n",
       "      <td>0.000000</td>\n",
       "      <td>0.500000</td>\n",
       "      <td>0.000000</td>\n",
       "      <td>1.000000</td>\n",
       "      <td>7.000000</td>\n",
       "      <td>0.000000</td>\n",
       "      <td>0.000000</td>\n",
       "      <td>0.000000</td>\n",
       "      <td>0.000000</td>\n",
       "      <td>0.000000</td>\n",
       "      <td>0.000000</td>\n",
       "      <td>0.000000</td>\n",
       "      <td>0.000000</td>\n",
       "      <td>152.400000</td>\n",
       "      <td>152.400000</td>\n",
       "      <td>115.000000</td>\n",
       "      <td>0.000000</td>\n",
       "      <td>0.000000</td>\n",
       "      <td>0.0</td>\n",
       "      <td>0.000000</td>\n",
       "      <td>0.000000</td>\n",
       "      <td>0.000000</td>\n",
       "      <td>0.000000</td>\n",
       "      <td>0.000000</td>\n",
       "      <td>0.000000</td>\n",
       "      <td>0.000000</td>\n",
       "      <td>0.000000</td>\n",
       "      <td>0.000000</td>\n",
       "      <td>0.000000</td>\n",
       "      <td>0.000000</td>\n",
       "      <td>0.000000</td>\n",
       "      <td>0.000000</td>\n",
       "      <td>0.000000</td>\n",
       "      <td>0.000000</td>\n",
       "      <td>0.000000</td>\n",
       "      <td>0.000000</td>\n",
       "      <td>0.000000</td>\n",
       "      <td>0.000000</td>\n",
       "      <td>0.000000</td>\n",
       "      <td>0.000000</td>\n",
       "      <td>0.000000</td>\n",
       "      <td>0.000000</td>\n",
       "      <td>0.000000</td>\n",
       "      <td>0.000000</td>\n",
       "      <td>0.000000</td>\n",
       "      <td>0.000000</td>\n",
       "      <td>0.000000</td>\n",
       "      <td>0.000000</td>\n",
       "      <td>0.000000</td>\n",
       "      <td>0.000000</td>\n",
       "      <td>0.000000</td>\n",
       "      <td>0.000000</td>\n",
       "      <td>0.000000</td>\n",
       "      <td>0.000000</td>\n",
       "      <td>0.000000</td>\n",
       "      <td>0.000000</td>\n",
       "      <td>0.000000</td>\n",
       "      <td>0.000000</td>\n",
       "      <td>0.000000</td>\n",
       "      <td>0.000000</td>\n",
       "      <td>0.000000</td>\n",
       "      <td>0.000000</td>\n",
       "      <td>0.000000</td>\n",
       "      <td>0.000000</td>\n",
       "      <td>0.000000</td>\n",
       "      <td>0.000000</td>\n",
       "      <td>0.000000</td>\n",
       "      <td>0.000000</td>\n",
       "      <td>0.000000</td>\n",
       "      <td>1.000000</td>\n",
       "      <td>7.000000</td>\n",
       "      <td>0.000000</td>\n",
       "      <td>0.000000</td>\n",
       "      <td>0.000000</td>\n",
       "      <td>0.000000</td>\n",
       "      <td>0.000000</td>\n",
       "      <td>0.000000</td>\n",
       "      <td>0.000000</td>\n",
       "      <td>0.000000</td>\n",
       "      <td>152.400000</td>\n",
       "      <td>152.400000</td>\n",
       "      <td>115.000000</td>\n",
       "      <td>20.000000</td>\n",
       "      <td>19.000000</td>\n",
       "    </tr>\n",
       "    <tr>\n",
       "      <th>25%</th>\n",
       "      <td>3.000000</td>\n",
       "      <td>0.000000</td>\n",
       "      <td>0.000000</td>\n",
       "      <td>0.0</td>\n",
       "      <td>4.000000</td>\n",
       "      <td>2.600000</td>\n",
       "      <td>3.333333</td>\n",
       "      <td>2.000000</td>\n",
       "      <td>24.500000</td>\n",
       "      <td>8.500000</td>\n",
       "      <td>2.666667</td>\n",
       "      <td>1.875000</td>\n",
       "      <td>31.882353</td>\n",
       "      <td>11.600000</td>\n",
       "      <td>0.000000</td>\n",
       "      <td>2.000000</td>\n",
       "      <td>1.666667</td>\n",
       "      <td>0.250000</td>\n",
       "      <td>0.000000</td>\n",
       "      <td>41.625000</td>\n",
       "      <td>18.333333</td>\n",
       "      <td>0.388095</td>\n",
       "      <td>0.000000</td>\n",
       "      <td>1.000000</td>\n",
       "      <td>0.250000</td>\n",
       "      <td>0.110000</td>\n",
       "      <td>61.333333</td>\n",
       "      <td>33.000000</td>\n",
       "      <td>1.000000</td>\n",
       "      <td>1.000000</td>\n",
       "      <td>4.000000</td>\n",
       "      <td>2.500000</td>\n",
       "      <td>3.000000</td>\n",
       "      <td>2.000000</td>\n",
       "      <td>24.600000</td>\n",
       "      <td>8.000000</td>\n",
       "      <td>1.700000</td>\n",
       "      <td>1.000000</td>\n",
       "      <td>29.000000</td>\n",
       "      <td>9.400000</td>\n",
       "      <td>0.000000</td>\n",
       "      <td>2.500000</td>\n",
       "      <td>2.000000</td>\n",
       "      <td>0.125000</td>\n",
       "      <td>0.000000</td>\n",
       "      <td>37.727273</td>\n",
       "      <td>16.000000</td>\n",
       "      <td>0.353333</td>\n",
       "      <td>0.000000</td>\n",
       "      <td>1.000000</td>\n",
       "      <td>0.333333</td>\n",
       "      <td>0.092500</td>\n",
       "      <td>56.500000</td>\n",
       "      <td>30.000000</td>\n",
       "      <td>4.000000</td>\n",
       "      <td>463.750000</td>\n",
       "      <td>0.000000</td>\n",
       "      <td>0.000000</td>\n",
       "      <td>0.000000</td>\n",
       "      <td>0.000000</td>\n",
       "      <td>0.000000</td>\n",
       "      <td>0.000000</td>\n",
       "      <td>0.000000</td>\n",
       "      <td>1.000000</td>\n",
       "      <td>172.720000</td>\n",
       "      <td>177.800000</td>\n",
       "      <td>145.000000</td>\n",
       "      <td>0.000000</td>\n",
       "      <td>0.000000</td>\n",
       "      <td>0.0</td>\n",
       "      <td>4.333333</td>\n",
       "      <td>3.000000</td>\n",
       "      <td>3.750000</td>\n",
       "      <td>2.285714</td>\n",
       "      <td>28.000000</td>\n",
       "      <td>9.625000</td>\n",
       "      <td>3.666667</td>\n",
       "      <td>2.500000</td>\n",
       "      <td>35.200000</td>\n",
       "      <td>13.250000</td>\n",
       "      <td>0.000000</td>\n",
       "      <td>2.250000</td>\n",
       "      <td>2.000000</td>\n",
       "      <td>0.375000</td>\n",
       "      <td>0.000000</td>\n",
       "      <td>46.000000</td>\n",
       "      <td>20.800000</td>\n",
       "      <td>0.395000</td>\n",
       "      <td>0.000000</td>\n",
       "      <td>1.000000</td>\n",
       "      <td>0.428571</td>\n",
       "      <td>0.170000</td>\n",
       "      <td>64.666667</td>\n",
       "      <td>35.625000</td>\n",
       "      <td>1.000000</td>\n",
       "      <td>1.000000</td>\n",
       "      <td>4.000000</td>\n",
       "      <td>2.750000</td>\n",
       "      <td>3.285714</td>\n",
       "      <td>2.000000</td>\n",
       "      <td>26.750000</td>\n",
       "      <td>8.500000</td>\n",
       "      <td>1.947368</td>\n",
       "      <td>1.166667</td>\n",
       "      <td>30.800000</td>\n",
       "      <td>10.000000</td>\n",
       "      <td>0.000000</td>\n",
       "      <td>2.800000</td>\n",
       "      <td>2.076923</td>\n",
       "      <td>0.200000</td>\n",
       "      <td>0.000000</td>\n",
       "      <td>40.200000</td>\n",
       "      <td>17.000000</td>\n",
       "      <td>0.344286</td>\n",
       "      <td>0.000000</td>\n",
       "      <td>1.285714</td>\n",
       "      <td>0.333333</td>\n",
       "      <td>0.104286</td>\n",
       "      <td>57.666667</td>\n",
       "      <td>30.714286</td>\n",
       "      <td>6.000000</td>\n",
       "      <td>489.200000</td>\n",
       "      <td>0.000000</td>\n",
       "      <td>0.000000</td>\n",
       "      <td>0.000000</td>\n",
       "      <td>0.000000</td>\n",
       "      <td>0.000000</td>\n",
       "      <td>0.000000</td>\n",
       "      <td>0.000000</td>\n",
       "      <td>2.000000</td>\n",
       "      <td>172.720000</td>\n",
       "      <td>177.800000</td>\n",
       "      <td>145.000000</td>\n",
       "      <td>27.000000</td>\n",
       "      <td>27.000000</td>\n",
       "    </tr>\n",
       "    <tr>\n",
       "      <th>50%</th>\n",
       "      <td>3.000000</td>\n",
       "      <td>0.000000</td>\n",
       "      <td>1.000000</td>\n",
       "      <td>0.0</td>\n",
       "      <td>7.250000</td>\n",
       "      <td>5.000000</td>\n",
       "      <td>6.600000</td>\n",
       "      <td>4.363636</td>\n",
       "      <td>46.666667</td>\n",
       "      <td>16.000000</td>\n",
       "      <td>6.736842</td>\n",
       "      <td>4.500000</td>\n",
       "      <td>51.000000</td>\n",
       "      <td>18.333333</td>\n",
       "      <td>0.142857</td>\n",
       "      <td>4.666667</td>\n",
       "      <td>3.857143</td>\n",
       "      <td>1.000000</td>\n",
       "      <td>0.000000</td>\n",
       "      <td>65.500000</td>\n",
       "      <td>29.000000</td>\n",
       "      <td>0.453636</td>\n",
       "      <td>0.333333</td>\n",
       "      <td>2.142857</td>\n",
       "      <td>1.000000</td>\n",
       "      <td>0.300000</td>\n",
       "      <td>89.222222</td>\n",
       "      <td>48.875000</td>\n",
       "      <td>2.000000</td>\n",
       "      <td>1.000000</td>\n",
       "      <td>7.150000</td>\n",
       "      <td>4.941176</td>\n",
       "      <td>6.000000</td>\n",
       "      <td>3.833333</td>\n",
       "      <td>46.000000</td>\n",
       "      <td>15.300000</td>\n",
       "      <td>4.750000</td>\n",
       "      <td>3.000000</td>\n",
       "      <td>48.000000</td>\n",
       "      <td>15.400000</td>\n",
       "      <td>0.000000</td>\n",
       "      <td>5.000000</td>\n",
       "      <td>4.000000</td>\n",
       "      <td>0.700000</td>\n",
       "      <td>0.000000</td>\n",
       "      <td>62.666667</td>\n",
       "      <td>26.000000</td>\n",
       "      <td>0.413333</td>\n",
       "      <td>0.250000</td>\n",
       "      <td>2.500000</td>\n",
       "      <td>0.875000</td>\n",
       "      <td>0.240769</td>\n",
       "      <td>84.857143</td>\n",
       "      <td>43.720000</td>\n",
       "      <td>9.000000</td>\n",
       "      <td>620.565217</td>\n",
       "      <td>0.000000</td>\n",
       "      <td>0.000000</td>\n",
       "      <td>0.000000</td>\n",
       "      <td>1.000000</td>\n",
       "      <td>1.000000</td>\n",
       "      <td>0.000000</td>\n",
       "      <td>0.000000</td>\n",
       "      <td>2.000000</td>\n",
       "      <td>180.340000</td>\n",
       "      <td>182.880000</td>\n",
       "      <td>170.000000</td>\n",
       "      <td>0.000000</td>\n",
       "      <td>1.000000</td>\n",
       "      <td>0.0</td>\n",
       "      <td>7.571429</td>\n",
       "      <td>5.200000</td>\n",
       "      <td>6.846154</td>\n",
       "      <td>4.500000</td>\n",
       "      <td>48.222222</td>\n",
       "      <td>16.785714</td>\n",
       "      <td>7.800000</td>\n",
       "      <td>5.111111</td>\n",
       "      <td>52.400000</td>\n",
       "      <td>19.000000</td>\n",
       "      <td>0.200000</td>\n",
       "      <td>5.000000</td>\n",
       "      <td>4.000000</td>\n",
       "      <td>1.000000</td>\n",
       "      <td>0.000000</td>\n",
       "      <td>67.000000</td>\n",
       "      <td>29.750000</td>\n",
       "      <td>0.456000</td>\n",
       "      <td>0.400000</td>\n",
       "      <td>2.500000</td>\n",
       "      <td>1.000000</td>\n",
       "      <td>0.321250</td>\n",
       "      <td>92.000000</td>\n",
       "      <td>49.555556</td>\n",
       "      <td>2.000000</td>\n",
       "      <td>2.000000</td>\n",
       "      <td>7.333333</td>\n",
       "      <td>5.000000</td>\n",
       "      <td>6.176471</td>\n",
       "      <td>4.000000</td>\n",
       "      <td>47.857143</td>\n",
       "      <td>15.777778</td>\n",
       "      <td>4.785714</td>\n",
       "      <td>3.000000</td>\n",
       "      <td>48.625000</td>\n",
       "      <td>15.000000</td>\n",
       "      <td>0.066667</td>\n",
       "      <td>5.080000</td>\n",
       "      <td>4.000000</td>\n",
       "      <td>0.666667</td>\n",
       "      <td>0.000000</td>\n",
       "      <td>63.125000</td>\n",
       "      <td>25.428571</td>\n",
       "      <td>0.406250</td>\n",
       "      <td>0.285714</td>\n",
       "      <td>2.500000</td>\n",
       "      <td>0.818182</td>\n",
       "      <td>0.227500</td>\n",
       "      <td>84.500000</td>\n",
       "      <td>43.000000</td>\n",
       "      <td>12.000000</td>\n",
       "      <td>627.500000</td>\n",
       "      <td>0.000000</td>\n",
       "      <td>0.000000</td>\n",
       "      <td>0.000000</td>\n",
       "      <td>1.000000</td>\n",
       "      <td>1.000000</td>\n",
       "      <td>0.000000</td>\n",
       "      <td>0.000000</td>\n",
       "      <td>4.000000</td>\n",
       "      <td>180.340000</td>\n",
       "      <td>185.420000</td>\n",
       "      <td>170.000000</td>\n",
       "      <td>29.000000</td>\n",
       "      <td>30.000000</td>\n",
       "    </tr>\n",
       "    <tr>\n",
       "      <th>75%</th>\n",
       "      <td>3.000000</td>\n",
       "      <td>1.000000</td>\n",
       "      <td>2.000000</td>\n",
       "      <td>0.0</td>\n",
       "      <td>12.500000</td>\n",
       "      <td>8.750000</td>\n",
       "      <td>11.666667</td>\n",
       "      <td>8.000000</td>\n",
       "      <td>76.000000</td>\n",
       "      <td>28.000000</td>\n",
       "      <td>12.250000</td>\n",
       "      <td>8.000000</td>\n",
       "      <td>76.000000</td>\n",
       "      <td>26.727273</td>\n",
       "      <td>0.400000</td>\n",
       "      <td>8.666667</td>\n",
       "      <td>7.000000</td>\n",
       "      <td>2.000000</td>\n",
       "      <td>0.250000</td>\n",
       "      <td>96.750000</td>\n",
       "      <td>41.750000</td>\n",
       "      <td>0.520000</td>\n",
       "      <td>0.875000</td>\n",
       "      <td>4.235294</td>\n",
       "      <td>1.818182</td>\n",
       "      <td>0.475000</td>\n",
       "      <td>124.500000</td>\n",
       "      <td>67.375000</td>\n",
       "      <td>3.000000</td>\n",
       "      <td>3.000000</td>\n",
       "      <td>12.000000</td>\n",
       "      <td>7.928571</td>\n",
       "      <td>10.250000</td>\n",
       "      <td>6.875000</td>\n",
       "      <td>73.368421</td>\n",
       "      <td>26.000000</td>\n",
       "      <td>9.400000</td>\n",
       "      <td>6.000000</td>\n",
       "      <td>70.142857</td>\n",
       "      <td>23.428571</td>\n",
       "      <td>0.250000</td>\n",
       "      <td>8.333333</td>\n",
       "      <td>6.727273</td>\n",
       "      <td>1.500000</td>\n",
       "      <td>0.200000</td>\n",
       "      <td>88.900000</td>\n",
       "      <td>37.000000</td>\n",
       "      <td>0.490000</td>\n",
       "      <td>0.666667</td>\n",
       "      <td>4.000000</td>\n",
       "      <td>1.500000</td>\n",
       "      <td>0.383333</td>\n",
       "      <td>115.000000</td>\n",
       "      <td>59.600000</td>\n",
       "      <td>17.000000</td>\n",
       "      <td>771.600000</td>\n",
       "      <td>0.000000</td>\n",
       "      <td>0.000000</td>\n",
       "      <td>0.000000</td>\n",
       "      <td>2.000000</td>\n",
       "      <td>2.000000</td>\n",
       "      <td>1.000000</td>\n",
       "      <td>0.000000</td>\n",
       "      <td>5.000000</td>\n",
       "      <td>185.420000</td>\n",
       "      <td>190.500000</td>\n",
       "      <td>185.000000</td>\n",
       "      <td>1.000000</td>\n",
       "      <td>2.000000</td>\n",
       "      <td>0.0</td>\n",
       "      <td>12.250000</td>\n",
       "      <td>8.700000</td>\n",
       "      <td>11.000000</td>\n",
       "      <td>7.500000</td>\n",
       "      <td>76.666667</td>\n",
       "      <td>28.666667</td>\n",
       "      <td>13.000000</td>\n",
       "      <td>8.714286</td>\n",
       "      <td>76.500000</td>\n",
       "      <td>27.000000</td>\n",
       "      <td>0.411765</td>\n",
       "      <td>9.111111</td>\n",
       "      <td>7.294118</td>\n",
       "      <td>2.050000</td>\n",
       "      <td>0.210526</td>\n",
       "      <td>97.111111</td>\n",
       "      <td>42.625000</td>\n",
       "      <td>0.525000</td>\n",
       "      <td>0.833333</td>\n",
       "      <td>4.500000</td>\n",
       "      <td>2.000000</td>\n",
       "      <td>0.472000</td>\n",
       "      <td>122.391304</td>\n",
       "      <td>65.666667</td>\n",
       "      <td>4.000000</td>\n",
       "      <td>3.000000</td>\n",
       "      <td>11.625000</td>\n",
       "      <td>7.666667</td>\n",
       "      <td>9.833333</td>\n",
       "      <td>6.400000</td>\n",
       "      <td>74.333333</td>\n",
       "      <td>25.363636</td>\n",
       "      <td>9.125000</td>\n",
       "      <td>5.916667</td>\n",
       "      <td>71.000000</td>\n",
       "      <td>22.684211</td>\n",
       "      <td>0.250000</td>\n",
       "      <td>8.250000</td>\n",
       "      <td>6.500000</td>\n",
       "      <td>1.375000</td>\n",
       "      <td>0.222222</td>\n",
       "      <td>89.500000</td>\n",
       "      <td>35.750000</td>\n",
       "      <td>0.470000</td>\n",
       "      <td>0.625000</td>\n",
       "      <td>4.000000</td>\n",
       "      <td>1.470588</td>\n",
       "      <td>0.358462</td>\n",
       "      <td>111.500000</td>\n",
       "      <td>56.400000</td>\n",
       "      <td>23.000000</td>\n",
       "      <td>759.000000</td>\n",
       "      <td>1.000000</td>\n",
       "      <td>0.000000</td>\n",
       "      <td>1.000000</td>\n",
       "      <td>2.000000</td>\n",
       "      <td>2.000000</td>\n",
       "      <td>1.000000</td>\n",
       "      <td>0.000000</td>\n",
       "      <td>7.000000</td>\n",
       "      <td>185.420000</td>\n",
       "      <td>190.500000</td>\n",
       "      <td>185.000000</td>\n",
       "      <td>32.000000</td>\n",
       "      <td>33.000000</td>\n",
       "    </tr>\n",
       "    <tr>\n",
       "      <th>max</th>\n",
       "      <td>5.000000</td>\n",
       "      <td>6.000000</td>\n",
       "      <td>13.000000</td>\n",
       "      <td>0.0</td>\n",
       "      <td>49.000000</td>\n",
       "      <td>39.000000</td>\n",
       "      <td>87.000000</td>\n",
       "      <td>68.000000</td>\n",
       "      <td>271.000000</td>\n",
       "      <td>130.000000</td>\n",
       "      <td>88.000000</td>\n",
       "      <td>47.000000</td>\n",
       "      <td>277.000000</td>\n",
       "      <td>137.000000</td>\n",
       "      <td>5.000000</td>\n",
       "      <td>61.000000</td>\n",
       "      <td>47.000000</td>\n",
       "      <td>15.000000</td>\n",
       "      <td>3.000000</td>\n",
       "      <td>299.000000</td>\n",
       "      <td>154.000000</td>\n",
       "      <td>1.000000</td>\n",
       "      <td>8.000000</td>\n",
       "      <td>19.000000</td>\n",
       "      <td>10.000000</td>\n",
       "      <td>1.000000</td>\n",
       "      <td>360.000000</td>\n",
       "      <td>230.000000</td>\n",
       "      <td>16.000000</td>\n",
       "      <td>13.000000</td>\n",
       "      <td>61.000000</td>\n",
       "      <td>48.000000</td>\n",
       "      <td>105.000000</td>\n",
       "      <td>84.000000</td>\n",
       "      <td>361.000000</td>\n",
       "      <td>150.000000</td>\n",
       "      <td>94.000000</td>\n",
       "      <td>84.000000</td>\n",
       "      <td>335.000000</td>\n",
       "      <td>126.000000</td>\n",
       "      <td>3.000000</td>\n",
       "      <td>57.000000</td>\n",
       "      <td>50.000000</td>\n",
       "      <td>19.000000</td>\n",
       "      <td>3.000000</td>\n",
       "      <td>401.000000</td>\n",
       "      <td>202.000000</td>\n",
       "      <td>1.000000</td>\n",
       "      <td>7.000000</td>\n",
       "      <td>20.000000</td>\n",
       "      <td>11.500000</td>\n",
       "      <td>1.000000</td>\n",
       "      <td>404.000000</td>\n",
       "      <td>232.000000</td>\n",
       "      <td>75.000000</td>\n",
       "      <td>1500.000000</td>\n",
       "      <td>16.000000</td>\n",
       "      <td>2.000000</td>\n",
       "      <td>5.000000</td>\n",
       "      <td>10.000000</td>\n",
       "      <td>11.000000</td>\n",
       "      <td>11.000000</td>\n",
       "      <td>2.000000</td>\n",
       "      <td>23.000000</td>\n",
       "      <td>210.820000</td>\n",
       "      <td>213.360000</td>\n",
       "      <td>265.000000</td>\n",
       "      <td>7.000000</td>\n",
       "      <td>16.000000</td>\n",
       "      <td>0.0</td>\n",
       "      <td>51.000000</td>\n",
       "      <td>39.000000</td>\n",
       "      <td>72.000000</td>\n",
       "      <td>52.000000</td>\n",
       "      <td>287.500000</td>\n",
       "      <td>131.000000</td>\n",
       "      <td>83.000000</td>\n",
       "      <td>53.000000</td>\n",
       "      <td>264.000000</td>\n",
       "      <td>119.000000</td>\n",
       "      <td>4.000000</td>\n",
       "      <td>57.000000</td>\n",
       "      <td>41.000000</td>\n",
       "      <td>14.000000</td>\n",
       "      <td>3.000000</td>\n",
       "      <td>298.500000</td>\n",
       "      <td>141.000000</td>\n",
       "      <td>1.000000</td>\n",
       "      <td>9.000000</td>\n",
       "      <td>30.000000</td>\n",
       "      <td>11.000000</td>\n",
       "      <td>1.000000</td>\n",
       "      <td>325.500000</td>\n",
       "      <td>202.500000</td>\n",
       "      <td>16.000000</td>\n",
       "      <td>14.000000</td>\n",
       "      <td>75.000000</td>\n",
       "      <td>41.000000</td>\n",
       "      <td>82.000000</td>\n",
       "      <td>51.000000</td>\n",
       "      <td>440.000000</td>\n",
       "      <td>144.000000</td>\n",
       "      <td>104.000000</td>\n",
       "      <td>52.000000</td>\n",
       "      <td>400.000000</td>\n",
       "      <td>132.000000</td>\n",
       "      <td>3.000000</td>\n",
       "      <td>63.000000</td>\n",
       "      <td>41.000000</td>\n",
       "      <td>17.000000</td>\n",
       "      <td>3.000000</td>\n",
       "      <td>454.000000</td>\n",
       "      <td>151.000000</td>\n",
       "      <td>1.000000</td>\n",
       "      <td>8.000000</td>\n",
       "      <td>20.000000</td>\n",
       "      <td>11.000000</td>\n",
       "      <td>1.000000</td>\n",
       "      <td>461.000000</td>\n",
       "      <td>202.000000</td>\n",
       "      <td>80.000000</td>\n",
       "      <td>1500.000000</td>\n",
       "      <td>16.000000</td>\n",
       "      <td>2.000000</td>\n",
       "      <td>5.000000</td>\n",
       "      <td>10.000000</td>\n",
       "      <td>11.000000</td>\n",
       "      <td>13.000000</td>\n",
       "      <td>2.000000</td>\n",
       "      <td>20.000000</td>\n",
       "      <td>210.820000</td>\n",
       "      <td>213.360000</td>\n",
       "      <td>265.000000</td>\n",
       "      <td>47.000000</td>\n",
       "      <td>46.000000</td>\n",
       "    </tr>\n",
       "  </tbody>\n",
       "</table>\n",
       "</div>"
      ],
      "text/plain": [
       "       no_of_rounds  B_current_lose_streak  B_current_win_streak  B_draw  \\\n",
       "count   3549.000000            3549.000000           3549.000000  3549.0   \n",
       "mean       3.222880               0.568047              1.127360     0.0   \n",
       "std        0.629217               0.797194              1.410065     0.0   \n",
       "min        3.000000               0.000000              0.000000     0.0   \n",
       "25%        3.000000               0.000000              0.000000     0.0   \n",
       "50%        3.000000               0.000000              1.000000     0.0   \n",
       "75%        3.000000               1.000000              2.000000     0.0   \n",
       "max        5.000000               6.000000             13.000000     0.0   \n",
       "\n",
       "       B_avg_BODY_att  B_avg_BODY_landed  B_avg_CLINCH_att  \\\n",
       "count     3549.000000        3549.000000       3549.000000   \n",
       "mean         9.001568           6.292248          8.430907   \n",
       "std          7.087542           5.079605          7.498123   \n",
       "min          0.000000           0.000000          0.000000   \n",
       "25%          4.000000           2.600000          3.333333   \n",
       "50%          7.250000           5.000000          6.600000   \n",
       "75%         12.500000           8.750000         11.666667   \n",
       "max         49.000000          39.000000         87.000000   \n",
       "\n",
       "       B_avg_CLINCH_landed  B_avg_DISTANCE_att  B_avg_DISTANCE_landed  \\\n",
       "count          3549.000000         3549.000000            3549.000000   \n",
       "mean              5.705121           55.233139              20.149996   \n",
       "std               5.412808           40.974830              15.975332   \n",
       "min               0.000000            0.000000               0.000000   \n",
       "25%               2.000000           24.500000               8.500000   \n",
       "50%               4.363636           46.666667              16.000000   \n",
       "75%               8.000000           76.000000              28.000000   \n",
       "max              68.000000          271.000000             130.000000   \n",
       "\n",
       "       B_avg_GROUND_att  B_avg_GROUND_landed  B_avg_HEAD_att  \\\n",
       "count       3549.000000          3549.000000     3549.000000   \n",
       "mean           8.834917             5.832794       57.299299   \n",
       "std            8.593200             5.677165       35.957408   \n",
       "min            0.000000             0.000000        0.000000   \n",
       "25%            2.666667             1.875000       31.882353   \n",
       "50%            6.736842             4.500000       51.000000   \n",
       "75%           12.250000             8.000000       76.000000   \n",
       "max           88.000000            47.000000      277.000000   \n",
       "\n",
       "       B_avg_HEAD_landed     B_avg_KD  B_avg_LEG_att  B_avg_LEG_landed  \\\n",
       "count        3549.000000  3549.000000    3549.000000       3549.000000   \n",
       "mean           20.481125     0.252286       6.198096          4.914538   \n",
       "std            12.991833     0.338930       5.825232          4.615793   \n",
       "min             0.000000     0.000000       0.000000          0.000000   \n",
       "25%            11.600000     0.000000       2.000000          1.666667   \n",
       "50%            18.333333     0.142857       4.666667          3.857143   \n",
       "75%            26.727273     0.400000       8.666667          7.000000   \n",
       "max           137.000000     5.000000      61.000000         47.000000   \n",
       "\n",
       "        B_avg_PASS    B_avg_REV  B_avg_SIG_STR_att  B_avg_SIG_STR_landed  \\\n",
       "count  3549.000000  3549.000000        3549.000000           3549.000000   \n",
       "mean      1.309876     0.169922          72.498963             31.687911   \n",
       "std       1.458459     0.320044          43.518166             18.582527   \n",
       "min       0.000000     0.000000           0.000000              0.000000   \n",
       "25%       0.250000     0.000000          41.625000             18.333333   \n",
       "50%       1.000000     0.000000          65.500000             29.000000   \n",
       "75%       2.000000     0.250000          96.750000             41.750000   \n",
       "max      15.000000     3.000000         299.000000            154.000000   \n",
       "\n",
       "       B_avg_SIG_STR_pct  B_avg_SUB_ATT  B_avg_TD_att  B_avg_TD_landed  \\\n",
       "count        3549.000000    3549.000000   3549.000000      3549.000000   \n",
       "mean            0.454664       0.544716      2.888463         1.219878   \n",
       "std             0.118953       0.708612      2.679570         1.256448   \n",
       "min             0.000000       0.000000      0.000000         0.000000   \n",
       "25%             0.388095       0.000000      1.000000         0.250000   \n",
       "50%             0.453636       0.333333      2.142857         1.000000   \n",
       "75%             0.520000       0.875000      4.235294         1.818182   \n",
       "max             1.000000       8.000000     19.000000        10.000000   \n",
       "\n",
       "       B_avg_TD_pct  B_avg_TOTAL_STR_att  B_avg_TOTAL_STR_landed  \\\n",
       "count   3549.000000          3549.000000             3549.000000   \n",
       "mean       0.313787            95.234285               51.946386   \n",
       "std        0.249945            49.755193               28.250053   \n",
       "min        0.000000             0.000000                0.000000   \n",
       "25%        0.110000            61.333333               33.000000   \n",
       "50%        0.300000            89.222222               48.875000   \n",
       "75%        0.475000           124.500000               67.375000   \n",
       "max        1.000000           360.000000              230.000000   \n",
       "\n",
       "       B_longest_win_streak     B_losses  B_avg_opp_BODY_att  \\\n",
       "count           3549.000000  3549.000000         3549.000000   \n",
       "mean               2.172161     2.005072            8.617734   \n",
       "std                1.787295     1.953656            6.652608   \n",
       "min                0.000000     0.000000            0.000000   \n",
       "25%                1.000000     1.000000            4.000000   \n",
       "50%                2.000000     1.000000            7.150000   \n",
       "75%                3.000000     3.000000           12.000000   \n",
       "max               16.000000    13.000000           61.000000   \n",
       "\n",
       "       B_avg_opp_BODY_landed  B_avg_opp_CLINCH_att  B_avg_opp_CLINCH_landed  \\\n",
       "count            3549.000000           3549.000000              3549.000000   \n",
       "mean                5.831241              7.586074                 5.021735   \n",
       "std                 4.712972              6.939332                 5.027695   \n",
       "min                 0.000000              0.000000                 0.000000   \n",
       "25%                 2.500000              3.000000                 2.000000   \n",
       "50%                 4.941176              6.000000                 3.833333   \n",
       "75%                 7.928571             10.250000                 6.875000   \n",
       "max                48.000000            105.000000                84.000000   \n",
       "\n",
       "       B_avg_opp_DISTANCE_att  B_avg_opp_DISTANCE_landed  \\\n",
       "count             3549.000000                3549.000000   \n",
       "mean                53.991357                  18.926954   \n",
       "std                 40.925993                  15.272368   \n",
       "min                  0.000000                   0.000000   \n",
       "25%                 24.600000                   8.000000   \n",
       "50%                 46.000000                  15.300000   \n",
       "75%                 73.368421                  26.000000   \n",
       "max                361.000000                 150.000000   \n",
       "\n",
       "       B_avg_opp_GROUND_att  B_avg_opp_GROUND_landed  B_avg_opp_HEAD_att  \\\n",
       "count           3549.000000              3549.000000         3549.000000   \n",
       "mean               7.038743                 4.599155           53.748353   \n",
       "std                8.365078                 5.734025           35.669909   \n",
       "min                0.000000                 0.000000            0.000000   \n",
       "25%                1.700000                 1.000000           29.000000   \n",
       "50%                4.750000                 3.000000           48.000000   \n",
       "75%                9.400000                 6.000000           70.142857   \n",
       "max               94.000000                84.000000          335.000000   \n",
       "\n",
       "       B_avg_opp_HEAD_landed  B_avg_opp_KD  B_avg_opp_LEG_att  \\\n",
       "count            3549.000000   3549.000000        3549.000000   \n",
       "mean               17.785131      0.159616           6.250087   \n",
       "std                12.524385      0.274407           5.588920   \n",
       "min                 0.000000      0.000000           0.000000   \n",
       "25%                 9.400000      0.000000           2.500000   \n",
       "50%                15.400000      0.000000           5.000000   \n",
       "75%                23.428571      0.250000           8.333333   \n",
       "max               126.000000      3.000000          57.000000   \n",
       "\n",
       "       B_avg_opp_LEG_landed  B_avg_opp_PASS  B_avg_opp_REV  \\\n",
       "count           3549.000000     3549.000000    3549.000000   \n",
       "mean               4.931473        1.085704       0.154961   \n",
       "std                4.497621        1.422699       0.309469   \n",
       "min                0.000000        0.000000       0.000000   \n",
       "25%                2.000000        0.125000       0.000000   \n",
       "50%                4.000000        0.700000       0.000000   \n",
       "75%                6.727273        1.500000       0.200000   \n",
       "max               50.000000       19.000000       3.000000   \n",
       "\n",
       "       B_avg_opp_SIG_STR_att  B_avg_opp_SIG_STR_landed  B_avg_opp_SIG_STR_pct  \\\n",
       "count            3549.000000               3549.000000            3549.000000   \n",
       "mean               68.616174                 28.547844               0.424724   \n",
       "std                43.249464                 17.963331               0.118798   \n",
       "min                 0.500000                  0.000000               0.000000   \n",
       "25%                37.727273                 16.000000               0.353333   \n",
       "50%                62.666667                 26.000000               0.413333   \n",
       "75%                88.900000                 37.000000               0.490000   \n",
       "max               401.000000                202.000000               1.000000   \n",
       "\n",
       "       B_avg_opp_SUB_ATT  B_avg_opp_TD_att  B_avg_opp_TD_landed  \\\n",
       "count        3549.000000       3549.000000          3549.000000   \n",
       "mean            0.453846          2.974605             1.105597   \n",
       "std             0.629297          2.539857             1.150660   \n",
       "min             0.000000          0.000000             0.000000   \n",
       "25%             0.000000          1.000000             0.333333   \n",
       "50%             0.250000          2.500000             0.875000   \n",
       "75%             0.666667          4.000000             1.500000   \n",
       "max             7.000000         20.000000            11.500000   \n",
       "\n",
       "       B_avg_opp_TD_pct  B_avg_opp_TOTAL_STR_att  B_avg_opp_TOTAL_STR_landed  \\\n",
       "count       3549.000000              3549.000000                 3549.000000   \n",
       "mean           0.274473                89.216411                   46.962918   \n",
       "std            0.242400                47.825159                   26.240977   \n",
       "min            0.000000                 0.500000                    0.000000   \n",
       "25%            0.092500                56.500000                   30.000000   \n",
       "50%            0.240769                84.857143                   43.720000   \n",
       "75%            0.383333               115.000000                   59.600000   \n",
       "max            1.000000               404.000000                  232.000000   \n",
       "\n",
       "       B_total_rounds_fought  B_total_time_fought(seconds)  \\\n",
       "count            3549.000000                   3549.000000   \n",
       "mean               12.390814                    603.829975   \n",
       "std                11.773450                    224.240405   \n",
       "min                 1.000000                      7.000000   \n",
       "25%                 4.000000                    463.750000   \n",
       "50%                 9.000000                    620.565217   \n",
       "75%                17.000000                    771.600000   \n",
       "max                75.000000                   1500.000000   \n",
       "\n",
       "       B_total_title_bouts  B_win_by_Decision_Majority  \\\n",
       "count          3549.000000                 3549.000000   \n",
       "mean              0.380671                    0.023387   \n",
       "std               1.313437                    0.153003   \n",
       "min               0.000000                    0.000000   \n",
       "25%               0.000000                    0.000000   \n",
       "50%               0.000000                    0.000000   \n",
       "75%               0.000000                    0.000000   \n",
       "max              16.000000                    2.000000   \n",
       "\n",
       "       B_win_by_Decision_Split  B_win_by_Decision_Unanimous  B_win_by_KO/TKO  \\\n",
       "count              3549.000000                  3549.000000      3549.000000   \n",
       "mean                  0.297830                     1.094675         1.198084   \n",
       "std                   0.606288                     1.433827         1.727631   \n",
       "min                   0.000000                     0.000000         0.000000   \n",
       "25%                   0.000000                     0.000000         0.000000   \n",
       "50%                   0.000000                     1.000000         1.000000   \n",
       "75%                   0.000000                     2.000000         2.000000   \n",
       "max                   5.000000                    10.000000        11.000000   \n",
       "\n",
       "       B_win_by_Submission  B_win_by_TKO_Doctor_Stoppage       B_wins  \\\n",
       "count          3549.000000                   3549.000000  3549.000000   \n",
       "mean              0.742744                      0.060017     3.424063   \n",
       "std               1.256115                      0.252505     3.384459   \n",
       "min               0.000000                      0.000000     0.000000   \n",
       "25%               0.000000                      0.000000     1.000000   \n",
       "50%               0.000000                      0.000000     2.000000   \n",
       "75%               1.000000                      0.000000     5.000000   \n",
       "max              11.000000                      2.000000    23.000000   \n",
       "\n",
       "       B_Height_cms  B_Reach_cms  B_Weight_lbs  R_current_lose_streak  \\\n",
       "count   3548.000000  3377.000000   3549.000000            3549.000000   \n",
       "mean     179.221054   183.599805    170.212172               0.627219   \n",
       "std        8.413365     9.992706     33.514360               0.859297   \n",
       "min      152.400000   152.400000    115.000000               0.000000   \n",
       "25%      172.720000   177.800000    145.000000               0.000000   \n",
       "50%      180.340000   182.880000    170.000000               0.000000   \n",
       "75%      185.420000   190.500000    185.000000               1.000000   \n",
       "max      210.820000   213.360000    265.000000               7.000000   \n",
       "\n",
       "       R_current_win_streak  R_draw  R_avg_BODY_att  R_avg_BODY_landed  \\\n",
       "count           3549.000000  3549.0     3549.000000        3549.000000   \n",
       "mean               1.215554     0.0        9.133827           6.343100   \n",
       "std                1.723086     0.0        6.823562           4.769922   \n",
       "min                0.000000     0.0        0.000000           0.000000   \n",
       "25%                0.000000     0.0        4.333333           3.000000   \n",
       "50%                1.000000     0.0        7.571429           5.200000   \n",
       "75%                2.000000     0.0       12.250000           8.700000   \n",
       "max               16.000000     0.0       51.000000          39.000000   \n",
       "\n",
       "       R_avg_CLINCH_att  R_avg_CLINCH_landed  R_avg_DISTANCE_att  \\\n",
       "count       3549.000000          3549.000000         3549.000000   \n",
       "mean           8.321312             5.624595           55.949955   \n",
       "std            6.801075             4.943064           38.961929   \n",
       "min            0.000000             0.000000            0.000000   \n",
       "25%            3.750000             2.285714           28.000000   \n",
       "50%            6.846154             4.500000           48.222222   \n",
       "75%           11.000000             7.500000           76.666667   \n",
       "max           72.000000            52.000000          287.500000   \n",
       "\n",
       "       R_avg_DISTANCE_landed  R_avg_GROUND_att  R_avg_GROUND_landed  \\\n",
       "count            3549.000000       3549.000000          3549.000000   \n",
       "mean               20.460045          9.700858             6.437355   \n",
       "std                14.919758          8.586898             5.772863   \n",
       "min                 0.000000          0.000000             0.000000   \n",
       "25%                 9.625000          3.666667             2.500000   \n",
       "50%                16.785714          7.800000             5.111111   \n",
       "75%                28.666667         13.000000             8.714286   \n",
       "max               131.000000         83.000000            53.000000   \n",
       "\n",
       "       R_avg_HEAD_att  R_avg_HEAD_landed     R_avg_KD  R_avg_LEG_att  \\\n",
       "count     3549.000000        3549.000000  3549.000000    3549.000000   \n",
       "mean        58.293693          21.011789     0.272204       6.544605   \n",
       "std         33.022576          11.668252     0.325813       5.793775   \n",
       "min          0.000000           0.000000     0.000000       0.000000   \n",
       "25%         35.200000          13.250000     0.000000       2.250000   \n",
       "50%         52.400000          19.000000     0.200000       5.000000   \n",
       "75%         76.500000          27.000000     0.411765       9.111111   \n",
       "max        264.000000         119.000000     4.000000      57.000000   \n",
       "\n",
       "       R_avg_LEG_landed   R_avg_PASS    R_avg_REV  R_avg_SIG_STR_att  \\\n",
       "count       3549.000000  3549.000000  3549.000000        3549.000000   \n",
       "mean           5.167105     1.439245     0.151658          73.972126   \n",
       "std            4.496528     1.433176     0.270066          40.565534   \n",
       "min            0.000000     0.000000     0.000000           0.000000   \n",
       "25%            2.000000     0.375000     0.000000          46.000000   \n",
       "50%            4.000000     1.000000     0.000000          67.000000   \n",
       "75%            7.294118     2.050000     0.210526          97.111111   \n",
       "max           41.000000    14.000000     3.000000         298.500000   \n",
       "\n",
       "       R_avg_SIG_STR_landed  R_avg_SIG_STR_pct  R_avg_SUB_ATT  R_avg_TD_att  \\\n",
       "count           3549.000000        3549.000000    3549.000000   3549.000000   \n",
       "mean              32.521995           0.462504       0.545343      3.099813   \n",
       "std               17.039156           0.112898       0.626744      2.739955   \n",
       "min                0.000000           0.000000       0.000000      0.000000   \n",
       "25%               20.800000           0.395000       0.000000      1.000000   \n",
       "50%               29.750000           0.456000       0.400000      2.500000   \n",
       "75%               42.625000           0.525000       0.833333      4.500000   \n",
       "max              141.000000           1.000000       9.000000     30.000000   \n",
       "\n",
       "       R_avg_TD_landed  R_avg_TD_pct  R_avg_TOTAL_STR_att  \\\n",
       "count      3549.000000   3549.000000          3549.000000   \n",
       "mean          1.333273      0.332017            96.468023   \n",
       "std           1.212262      0.227668            45.736328   \n",
       "min           0.000000      0.000000             0.000000   \n",
       "25%           0.428571      0.170000            64.666667   \n",
       "50%           1.000000      0.321250            92.000000   \n",
       "75%           2.000000      0.472000           122.391304   \n",
       "max          11.000000      1.000000           325.500000   \n",
       "\n",
       "       R_avg_TOTAL_STR_landed  R_longest_win_streak     R_losses  \\\n",
       "count             3549.000000           3549.000000  3549.000000   \n",
       "mean                52.616206              2.801916     2.394759   \n",
       "std                 25.816222              2.063790     2.200488   \n",
       "min                  0.000000              0.000000     0.000000   \n",
       "25%                 35.625000              1.000000     1.000000   \n",
       "50%                 49.555556              2.000000     2.000000   \n",
       "75%                 65.666667              4.000000     3.000000   \n",
       "max                202.500000             16.000000    14.000000   \n",
       "\n",
       "       R_avg_opp_BODY_att  R_avg_opp_BODY_landed  R_avg_opp_CLINCH_att  \\\n",
       "count         3549.000000            3549.000000           3549.000000   \n",
       "mean             8.403340               5.624005              7.406590   \n",
       "std              5.919775               3.993842              6.173040   \n",
       "min              0.000000               0.000000              0.000000   \n",
       "25%              4.000000               2.750000              3.285714   \n",
       "50%              7.333333               5.000000              6.176471   \n",
       "75%             11.625000               7.666667              9.833333   \n",
       "max             75.000000              41.000000             82.000000   \n",
       "\n",
       "       R_avg_opp_CLINCH_landed  R_avg_opp_DISTANCE_att  \\\n",
       "count              3549.000000             3549.000000   \n",
       "mean                  4.837108               54.393767   \n",
       "std                   4.263464               38.015087   \n",
       "min                   0.000000                0.000000   \n",
       "25%                   2.000000               26.750000   \n",
       "50%                   4.000000               47.857143   \n",
       "75%                   6.400000               74.333333   \n",
       "max                  51.000000              440.000000   \n",
       "\n",
       "       R_avg_opp_DISTANCE_landed  R_avg_opp_GROUND_att  \\\n",
       "count                3549.000000           3549.000000   \n",
       "mean                   18.517994              6.633687   \n",
       "std                    13.800672              7.259741   \n",
       "min                     0.000000              0.000000   \n",
       "25%                     8.500000              1.947368   \n",
       "50%                    15.777778              4.785714   \n",
       "75%                    25.363636              9.125000   \n",
       "max                   144.000000            104.000000   \n",
       "\n",
       "       R_avg_opp_GROUND_landed  R_avg_opp_HEAD_att  R_avg_opp_HEAD_landed  \\\n",
       "count              3549.000000         3549.000000            3549.000000   \n",
       "mean                  4.286871           53.853850              17.242135   \n",
       "std                   4.598455           32.877829              11.152332   \n",
       "min                   0.000000            0.000000               0.000000   \n",
       "25%                   1.166667           30.800000              10.000000   \n",
       "50%                   3.000000           48.625000              15.000000   \n",
       "75%                   5.916667           71.000000              22.684211   \n",
       "max                  52.000000          400.000000             132.000000   \n",
       "\n",
       "       R_avg_opp_KD  R_avg_opp_LEG_att  R_avg_opp_LEG_landed  R_avg_opp_PASS  \\\n",
       "count   3549.000000        3549.000000           3549.000000     3549.000000   \n",
       "mean       0.155298           6.176854              4.775833        0.999823   \n",
       "std        0.236448           5.061296              3.856057        1.219726   \n",
       "min        0.000000           0.000000              0.000000        0.000000   \n",
       "25%        0.000000           2.800000              2.076923        0.200000   \n",
       "50%        0.066667           5.080000              4.000000        0.666667   \n",
       "75%        0.250000           8.250000              6.500000        1.375000   \n",
       "max        3.000000          63.000000             41.000000       17.000000   \n",
       "\n",
       "       R_avg_opp_REV  R_avg_opp_SIG_STR_att  R_avg_opp_SIG_STR_landed  \\\n",
       "count    3549.000000            3549.000000               3549.000000   \n",
       "mean        0.156800              68.434044                 27.641973   \n",
       "std         0.275528              39.877301                 15.833447   \n",
       "min         0.000000               0.000000                  0.000000   \n",
       "25%         0.000000              40.200000                 17.000000   \n",
       "50%         0.000000              63.125000                 25.428571   \n",
       "75%         0.222222              89.500000                 35.750000   \n",
       "max         3.000000             454.000000                151.000000   \n",
       "\n",
       "       R_avg_opp_SIG_STR_pct  R_avg_opp_SUB_ATT  R_avg_opp_TD_att  \\\n",
       "count            3549.000000        3549.000000       3549.000000   \n",
       "mean                0.412008           0.440242          2.905260   \n",
       "std                 0.104608           0.570449          2.256827   \n",
       "min                 0.000000           0.000000          0.000000   \n",
       "25%                 0.344286           0.000000          1.285714   \n",
       "50%                 0.406250           0.285714          2.500000   \n",
       "75%                 0.470000           0.625000          4.000000   \n",
       "max                 1.000000           8.000000         20.000000   \n",
       "\n",
       "       R_avg_opp_TD_landed  R_avg_opp_TD_pct  R_avg_opp_TOTAL_STR_att  \\\n",
       "count          3549.000000       3549.000000              3549.000000   \n",
       "mean              1.032875          0.256536                88.042964   \n",
       "std               0.991758          0.209746                43.868822   \n",
       "min               0.000000          0.000000                 0.000000   \n",
       "25%               0.333333          0.104286                57.666667   \n",
       "50%               0.818182          0.227500                84.500000   \n",
       "75%               1.470588          0.358462               111.500000   \n",
       "max              11.000000          1.000000               461.000000   \n",
       "\n",
       "       R_avg_opp_TOTAL_STR_landed  R_total_rounds_fought  \\\n",
       "count                 3549.000000            3549.000000   \n",
       "mean                    45.191823              16.316991   \n",
       "std                     22.940470              13.809548   \n",
       "min                      0.000000               1.000000   \n",
       "25%                     30.714286               6.000000   \n",
       "50%                     43.000000              12.000000   \n",
       "75%                     56.400000              23.000000   \n",
       "max                    202.000000              80.000000   \n",
       "\n",
       "       R_total_time_fought(seconds)  R_total_title_bouts  \\\n",
       "count                   3549.000000          3549.000000   \n",
       "mean                     614.723752             0.774584   \n",
       "std                      215.552829             1.789647   \n",
       "min                        7.000000             0.000000   \n",
       "25%                      489.200000             0.000000   \n",
       "50%                      627.500000             0.000000   \n",
       "75%                      759.000000             1.000000   \n",
       "max                     1500.000000            16.000000   \n",
       "\n",
       "       R_win_by_Decision_Majority  R_win_by_Decision_Split  \\\n",
       "count                 3549.000000              3549.000000   \n",
       "mean                     0.035785                 0.357566   \n",
       "std                      0.188789                 0.659945   \n",
       "min                      0.000000                 0.000000   \n",
       "25%                      0.000000                 0.000000   \n",
       "50%                      0.000000                 0.000000   \n",
       "75%                      0.000000                 1.000000   \n",
       "max                      2.000000                 5.000000   \n",
       "\n",
       "       R_win_by_Decision_Unanimous  R_win_by_KO/TKO  R_win_by_Submission  \\\n",
       "count                  3549.000000      3549.000000          3549.000000   \n",
       "mean                      1.518174         1.599042             0.959989   \n",
       "std                       1.725046         1.958881             1.436589   \n",
       "min                       0.000000         0.000000             0.000000   \n",
       "25%                       0.000000         0.000000             0.000000   \n",
       "50%                       1.000000         1.000000             0.000000   \n",
       "75%                       2.000000         2.000000             1.000000   \n",
       "max                      10.000000        11.000000            13.000000   \n",
       "\n",
       "       R_win_by_TKO_Doctor_Stoppage       R_wins  R_Height_cms  R_Reach_cms  \\\n",
       "count                   3549.000000  3549.000000   3549.000000  3508.000000   \n",
       "mean                       0.084813     4.565230    179.114015   183.785798   \n",
       "std                        0.301944     3.823625      8.697611    10.353783   \n",
       "min                        0.000000     0.000000    152.400000   152.400000   \n",
       "25%                        0.000000     2.000000    172.720000   177.800000   \n",
       "50%                        0.000000     4.000000    180.340000   185.420000   \n",
       "75%                        0.000000     7.000000    185.420000   190.500000   \n",
       "max                        2.000000    20.000000    210.820000   213.360000   \n",
       "\n",
       "       R_Weight_lbs        B_age        R_age  \n",
       "count   3549.000000  3535.000000  3547.000000  \n",
       "mean     170.432516    29.660255    29.956865  \n",
       "std       33.681942     4.033005     4.144948  \n",
       "min      115.000000    20.000000    19.000000  \n",
       "25%      145.000000    27.000000    27.000000  \n",
       "50%      170.000000    29.000000    30.000000  \n",
       "75%      185.000000    32.000000    33.000000  \n",
       "max      265.000000    47.000000    46.000000  "
      ]
     },
     "execution_count": 9,
     "metadata": {},
     "output_type": "execute_result"
    }
   ],
   "source": [
    "df.describe()"
   ]
  },
  {
   "cell_type": "markdown",
   "metadata": {},
   "source": [
    "#### 불필요한 변수 삭제"
   ]
  },
  {
   "cell_type": "code",
   "execution_count": 10,
   "metadata": {},
   "outputs": [],
   "source": [
    "df.drop(['B_draw', 'R_draw'], axis = 1, inplace = True)\n",
    "df = df[df['Winner'] != 'Draw']\n",
    "df = df.drop(columns=['R_fighter','B_fighter','Referee','location','R_Stance','B_Stance'])"
   ]
  },
  {
   "cell_type": "code",
   "execution_count": 11,
   "metadata": {},
   "outputs": [
    {
     "name": "stdout",
     "output_type": "stream",
     "text": [
      "Nan in B_Height_cms: 1\n",
      "Nan in B_Reach_cms: 172\n",
      "Nan in R_Reach_cms: 41\n",
      "Nan in B_age: 14\n",
      "Nan in R_age: 2\n"
     ]
    }
   ],
   "source": [
    "for column in df.columns:\n",
    "    if df[column].isnull().sum()!=0:\n",
    "        print(f\"Nan in {column}: {df[column].isnull().sum()}\")"
   ]
  },
  {
   "cell_type": "markdown",
   "metadata": {},
   "source": [
    "팀에 따른 winner 분포"
   ]
  },
  {
   "cell_type": "code",
   "execution_count": 12,
   "metadata": {},
   "outputs": [
    {
     "data": {
      "application/vnd.plotly.v1+json": {
       "config": {
        "linkText": "Export to plot.ly",
        "plotlyServerURL": "https://plot.ly",
        "showLink": false
       },
       "data": [
        {
         "labels": [
          "Red",
          "Blue"
         ],
         "marker": {
          "colors": [
           "red",
           "blue",
           "green"
          ]
         },
         "type": "pie",
         "values": [
          2284,
          1212
         ]
        }
       ],
       "layout": {
        "template": {
         "data": {
          "bar": [
           {
            "error_x": {
             "color": "#2a3f5f"
            },
            "error_y": {
             "color": "#2a3f5f"
            },
            "marker": {
             "line": {
              "color": "#E5ECF6",
              "width": 0.5
             }
            },
            "type": "bar"
           }
          ],
          "barpolar": [
           {
            "marker": {
             "line": {
              "color": "#E5ECF6",
              "width": 0.5
             }
            },
            "type": "barpolar"
           }
          ],
          "carpet": [
           {
            "aaxis": {
             "endlinecolor": "#2a3f5f",
             "gridcolor": "white",
             "linecolor": "white",
             "minorgridcolor": "white",
             "startlinecolor": "#2a3f5f"
            },
            "baxis": {
             "endlinecolor": "#2a3f5f",
             "gridcolor": "white",
             "linecolor": "white",
             "minorgridcolor": "white",
             "startlinecolor": "#2a3f5f"
            },
            "type": "carpet"
           }
          ],
          "choropleth": [
           {
            "colorbar": {
             "outlinewidth": 0,
             "ticks": ""
            },
            "type": "choropleth"
           }
          ],
          "contour": [
           {
            "colorbar": {
             "outlinewidth": 0,
             "ticks": ""
            },
            "colorscale": [
             [
              0,
              "#0d0887"
             ],
             [
              0.1111111111111111,
              "#46039f"
             ],
             [
              0.2222222222222222,
              "#7201a8"
             ],
             [
              0.3333333333333333,
              "#9c179e"
             ],
             [
              0.4444444444444444,
              "#bd3786"
             ],
             [
              0.5555555555555556,
              "#d8576b"
             ],
             [
              0.6666666666666666,
              "#ed7953"
             ],
             [
              0.7777777777777778,
              "#fb9f3a"
             ],
             [
              0.8888888888888888,
              "#fdca26"
             ],
             [
              1,
              "#f0f921"
             ]
            ],
            "type": "contour"
           }
          ],
          "contourcarpet": [
           {
            "colorbar": {
             "outlinewidth": 0,
             "ticks": ""
            },
            "type": "contourcarpet"
           }
          ],
          "heatmap": [
           {
            "colorbar": {
             "outlinewidth": 0,
             "ticks": ""
            },
            "colorscale": [
             [
              0,
              "#0d0887"
             ],
             [
              0.1111111111111111,
              "#46039f"
             ],
             [
              0.2222222222222222,
              "#7201a8"
             ],
             [
              0.3333333333333333,
              "#9c179e"
             ],
             [
              0.4444444444444444,
              "#bd3786"
             ],
             [
              0.5555555555555556,
              "#d8576b"
             ],
             [
              0.6666666666666666,
              "#ed7953"
             ],
             [
              0.7777777777777778,
              "#fb9f3a"
             ],
             [
              0.8888888888888888,
              "#fdca26"
             ],
             [
              1,
              "#f0f921"
             ]
            ],
            "type": "heatmap"
           }
          ],
          "heatmapgl": [
           {
            "colorbar": {
             "outlinewidth": 0,
             "ticks": ""
            },
            "colorscale": [
             [
              0,
              "#0d0887"
             ],
             [
              0.1111111111111111,
              "#46039f"
             ],
             [
              0.2222222222222222,
              "#7201a8"
             ],
             [
              0.3333333333333333,
              "#9c179e"
             ],
             [
              0.4444444444444444,
              "#bd3786"
             ],
             [
              0.5555555555555556,
              "#d8576b"
             ],
             [
              0.6666666666666666,
              "#ed7953"
             ],
             [
              0.7777777777777778,
              "#fb9f3a"
             ],
             [
              0.8888888888888888,
              "#fdca26"
             ],
             [
              1,
              "#f0f921"
             ]
            ],
            "type": "heatmapgl"
           }
          ],
          "histogram": [
           {
            "marker": {
             "colorbar": {
              "outlinewidth": 0,
              "ticks": ""
             }
            },
            "type": "histogram"
           }
          ],
          "histogram2d": [
           {
            "colorbar": {
             "outlinewidth": 0,
             "ticks": ""
            },
            "colorscale": [
             [
              0,
              "#0d0887"
             ],
             [
              0.1111111111111111,
              "#46039f"
             ],
             [
              0.2222222222222222,
              "#7201a8"
             ],
             [
              0.3333333333333333,
              "#9c179e"
             ],
             [
              0.4444444444444444,
              "#bd3786"
             ],
             [
              0.5555555555555556,
              "#d8576b"
             ],
             [
              0.6666666666666666,
              "#ed7953"
             ],
             [
              0.7777777777777778,
              "#fb9f3a"
             ],
             [
              0.8888888888888888,
              "#fdca26"
             ],
             [
              1,
              "#f0f921"
             ]
            ],
            "type": "histogram2d"
           }
          ],
          "histogram2dcontour": [
           {
            "colorbar": {
             "outlinewidth": 0,
             "ticks": ""
            },
            "colorscale": [
             [
              0,
              "#0d0887"
             ],
             [
              0.1111111111111111,
              "#46039f"
             ],
             [
              0.2222222222222222,
              "#7201a8"
             ],
             [
              0.3333333333333333,
              "#9c179e"
             ],
             [
              0.4444444444444444,
              "#bd3786"
             ],
             [
              0.5555555555555556,
              "#d8576b"
             ],
             [
              0.6666666666666666,
              "#ed7953"
             ],
             [
              0.7777777777777778,
              "#fb9f3a"
             ],
             [
              0.8888888888888888,
              "#fdca26"
             ],
             [
              1,
              "#f0f921"
             ]
            ],
            "type": "histogram2dcontour"
           }
          ],
          "mesh3d": [
           {
            "colorbar": {
             "outlinewidth": 0,
             "ticks": ""
            },
            "type": "mesh3d"
           }
          ],
          "parcoords": [
           {
            "line": {
             "colorbar": {
              "outlinewidth": 0,
              "ticks": ""
             }
            },
            "type": "parcoords"
           }
          ],
          "pie": [
           {
            "automargin": true,
            "type": "pie"
           }
          ],
          "scatter": [
           {
            "marker": {
             "colorbar": {
              "outlinewidth": 0,
              "ticks": ""
             }
            },
            "type": "scatter"
           }
          ],
          "scatter3d": [
           {
            "line": {
             "colorbar": {
              "outlinewidth": 0,
              "ticks": ""
             }
            },
            "marker": {
             "colorbar": {
              "outlinewidth": 0,
              "ticks": ""
             }
            },
            "type": "scatter3d"
           }
          ],
          "scattercarpet": [
           {
            "marker": {
             "colorbar": {
              "outlinewidth": 0,
              "ticks": ""
             }
            },
            "type": "scattercarpet"
           }
          ],
          "scattergeo": [
           {
            "marker": {
             "colorbar": {
              "outlinewidth": 0,
              "ticks": ""
             }
            },
            "type": "scattergeo"
           }
          ],
          "scattergl": [
           {
            "marker": {
             "colorbar": {
              "outlinewidth": 0,
              "ticks": ""
             }
            },
            "type": "scattergl"
           }
          ],
          "scattermapbox": [
           {
            "marker": {
             "colorbar": {
              "outlinewidth": 0,
              "ticks": ""
             }
            },
            "type": "scattermapbox"
           }
          ],
          "scatterpolar": [
           {
            "marker": {
             "colorbar": {
              "outlinewidth": 0,
              "ticks": ""
             }
            },
            "type": "scatterpolar"
           }
          ],
          "scatterpolargl": [
           {
            "marker": {
             "colorbar": {
              "outlinewidth": 0,
              "ticks": ""
             }
            },
            "type": "scatterpolargl"
           }
          ],
          "scatterternary": [
           {
            "marker": {
             "colorbar": {
              "outlinewidth": 0,
              "ticks": ""
             }
            },
            "type": "scatterternary"
           }
          ],
          "surface": [
           {
            "colorbar": {
             "outlinewidth": 0,
             "ticks": ""
            },
            "colorscale": [
             [
              0,
              "#0d0887"
             ],
             [
              0.1111111111111111,
              "#46039f"
             ],
             [
              0.2222222222222222,
              "#7201a8"
             ],
             [
              0.3333333333333333,
              "#9c179e"
             ],
             [
              0.4444444444444444,
              "#bd3786"
             ],
             [
              0.5555555555555556,
              "#d8576b"
             ],
             [
              0.6666666666666666,
              "#ed7953"
             ],
             [
              0.7777777777777778,
              "#fb9f3a"
             ],
             [
              0.8888888888888888,
              "#fdca26"
             ],
             [
              1,
              "#f0f921"
             ]
            ],
            "type": "surface"
           }
          ],
          "table": [
           {
            "cells": {
             "fill": {
              "color": "#EBF0F8"
             },
             "line": {
              "color": "white"
             }
            },
            "header": {
             "fill": {
              "color": "#C8D4E3"
             },
             "line": {
              "color": "white"
             }
            },
            "type": "table"
           }
          ]
         },
         "layout": {
          "annotationdefaults": {
           "arrowcolor": "#2a3f5f",
           "arrowhead": 0,
           "arrowwidth": 1
          },
          "coloraxis": {
           "colorbar": {
            "outlinewidth": 0,
            "ticks": ""
           }
          },
          "colorscale": {
           "diverging": [
            [
             0,
             "#8e0152"
            ],
            [
             0.1,
             "#c51b7d"
            ],
            [
             0.2,
             "#de77ae"
            ],
            [
             0.3,
             "#f1b6da"
            ],
            [
             0.4,
             "#fde0ef"
            ],
            [
             0.5,
             "#f7f7f7"
            ],
            [
             0.6,
             "#e6f5d0"
            ],
            [
             0.7,
             "#b8e186"
            ],
            [
             0.8,
             "#7fbc41"
            ],
            [
             0.9,
             "#4d9221"
            ],
            [
             1,
             "#276419"
            ]
           ],
           "sequential": [
            [
             0,
             "#0d0887"
            ],
            [
             0.1111111111111111,
             "#46039f"
            ],
            [
             0.2222222222222222,
             "#7201a8"
            ],
            [
             0.3333333333333333,
             "#9c179e"
            ],
            [
             0.4444444444444444,
             "#bd3786"
            ],
            [
             0.5555555555555556,
             "#d8576b"
            ],
            [
             0.6666666666666666,
             "#ed7953"
            ],
            [
             0.7777777777777778,
             "#fb9f3a"
            ],
            [
             0.8888888888888888,
             "#fdca26"
            ],
            [
             1,
             "#f0f921"
            ]
           ],
           "sequentialminus": [
            [
             0,
             "#0d0887"
            ],
            [
             0.1111111111111111,
             "#46039f"
            ],
            [
             0.2222222222222222,
             "#7201a8"
            ],
            [
             0.3333333333333333,
             "#9c179e"
            ],
            [
             0.4444444444444444,
             "#bd3786"
            ],
            [
             0.5555555555555556,
             "#d8576b"
            ],
            [
             0.6666666666666666,
             "#ed7953"
            ],
            [
             0.7777777777777778,
             "#fb9f3a"
            ],
            [
             0.8888888888888888,
             "#fdca26"
            ],
            [
             1,
             "#f0f921"
            ]
           ]
          },
          "colorway": [
           "#636efa",
           "#EF553B",
           "#00cc96",
           "#ab63fa",
           "#FFA15A",
           "#19d3f3",
           "#FF6692",
           "#B6E880",
           "#FF97FF",
           "#FECB52"
          ],
          "font": {
           "color": "#2a3f5f"
          },
          "geo": {
           "bgcolor": "white",
           "lakecolor": "white",
           "landcolor": "#E5ECF6",
           "showlakes": true,
           "showland": true,
           "subunitcolor": "white"
          },
          "hoverlabel": {
           "align": "left"
          },
          "hovermode": "closest",
          "mapbox": {
           "style": "light"
          },
          "paper_bgcolor": "white",
          "plot_bgcolor": "#E5ECF6",
          "polar": {
           "angularaxis": {
            "gridcolor": "white",
            "linecolor": "white",
            "ticks": ""
           },
           "bgcolor": "#E5ECF6",
           "radialaxis": {
            "gridcolor": "white",
            "linecolor": "white",
            "ticks": ""
           }
          },
          "scene": {
           "xaxis": {
            "backgroundcolor": "#E5ECF6",
            "gridcolor": "white",
            "gridwidth": 2,
            "linecolor": "white",
            "showbackground": true,
            "ticks": "",
            "zerolinecolor": "white"
           },
           "yaxis": {
            "backgroundcolor": "#E5ECF6",
            "gridcolor": "white",
            "gridwidth": 2,
            "linecolor": "white",
            "showbackground": true,
            "ticks": "",
            "zerolinecolor": "white"
           },
           "zaxis": {
            "backgroundcolor": "#E5ECF6",
            "gridcolor": "white",
            "gridwidth": 2,
            "linecolor": "white",
            "showbackground": true,
            "ticks": "",
            "zerolinecolor": "white"
           }
          },
          "shapedefaults": {
           "line": {
            "color": "#2a3f5f"
           }
          },
          "ternary": {
           "aaxis": {
            "gridcolor": "white",
            "linecolor": "white",
            "ticks": ""
           },
           "baxis": {
            "gridcolor": "white",
            "linecolor": "white",
            "ticks": ""
           },
           "bgcolor": "#E5ECF6",
           "caxis": {
            "gridcolor": "white",
            "linecolor": "white",
            "ticks": ""
           }
          },
          "title": {
           "x": 0.05
          },
          "xaxis": {
           "automargin": true,
           "gridcolor": "white",
           "linecolor": "white",
           "ticks": "",
           "title": {
            "standoff": 15
           },
           "zerolinecolor": "white",
           "zerolinewidth": 2
          },
          "yaxis": {
           "automargin": true,
           "gridcolor": "white",
           "linecolor": "white",
           "ticks": "",
           "title": {
            "standoff": 15
           },
           "zerolinecolor": "white",
           "zerolinewidth": 2
          }
         }
        },
        "title": {
         "text": "Winner Distribution by Corner Color"
        }
       }
      },
      "text/html": [
       "<div>\n",
       "        \n",
       "        \n",
       "            <div id=\"da82913e-bc0a-45a1-aa11-a4d76cc20346\" class=\"plotly-graph-div\" style=\"height:525px; width:100%;\"></div>\n",
       "            <script type=\"text/javascript\">\n",
       "                require([\"plotly\"], function(Plotly) {\n",
       "                    window.PLOTLYENV=window.PLOTLYENV || {};\n",
       "                    \n",
       "                if (document.getElementById(\"da82913e-bc0a-45a1-aa11-a4d76cc20346\")) {\n",
       "                    Plotly.newPlot(\n",
       "                        'da82913e-bc0a-45a1-aa11-a4d76cc20346',\n",
       "                        [{\"labels\": [\"Red\", \"Blue\"], \"marker\": {\"colors\": [\"red\", \"blue\", \"green\"]}, \"type\": \"pie\", \"values\": [2284, 1212]}],\n",
       "                        {\"template\": {\"data\": {\"bar\": [{\"error_x\": {\"color\": \"#2a3f5f\"}, \"error_y\": {\"color\": \"#2a3f5f\"}, \"marker\": {\"line\": {\"color\": \"#E5ECF6\", \"width\": 0.5}}, \"type\": \"bar\"}], \"barpolar\": [{\"marker\": {\"line\": {\"color\": \"#E5ECF6\", \"width\": 0.5}}, \"type\": \"barpolar\"}], \"carpet\": [{\"aaxis\": {\"endlinecolor\": \"#2a3f5f\", \"gridcolor\": \"white\", \"linecolor\": \"white\", \"minorgridcolor\": \"white\", \"startlinecolor\": \"#2a3f5f\"}, \"baxis\": {\"endlinecolor\": \"#2a3f5f\", \"gridcolor\": \"white\", \"linecolor\": \"white\", \"minorgridcolor\": \"white\", \"startlinecolor\": \"#2a3f5f\"}, \"type\": \"carpet\"}], \"choropleth\": [{\"colorbar\": {\"outlinewidth\": 0, \"ticks\": \"\"}, \"type\": \"choropleth\"}], \"contour\": [{\"colorbar\": {\"outlinewidth\": 0, \"ticks\": \"\"}, \"colorscale\": [[0.0, \"#0d0887\"], [0.1111111111111111, \"#46039f\"], [0.2222222222222222, \"#7201a8\"], [0.3333333333333333, \"#9c179e\"], [0.4444444444444444, \"#bd3786\"], [0.5555555555555556, \"#d8576b\"], [0.6666666666666666, \"#ed7953\"], [0.7777777777777778, \"#fb9f3a\"], [0.8888888888888888, \"#fdca26\"], [1.0, \"#f0f921\"]], \"type\": \"contour\"}], \"contourcarpet\": [{\"colorbar\": {\"outlinewidth\": 0, \"ticks\": \"\"}, \"type\": \"contourcarpet\"}], \"heatmap\": [{\"colorbar\": {\"outlinewidth\": 0, \"ticks\": \"\"}, \"colorscale\": [[0.0, \"#0d0887\"], [0.1111111111111111, \"#46039f\"], [0.2222222222222222, \"#7201a8\"], [0.3333333333333333, \"#9c179e\"], [0.4444444444444444, \"#bd3786\"], [0.5555555555555556, \"#d8576b\"], [0.6666666666666666, \"#ed7953\"], [0.7777777777777778, \"#fb9f3a\"], [0.8888888888888888, \"#fdca26\"], [1.0, \"#f0f921\"]], \"type\": \"heatmap\"}], \"heatmapgl\": [{\"colorbar\": {\"outlinewidth\": 0, \"ticks\": \"\"}, \"colorscale\": [[0.0, \"#0d0887\"], [0.1111111111111111, \"#46039f\"], [0.2222222222222222, \"#7201a8\"], [0.3333333333333333, \"#9c179e\"], [0.4444444444444444, \"#bd3786\"], [0.5555555555555556, \"#d8576b\"], [0.6666666666666666, \"#ed7953\"], [0.7777777777777778, \"#fb9f3a\"], [0.8888888888888888, \"#fdca26\"], [1.0, \"#f0f921\"]], \"type\": \"heatmapgl\"}], \"histogram\": [{\"marker\": {\"colorbar\": {\"outlinewidth\": 0, \"ticks\": \"\"}}, \"type\": \"histogram\"}], \"histogram2d\": [{\"colorbar\": {\"outlinewidth\": 0, \"ticks\": \"\"}, \"colorscale\": [[0.0, \"#0d0887\"], [0.1111111111111111, \"#46039f\"], [0.2222222222222222, \"#7201a8\"], [0.3333333333333333, \"#9c179e\"], [0.4444444444444444, \"#bd3786\"], [0.5555555555555556, \"#d8576b\"], [0.6666666666666666, \"#ed7953\"], [0.7777777777777778, \"#fb9f3a\"], [0.8888888888888888, \"#fdca26\"], [1.0, \"#f0f921\"]], \"type\": \"histogram2d\"}], \"histogram2dcontour\": [{\"colorbar\": {\"outlinewidth\": 0, \"ticks\": \"\"}, \"colorscale\": [[0.0, \"#0d0887\"], [0.1111111111111111, \"#46039f\"], [0.2222222222222222, \"#7201a8\"], [0.3333333333333333, \"#9c179e\"], [0.4444444444444444, \"#bd3786\"], [0.5555555555555556, \"#d8576b\"], [0.6666666666666666, \"#ed7953\"], [0.7777777777777778, \"#fb9f3a\"], [0.8888888888888888, \"#fdca26\"], [1.0, \"#f0f921\"]], \"type\": \"histogram2dcontour\"}], \"mesh3d\": [{\"colorbar\": {\"outlinewidth\": 0, \"ticks\": \"\"}, \"type\": \"mesh3d\"}], \"parcoords\": [{\"line\": {\"colorbar\": {\"outlinewidth\": 0, \"ticks\": \"\"}}, \"type\": \"parcoords\"}], \"pie\": [{\"automargin\": true, \"type\": \"pie\"}], \"scatter\": [{\"marker\": {\"colorbar\": {\"outlinewidth\": 0, \"ticks\": \"\"}}, \"type\": \"scatter\"}], \"scatter3d\": [{\"line\": {\"colorbar\": {\"outlinewidth\": 0, \"ticks\": \"\"}}, \"marker\": {\"colorbar\": {\"outlinewidth\": 0, \"ticks\": \"\"}}, \"type\": \"scatter3d\"}], \"scattercarpet\": [{\"marker\": {\"colorbar\": {\"outlinewidth\": 0, \"ticks\": \"\"}}, \"type\": \"scattercarpet\"}], \"scattergeo\": [{\"marker\": {\"colorbar\": {\"outlinewidth\": 0, \"ticks\": \"\"}}, \"type\": \"scattergeo\"}], \"scattergl\": [{\"marker\": {\"colorbar\": {\"outlinewidth\": 0, \"ticks\": \"\"}}, \"type\": \"scattergl\"}], \"scattermapbox\": [{\"marker\": {\"colorbar\": {\"outlinewidth\": 0, \"ticks\": \"\"}}, \"type\": \"scattermapbox\"}], \"scatterpolar\": [{\"marker\": {\"colorbar\": {\"outlinewidth\": 0, \"ticks\": \"\"}}, \"type\": \"scatterpolar\"}], \"scatterpolargl\": [{\"marker\": {\"colorbar\": {\"outlinewidth\": 0, \"ticks\": \"\"}}, \"type\": \"scatterpolargl\"}], \"scatterternary\": [{\"marker\": {\"colorbar\": {\"outlinewidth\": 0, \"ticks\": \"\"}}, \"type\": \"scatterternary\"}], \"surface\": [{\"colorbar\": {\"outlinewidth\": 0, \"ticks\": \"\"}, \"colorscale\": [[0.0, \"#0d0887\"], [0.1111111111111111, \"#46039f\"], [0.2222222222222222, \"#7201a8\"], [0.3333333333333333, \"#9c179e\"], [0.4444444444444444, \"#bd3786\"], [0.5555555555555556, \"#d8576b\"], [0.6666666666666666, \"#ed7953\"], [0.7777777777777778, \"#fb9f3a\"], [0.8888888888888888, \"#fdca26\"], [1.0, \"#f0f921\"]], \"type\": \"surface\"}], \"table\": [{\"cells\": {\"fill\": {\"color\": \"#EBF0F8\"}, \"line\": {\"color\": \"white\"}}, \"header\": {\"fill\": {\"color\": \"#C8D4E3\"}, \"line\": {\"color\": \"white\"}}, \"type\": \"table\"}]}, \"layout\": {\"annotationdefaults\": {\"arrowcolor\": \"#2a3f5f\", \"arrowhead\": 0, \"arrowwidth\": 1}, \"coloraxis\": {\"colorbar\": {\"outlinewidth\": 0, \"ticks\": \"\"}}, \"colorscale\": {\"diverging\": [[0, \"#8e0152\"], [0.1, \"#c51b7d\"], [0.2, \"#de77ae\"], [0.3, \"#f1b6da\"], [0.4, \"#fde0ef\"], [0.5, \"#f7f7f7\"], [0.6, \"#e6f5d0\"], [0.7, \"#b8e186\"], [0.8, \"#7fbc41\"], [0.9, \"#4d9221\"], [1, \"#276419\"]], \"sequential\": [[0.0, \"#0d0887\"], [0.1111111111111111, \"#46039f\"], [0.2222222222222222, \"#7201a8\"], [0.3333333333333333, \"#9c179e\"], [0.4444444444444444, \"#bd3786\"], [0.5555555555555556, \"#d8576b\"], [0.6666666666666666, \"#ed7953\"], [0.7777777777777778, \"#fb9f3a\"], [0.8888888888888888, \"#fdca26\"], [1.0, \"#f0f921\"]], \"sequentialminus\": [[0.0, \"#0d0887\"], [0.1111111111111111, \"#46039f\"], [0.2222222222222222, \"#7201a8\"], [0.3333333333333333, \"#9c179e\"], [0.4444444444444444, \"#bd3786\"], [0.5555555555555556, \"#d8576b\"], [0.6666666666666666, \"#ed7953\"], [0.7777777777777778, \"#fb9f3a\"], [0.8888888888888888, \"#fdca26\"], [1.0, \"#f0f921\"]]}, \"colorway\": [\"#636efa\", \"#EF553B\", \"#00cc96\", \"#ab63fa\", \"#FFA15A\", \"#19d3f3\", \"#FF6692\", \"#B6E880\", \"#FF97FF\", \"#FECB52\"], \"font\": {\"color\": \"#2a3f5f\"}, \"geo\": {\"bgcolor\": \"white\", \"lakecolor\": \"white\", \"landcolor\": \"#E5ECF6\", \"showlakes\": true, \"showland\": true, \"subunitcolor\": \"white\"}, \"hoverlabel\": {\"align\": \"left\"}, \"hovermode\": \"closest\", \"mapbox\": {\"style\": \"light\"}, \"paper_bgcolor\": \"white\", \"plot_bgcolor\": \"#E5ECF6\", \"polar\": {\"angularaxis\": {\"gridcolor\": \"white\", \"linecolor\": \"white\", \"ticks\": \"\"}, \"bgcolor\": \"#E5ECF6\", \"radialaxis\": {\"gridcolor\": \"white\", \"linecolor\": \"white\", \"ticks\": \"\"}}, \"scene\": {\"xaxis\": {\"backgroundcolor\": \"#E5ECF6\", \"gridcolor\": \"white\", \"gridwidth\": 2, \"linecolor\": \"white\", \"showbackground\": true, \"ticks\": \"\", \"zerolinecolor\": \"white\"}, \"yaxis\": {\"backgroundcolor\": \"#E5ECF6\", \"gridcolor\": \"white\", \"gridwidth\": 2, \"linecolor\": \"white\", \"showbackground\": true, \"ticks\": \"\", \"zerolinecolor\": \"white\"}, \"zaxis\": {\"backgroundcolor\": \"#E5ECF6\", \"gridcolor\": \"white\", \"gridwidth\": 2, \"linecolor\": \"white\", \"showbackground\": true, \"ticks\": \"\", \"zerolinecolor\": \"white\"}}, \"shapedefaults\": {\"line\": {\"color\": \"#2a3f5f\"}}, \"ternary\": {\"aaxis\": {\"gridcolor\": \"white\", \"linecolor\": \"white\", \"ticks\": \"\"}, \"baxis\": {\"gridcolor\": \"white\", \"linecolor\": \"white\", \"ticks\": \"\"}, \"bgcolor\": \"#E5ECF6\", \"caxis\": {\"gridcolor\": \"white\", \"linecolor\": \"white\", \"ticks\": \"\"}}, \"title\": {\"x\": 0.05}, \"xaxis\": {\"automargin\": true, \"gridcolor\": \"white\", \"linecolor\": \"white\", \"ticks\": \"\", \"title\": {\"standoff\": 15}, \"zerolinecolor\": \"white\", \"zerolinewidth\": 2}, \"yaxis\": {\"automargin\": true, \"gridcolor\": \"white\", \"linecolor\": \"white\", \"ticks\": \"\", \"title\": {\"standoff\": 15}, \"zerolinecolor\": \"white\", \"zerolinewidth\": 2}}}, \"title\": {\"text\": \"Winner Distribution by Corner Color\"}},\n",
       "                        {\"responsive\": true}\n",
       "                    ).then(function(){\n",
       "                            \n",
       "var gd = document.getElementById('da82913e-bc0a-45a1-aa11-a4d76cc20346');\n",
       "var x = new MutationObserver(function (mutations, observer) {{\n",
       "        var display = window.getComputedStyle(gd).display;\n",
       "        if (!display || display === 'none') {{\n",
       "            console.log([gd, 'removed!']);\n",
       "            Plotly.purge(gd);\n",
       "            observer.disconnect();\n",
       "        }}\n",
       "}});\n",
       "\n",
       "// Listen for the removal of the full notebook cells\n",
       "var notebookContainer = gd.closest('#notebook-container');\n",
       "if (notebookContainer) {{\n",
       "    x.observe(notebookContainer, {childList: true});\n",
       "}}\n",
       "\n",
       "// Listen for the clearing of the current output cell\n",
       "var outputEl = gd.closest('.output');\n",
       "if (outputEl) {{\n",
       "    x.observe(outputEl, {childList: true});\n",
       "}}\n",
       "\n",
       "                        })\n",
       "                };\n",
       "                });\n",
       "            </script>\n",
       "        </div>"
      ]
     },
     "metadata": {},
     "output_type": "display_data"
    }
   ],
   "source": [
    "values = df.Winner.value_counts()\n",
    "labels = values.index\n",
    "colors = ['red','blue','green']\n",
    "trace = go.Pie(labels = labels,\n",
    "              values = values,\n",
    "              marker = dict(colors = colors)\n",
    "              )\n",
    "layout = go.Layout(title='Winner Distribution by Corner Color')\n",
    "fig = go.Figure(data=trace, layout=layout)\n",
    "iplot(fig)"
   ]
  },
  {
   "cell_type": "code",
   "execution_count": 13,
   "metadata": {},
   "outputs": [],
   "source": [
    "B_win_by = df[['B_win_by_Decision_Majority',\n",
    "    'B_win_by_Decision_Split',\n",
    "    'B_win_by_Decision_Unanimous',\n",
    "    'B_win_by_KO/TKO',\n",
    "    'B_win_by_Submission',\n",
    "    'B_win_by_TKO_Doctor_Stoppage']]\n",
    "R_win_by = df[['R_win_by_Decision_Majority',\n",
    "    'R_win_by_Decision_Split',\n",
    "    'R_win_by_Decision_Unanimous',\n",
    "    'R_win_by_KO/TKO',\n",
    "    'R_win_by_Submission',\n",
    "    'R_win_by_TKO_Doctor_Stoppage']]\n",
    "b_winby = B_win_by.sum(axis=0)\n",
    "r_winby = R_win_by.sum(axis=0)"
   ]
  },
  {
   "cell_type": "code",
   "execution_count": 14,
   "metadata": {},
   "outputs": [
    {
     "data": {
      "text/plain": [
       "B_win_by_Decision_Majority        82.0\n",
       "B_win_by_Decision_Split         1035.0\n",
       "B_win_by_Decision_Unanimous     3813.0\n",
       "B_win_by_KO/TKO                 4170.0\n",
       "B_win_by_Submission             2603.0\n",
       "B_win_by_TKO_Doctor_Stoppage     210.0\n",
       "dtype: float64"
      ]
     },
     "execution_count": 14,
     "metadata": {},
     "output_type": "execute_result"
    }
   ],
   "source": [
    "b_winby"
   ]
  },
  {
   "cell_type": "code",
   "execution_count": 15,
   "metadata": {},
   "outputs": [
    {
     "data": {
      "text/plain": [
       "R_win_by_Decision_Majority       125.0\n",
       "R_win_by_Decision_Split         1252.0\n",
       "R_win_by_Decision_Unanimous     5315.0\n",
       "R_win_by_KO/TKO                 5575.0\n",
       "R_win_by_Submission             3357.0\n",
       "R_win_by_TKO_Doctor_Stoppage     297.0\n",
       "dtype: float64"
      ]
     },
     "execution_count": 15,
     "metadata": {},
     "output_type": "execute_result"
    }
   ],
   "source": [
    "r_winby"
   ]
  },
  {
   "cell_type": "code",
   "execution_count": 16,
   "metadata": {},
   "outputs": [
    {
     "data": {
      "image/png": "[encoded data removed]",
      "text/plain": [
       "<Figure size 1008x432 with 1 Axes>"
      ]
     },
     "metadata": {},
     "output_type": "display_data"
    }
   ],
   "source": [
    "b_winby.plot(kind='line', figsize=(14,6))\n",
    "r_winby.plot(kind='line', figsize=(14,6))\n",
    "plt.show()"
   ]
  },
  {
   "cell_type": "markdown",
   "metadata": {},
   "source": [
    "### red가 더 많이 이기기도 했고 대부분 승은 만장일치나 KO , Submission으로 판정나는군"
   ]
  },
  {
   "cell_type": "code",
   "execution_count": 17,
   "metadata": {},
   "outputs": [
    {
     "data": {
      "text/plain": [
       "Lightweight              469\n",
       "Welterweight             449\n",
       "Middleweight             345\n",
       "Light Heavyweight        252\n",
       "Heavyweight              208\n",
       "Featherweight            193\n",
       "Bantamweight             157\n",
       "Flyweight                 88\n",
       "Women's Strawweight       59\n",
       "Women's Bantamweight      39\n",
       "Women's Flyweight         17\n",
       "Catch Weight               7\n",
       "Women's Featherweight      1\n",
       "Name: weight_class, dtype: int64"
      ]
     },
     "execution_count": 17,
     "metadata": {},
     "output_type": "execute_result"
    }
   ],
   "source": [
    "pd.value_counts(df['weight_class'][df['Winner']=='Red'])"
   ]
  },
  {
   "cell_type": "code",
   "execution_count": 18,
   "metadata": {},
   "outputs": [
    {
     "data": {
      "text/plain": [
       "Welterweight             243\n",
       "Lightweight              230\n",
       "Middleweight             163\n",
       "Featherweight            128\n",
       "Bantamweight             108\n",
       "Light Heavyweight        105\n",
       "Heavyweight               93\n",
       "Flyweight                 53\n",
       "Women's Strawweight       39\n",
       "Women's Bantamweight      32\n",
       "Women's Flyweight         12\n",
       "Catch Weight               3\n",
       "Women's Featherweight      3\n",
       "Name: weight_class, dtype: int64"
      ]
     },
     "execution_count": 18,
     "metadata": {},
     "output_type": "execute_result"
    }
   ],
   "source": [
    "pd.value_counts(df['weight_class'][df['Winner']=='Blue'])"
   ]
  },
  {
   "cell_type": "markdown",
   "metadata": {},
   "source": [
    "#### 거의 모든 계급에서 red팀이 blue보다 두배가까이 많이 이기는데 뭐가 영향을 미치는거지"
   ]
  },
  {
   "cell_type": "markdown",
   "metadata": {},
   "source": [
    "#### ufc 얼마나 개최됐을까?"
   ]
  },
  {
   "cell_type": "code",
   "execution_count": 19,
   "metadata": {},
   "outputs": [],
   "source": [
    "df['year'] = df['date'].apply(lambda x : x.split('-')[0])"
   ]
  },
  {
   "cell_type": "code",
   "execution_count": 20,
   "metadata": {},
   "outputs": [],
   "source": [
    "red =df['year'][df['Winner']=='Red'].value_counts(ascending=True)\n",
    "blue =df['year'][df['Winner']=='Blue'].value_counts(ascending=False)\n",
    "\n",
    "red.name = 'red'\n",
    "blue.name = 'blue'"
   ]
  },
  {
   "cell_type": "code",
   "execution_count": 21,
   "metadata": {},
   "outputs": [
    {
     "data": {
      "text/plain": [
       "2001     18\n",
       "2003     20\n",
       "2004     23\n",
       "2002     34\n",
       "2005     40\n",
       "2019     81\n",
       "2006     90\n",
       "2007    103\n",
       "2010    114\n",
       "2011    118\n",
       "2008    139\n",
       "2009    151\n",
       "2012    158\n",
       "2013    167\n",
       "2017    190\n",
       "2014    197\n",
       "2018    200\n",
       "2015    218\n",
       "2016    223\n",
       "Name: red, dtype: int64"
      ]
     },
     "execution_count": 21,
     "metadata": {},
     "output_type": "execute_result"
    }
   ],
   "source": [
    "red"
   ]
  },
  {
   "cell_type": "code",
   "execution_count": 22,
   "metadata": {
    "scrolled": true
   },
   "outputs": [
    {
     "data": {
      "text/plain": [
       "2018    169\n",
       "2015    165\n",
       "2016    158\n",
       "2017    148\n",
       "2014    133\n",
       "2013    102\n",
       "2012     92\n",
       "2019     85\n",
       "2011     83\n",
       "2010     77\n",
       "Name: blue, dtype: int64"
      ]
     },
     "execution_count": 22,
     "metadata": {},
     "output_type": "execute_result"
    }
   ],
   "source": [
    "blue"
   ]
  },
  {
   "cell_type": "code",
   "execution_count": 23,
   "metadata": {},
   "outputs": [],
   "source": [
    "wins = pd.concat([red,blue], axis=1,sort=True)\n",
    "wins.index.name='year'"
   ]
  },
  {
   "cell_type": "code",
   "execution_count": 24,
   "metadata": {},
   "outputs": [
    {
     "data": {
      "application/vnd.plotly.v1+json": {
       "config": {
        "plotlyServerURL": "https://plot.ly"
       },
       "data": [
        {
         "name": "Blue",
         "type": "bar",
         "x": [
          "2001",
          "2002",
          "2003",
          "2004",
          "2005",
          "2006",
          "2007",
          "2008",
          "2009",
          "2010",
          "2011",
          "2012",
          "2013",
          "2014",
          "2015",
          "2016",
          "2017",
          "2018",
          "2019"
         ],
         "y": [
          null,
          null,
          null,
          null,
          null,
          null,
          null,
          null,
          null,
          77,
          83,
          92,
          102,
          133,
          165,
          158,
          148,
          169,
          85
         ]
        },
        {
         "name": "Red",
         "type": "bar",
         "x": [
          "2001",
          "2002",
          "2003",
          "2004",
          "2005",
          "2006",
          "2007",
          "2008",
          "2009",
          "2010",
          "2011",
          "2012",
          "2013",
          "2014",
          "2015",
          "2016",
          "2017",
          "2018",
          "2019"
         ],
         "y": [
          18,
          34,
          20,
          23,
          40,
          90,
          103,
          139,
          151,
          114,
          118,
          158,
          167,
          197,
          218,
          223,
          190,
          200,
          81
         ]
        }
       ],
       "layout": {
        "barmode": "stack",
        "template": {
         "data": {
          "bar": [
           {
            "error_x": {
             "color": "#2a3f5f"
            },
            "error_y": {
             "color": "#2a3f5f"
            },
            "marker": {
             "line": {
              "color": "#E5ECF6",
              "width": 0.5
             }
            },
            "type": "bar"
           }
          ],
          "barpolar": [
           {
            "marker": {
             "line": {
              "color": "#E5ECF6",
              "width": 0.5
             }
            },
            "type": "barpolar"
           }
          ],
          "carpet": [
           {
            "aaxis": {
             "endlinecolor": "#2a3f5f",
             "gridcolor": "white",
             "linecolor": "white",
             "minorgridcolor": "white",
             "startlinecolor": "#2a3f5f"
            },
            "baxis": {
             "endlinecolor": "#2a3f5f",
             "gridcolor": "white",
             "linecolor": "white",
             "minorgridcolor": "white",
             "startlinecolor": "#2a3f5f"
            },
            "type": "carpet"
           }
          ],
          "choropleth": [
           {
            "colorbar": {
             "outlinewidth": 0,
             "ticks": ""
            },
            "type": "choropleth"
           }
          ],
          "contour": [
           {
            "colorbar": {
             "outlinewidth": 0,
             "ticks": ""
            },
            "colorscale": [
             [
              0,
              "#0d0887"
             ],
             [
              0.1111111111111111,
              "#46039f"
             ],
             [
              0.2222222222222222,
              "#7201a8"
             ],
             [
              0.3333333333333333,
              "#9c179e"
             ],
             [
              0.4444444444444444,
              "#bd3786"
             ],
             [
              0.5555555555555556,
              "#d8576b"
             ],
             [
              0.6666666666666666,
              "#ed7953"
             ],
             [
              0.7777777777777778,
              "#fb9f3a"
             ],
             [
              0.8888888888888888,
              "#fdca26"
             ],
             [
              1,
              "#f0f921"
             ]
            ],
            "type": "contour"
           }
          ],
          "contourcarpet": [
           {
            "colorbar": {
             "outlinewidth": 0,
             "ticks": ""
            },
            "type": "contourcarpet"
           }
          ],
          "heatmap": [
           {
            "colorbar": {
             "outlinewidth": 0,
             "ticks": ""
            },
            "colorscale": [
             [
              0,
              "#0d0887"
             ],
             [
              0.1111111111111111,
              "#46039f"
             ],
             [
              0.2222222222222222,
              "#7201a8"
             ],
             [
              0.3333333333333333,
              "#9c179e"
             ],
             [
              0.4444444444444444,
              "#bd3786"
             ],
             [
              0.5555555555555556,
              "#d8576b"
             ],
             [
              0.6666666666666666,
              "#ed7953"
             ],
             [
              0.7777777777777778,
              "#fb9f3a"
             ],
             [
              0.8888888888888888,
              "#fdca26"
             ],
             [
              1,
              "#f0f921"
             ]
            ],
            "type": "heatmap"
           }
          ],
          "heatmapgl": [
           {
            "colorbar": {
             "outlinewidth": 0,
             "ticks": ""
            },
            "colorscale": [
             [
              0,
              "#0d0887"
             ],
             [
              0.1111111111111111,
              "#46039f"
             ],
             [
              0.2222222222222222,
              "#7201a8"
             ],
             [
              0.3333333333333333,
              "#9c179e"
             ],
             [
              0.4444444444444444,
              "#bd3786"
             ],
             [
              0.5555555555555556,
              "#d8576b"
             ],
             [
              0.6666666666666666,
              "#ed7953"
             ],
             [
              0.7777777777777778,
              "#fb9f3a"
             ],
             [
              0.8888888888888888,
              "#fdca26"
             ],
             [
              1,
              "#f0f921"
             ]
            ],
            "type": "heatmapgl"
           }
          ],
          "histogram": [
           {
            "marker": {
             "colorbar": {
              "outlinewidth": 0,
              "ticks": ""
             }
            },
            "type": "histogram"
           }
          ],
          "histogram2d": [
           {
            "colorbar": {
             "outlinewidth": 0,
             "ticks": ""
            },
            "colorscale": [
             [
              0,
              "#0d0887"
             ],
             [
              0.1111111111111111,
              "#46039f"
             ],
             [
              0.2222222222222222,
              "#7201a8"
             ],
             [
              0.3333333333333333,
              "#9c179e"
             ],
             [
              0.4444444444444444,
              "#bd3786"
             ],
             [
              0.5555555555555556,
              "#d8576b"
             ],
             [
              0.6666666666666666,
              "#ed7953"
             ],
             [
              0.7777777777777778,
              "#fb9f3a"
             ],
             [
              0.8888888888888888,
              "#fdca26"
             ],
             [
              1,
              "#f0f921"
             ]
            ],
            "type": "histogram2d"
           }
          ],
          "histogram2dcontour": [
           {
            "colorbar": {
             "outlinewidth": 0,
             "ticks": ""
            },
            "colorscale": [
             [
              0,
              "#0d0887"
             ],
             [
              0.1111111111111111,
              "#46039f"
             ],
             [
              0.2222222222222222,
              "#7201a8"
             ],
             [
              0.3333333333333333,
              "#9c179e"
             ],
             [
              0.4444444444444444,
              "#bd3786"
             ],
             [
              0.5555555555555556,
              "#d8576b"
             ],
             [
              0.6666666666666666,
              "#ed7953"
             ],
             [
              0.7777777777777778,
              "#fb9f3a"
             ],
             [
              0.8888888888888888,
              "#fdca26"
             ],
             [
              1,
              "#f0f921"
             ]
            ],
            "type": "histogram2dcontour"
           }
          ],
          "mesh3d": [
           {
            "colorbar": {
             "outlinewidth": 0,
             "ticks": ""
            },
            "type": "mesh3d"
           }
          ],
          "parcoords": [
           {
            "line": {
             "colorbar": {
              "outlinewidth": 0,
              "ticks": ""
             }
            },
            "type": "parcoords"
           }
          ],
          "pie": [
           {
            "automargin": true,
            "type": "pie"
           }
          ],
          "scatter": [
           {
            "marker": {
             "colorbar": {
              "outlinewidth": 0,
              "ticks": ""
             }
            },
            "type": "scatter"
           }
          ],
          "scatter3d": [
           {
            "line": {
             "colorbar": {
              "outlinewidth": 0,
              "ticks": ""
             }
            },
            "marker": {
             "colorbar": {
              "outlinewidth": 0,
              "ticks": ""
             }
            },
            "type": "scatter3d"
           }
          ],
          "scattercarpet": [
           {
            "marker": {
             "colorbar": {
              "outlinewidth": 0,
              "ticks": ""
             }
            },
            "type": "scattercarpet"
           }
          ],
          "scattergeo": [
           {
            "marker": {
             "colorbar": {
              "outlinewidth": 0,
              "ticks": ""
             }
            },
            "type": "scattergeo"
           }
          ],
          "scattergl": [
           {
            "marker": {
             "colorbar": {
              "outlinewidth": 0,
              "ticks": ""
             }
            },
            "type": "scattergl"
           }
          ],
          "scattermapbox": [
           {
            "marker": {
             "colorbar": {
              "outlinewidth": 0,
              "ticks": ""
             }
            },
            "type": "scattermapbox"
           }
          ],
          "scatterpolar": [
           {
            "marker": {
             "colorbar": {
              "outlinewidth": 0,
              "ticks": ""
             }
            },
            "type": "scatterpolar"
           }
          ],
          "scatterpolargl": [
           {
            "marker": {
             "colorbar": {
              "outlinewidth": 0,
              "ticks": ""
             }
            },
            "type": "scatterpolargl"
           }
          ],
          "scatterternary": [
           {
            "marker": {
             "colorbar": {
              "outlinewidth": 0,
              "ticks": ""
             }
            },
            "type": "scatterternary"
           }
          ],
          "surface": [
           {
            "colorbar": {
             "outlinewidth": 0,
             "ticks": ""
            },
            "colorscale": [
             [
              0,
              "#0d0887"
             ],
             [
              0.1111111111111111,
              "#46039f"
             ],
             [
              0.2222222222222222,
              "#7201a8"
             ],
             [
              0.3333333333333333,
              "#9c179e"
             ],
             [
              0.4444444444444444,
              "#bd3786"
             ],
             [
              0.5555555555555556,
              "#d8576b"
             ],
             [
              0.6666666666666666,
              "#ed7953"
             ],
             [
              0.7777777777777778,
              "#fb9f3a"
             ],
             [
              0.8888888888888888,
              "#fdca26"
             ],
             [
              1,
              "#f0f921"
             ]
            ],
            "type": "surface"
           }
          ],
          "table": [
           {
            "cells": {
             "fill": {
              "color": "#EBF0F8"
             },
             "line": {
              "color": "white"
             }
            },
            "header": {
             "fill": {
              "color": "#C8D4E3"
             },
             "line": {
              "color": "white"
             }
            },
            "type": "table"
           }
          ]
         },
         "layout": {
          "annotationdefaults": {
           "arrowcolor": "#2a3f5f",
           "arrowhead": 0,
           "arrowwidth": 1
          },
          "coloraxis": {
           "colorbar": {
            "outlinewidth": 0,
            "ticks": ""
           }
          },
          "colorscale": {
           "diverging": [
            [
             0,
             "#8e0152"
            ],
            [
             0.1,
             "#c51b7d"
            ],
            [
             0.2,
             "#de77ae"
            ],
            [
             0.3,
             "#f1b6da"
            ],
            [
             0.4,
             "#fde0ef"
            ],
            [
             0.5,
             "#f7f7f7"
            ],
            [
             0.6,
             "#e6f5d0"
            ],
            [
             0.7,
             "#b8e186"
            ],
            [
             0.8,
             "#7fbc41"
            ],
            [
             0.9,
             "#4d9221"
            ],
            [
             1,
             "#276419"
            ]
           ],
           "sequential": [
            [
             0,
             "#0d0887"
            ],
            [
             0.1111111111111111,
             "#46039f"
            ],
            [
             0.2222222222222222,
             "#7201a8"
            ],
            [
             0.3333333333333333,
             "#9c179e"
            ],
            [
             0.4444444444444444,
             "#bd3786"
            ],
            [
             0.5555555555555556,
             "#d8576b"
            ],
            [
             0.6666666666666666,
             "#ed7953"
            ],
            [
             0.7777777777777778,
             "#fb9f3a"
            ],
            [
             0.8888888888888888,
             "#fdca26"
            ],
            [
             1,
             "#f0f921"
            ]
           ],
           "sequentialminus": [
            [
             0,
             "#0d0887"
            ],
            [
             0.1111111111111111,
             "#46039f"
            ],
            [
             0.2222222222222222,
             "#7201a8"
            ],
            [
             0.3333333333333333,
             "#9c179e"
            ],
            [
             0.4444444444444444,
             "#bd3786"
            ],
            [
             0.5555555555555556,
             "#d8576b"
            ],
            [
             0.6666666666666666,
             "#ed7953"
            ],
            [
             0.7777777777777778,
             "#fb9f3a"
            ],
            [
             0.8888888888888888,
             "#fdca26"
            ],
            [
             1,
             "#f0f921"
            ]
           ]
          },
          "colorway": [
           "#636efa",
           "#EF553B",
           "#00cc96",
           "#ab63fa",
           "#FFA15A",
           "#19d3f3",
           "#FF6692",
           "#B6E880",
           "#FF97FF",
           "#FECB52"
          ],
          "font": {
           "color": "#2a3f5f"
          },
          "geo": {
           "bgcolor": "white",
           "lakecolor": "white",
           "landcolor": "#E5ECF6",
           "showlakes": true,
           "showland": true,
           "subunitcolor": "white"
          },
          "hoverlabel": {
           "align": "left"
          },
          "hovermode": "closest",
          "mapbox": {
           "style": "light"
          },
          "paper_bgcolor": "white",
          "plot_bgcolor": "#E5ECF6",
          "polar": {
           "angularaxis": {
            "gridcolor": "white",
            "linecolor": "white",
            "ticks": ""
           },
           "bgcolor": "#E5ECF6",
           "radialaxis": {
            "gridcolor": "white",
            "linecolor": "white",
            "ticks": ""
           }
          },
          "scene": {
           "xaxis": {
            "backgroundcolor": "#E5ECF6",
            "gridcolor": "white",
            "gridwidth": 2,
            "linecolor": "white",
            "showbackground": true,
            "ticks": "",
            "zerolinecolor": "white"
           },
           "yaxis": {
            "backgroundcolor": "#E5ECF6",
            "gridcolor": "white",
            "gridwidth": 2,
            "linecolor": "white",
            "showbackground": true,
            "ticks": "",
            "zerolinecolor": "white"
           },
           "zaxis": {
            "backgroundcolor": "#E5ECF6",
            "gridcolor": "white",
            "gridwidth": 2,
            "linecolor": "white",
            "showbackground": true,
            "ticks": "",
            "zerolinecolor": "white"
           }
          },
          "shapedefaults": {
           "line": {
            "color": "#2a3f5f"
           }
          },
          "ternary": {
           "aaxis": {
            "gridcolor": "white",
            "linecolor": "white",
            "ticks": ""
           },
           "baxis": {
            "gridcolor": "white",
            "linecolor": "white",
            "ticks": ""
           },
           "bgcolor": "#E5ECF6",
           "caxis": {
            "gridcolor": "white",
            "linecolor": "white",
            "ticks": ""
           }
          },
          "title": {
           "x": 0.05
          },
          "xaxis": {
           "automargin": true,
           "gridcolor": "white",
           "linecolor": "white",
           "ticks": "",
           "title": {
            "standoff": 15
           },
           "zerolinecolor": "white",
           "zerolinewidth": 2
          },
          "yaxis": {
           "automargin": true,
           "gridcolor": "white",
           "linecolor": "white",
           "ticks": "",
           "title": {
            "standoff": 15
           },
           "zerolinecolor": "white",
           "zerolinewidth": 2
          }
         }
        }
       }
      },
      "text/html": [
       "<div>\n",
       "        \n",
       "        \n",
       "            <div id=\"651f7308-ca95-4992-be2b-e28911dad140\" class=\"plotly-graph-div\" style=\"height:525px; width:100%;\"></div>\n",
       "            <script type=\"text/javascript\">\n",
       "                require([\"plotly\"], function(Plotly) {\n",
       "                    window.PLOTLYENV=window.PLOTLYENV || {};\n",
       "                    \n",
       "                if (document.getElementById(\"651f7308-ca95-4992-be2b-e28911dad140\")) {\n",
       "                    Plotly.newPlot(\n",
       "                        '651f7308-ca95-4992-be2b-e28911dad140',\n",
       "                        [{\"name\": \"Blue\", \"type\": \"bar\", \"x\": [\"2001\", \"2002\", \"2003\", \"2004\", \"2005\", \"2006\", \"2007\", \"2008\", \"2009\", \"2010\", \"2011\", \"2012\", \"2013\", \"2014\", \"2015\", \"2016\", \"2017\", \"2018\", \"2019\"], \"y\": [null, null, null, null, null, null, null, null, null, 77.0, 83.0, 92.0, 102.0, 133.0, 165.0, 158.0, 148.0, 169.0, 85.0]}, {\"name\": \"Red\", \"type\": \"bar\", \"x\": [\"2001\", \"2002\", \"2003\", \"2004\", \"2005\", \"2006\", \"2007\", \"2008\", \"2009\", \"2010\", \"2011\", \"2012\", \"2013\", \"2014\", \"2015\", \"2016\", \"2017\", \"2018\", \"2019\"], \"y\": [18, 34, 20, 23, 40, 90, 103, 139, 151, 114, 118, 158, 167, 197, 218, 223, 190, 200, 81]}],\n",
       "                        {\"barmode\": \"stack\", \"template\": {\"data\": {\"bar\": [{\"error_x\": {\"color\": \"#2a3f5f\"}, \"error_y\": {\"color\": \"#2a3f5f\"}, \"marker\": {\"line\": {\"color\": \"#E5ECF6\", \"width\": 0.5}}, \"type\": \"bar\"}], \"barpolar\": [{\"marker\": {\"line\": {\"color\": \"#E5ECF6\", \"width\": 0.5}}, \"type\": \"barpolar\"}], \"carpet\": [{\"aaxis\": {\"endlinecolor\": \"#2a3f5f\", \"gridcolor\": \"white\", \"linecolor\": \"white\", \"minorgridcolor\": \"white\", \"startlinecolor\": \"#2a3f5f\"}, \"baxis\": {\"endlinecolor\": \"#2a3f5f\", \"gridcolor\": \"white\", \"linecolor\": \"white\", \"minorgridcolor\": \"white\", \"startlinecolor\": \"#2a3f5f\"}, \"type\": \"carpet\"}], \"choropleth\": [{\"colorbar\": {\"outlinewidth\": 0, \"ticks\": \"\"}, \"type\": \"choropleth\"}], \"contour\": [{\"colorbar\": {\"outlinewidth\": 0, \"ticks\": \"\"}, \"colorscale\": [[0.0, \"#0d0887\"], [0.1111111111111111, \"#46039f\"], [0.2222222222222222, \"#7201a8\"], [0.3333333333333333, \"#9c179e\"], [0.4444444444444444, \"#bd3786\"], [0.5555555555555556, \"#d8576b\"], [0.6666666666666666, \"#ed7953\"], [0.7777777777777778, \"#fb9f3a\"], [0.8888888888888888, \"#fdca26\"], [1.0, \"#f0f921\"]], \"type\": \"contour\"}], \"contourcarpet\": [{\"colorbar\": {\"outlinewidth\": 0, \"ticks\": \"\"}, \"type\": \"contourcarpet\"}], \"heatmap\": [{\"colorbar\": {\"outlinewidth\": 0, \"ticks\": \"\"}, \"colorscale\": [[0.0, \"#0d0887\"], [0.1111111111111111, \"#46039f\"], [0.2222222222222222, \"#7201a8\"], [0.3333333333333333, \"#9c179e\"], [0.4444444444444444, \"#bd3786\"], [0.5555555555555556, \"#d8576b\"], [0.6666666666666666, \"#ed7953\"], [0.7777777777777778, \"#fb9f3a\"], [0.8888888888888888, \"#fdca26\"], [1.0, \"#f0f921\"]], \"type\": \"heatmap\"}], \"heatmapgl\": [{\"colorbar\": {\"outlinewidth\": 0, \"ticks\": \"\"}, \"colorscale\": [[0.0, \"#0d0887\"], [0.1111111111111111, \"#46039f\"], [0.2222222222222222, \"#7201a8\"], [0.3333333333333333, \"#9c179e\"], [0.4444444444444444, \"#bd3786\"], [0.5555555555555556, \"#d8576b\"], [0.6666666666666666, \"#ed7953\"], [0.7777777777777778, \"#fb9f3a\"], [0.8888888888888888, \"#fdca26\"], [1.0, \"#f0f921\"]], \"type\": \"heatmapgl\"}], \"histogram\": [{\"marker\": {\"colorbar\": {\"outlinewidth\": 0, \"ticks\": \"\"}}, \"type\": \"histogram\"}], \"histogram2d\": [{\"colorbar\": {\"outlinewidth\": 0, \"ticks\": \"\"}, \"colorscale\": [[0.0, \"#0d0887\"], [0.1111111111111111, \"#46039f\"], [0.2222222222222222, \"#7201a8\"], [0.3333333333333333, \"#9c179e\"], [0.4444444444444444, \"#bd3786\"], [0.5555555555555556, \"#d8576b\"], [0.6666666666666666, \"#ed7953\"], [0.7777777777777778, \"#fb9f3a\"], [0.8888888888888888, \"#fdca26\"], [1.0, \"#f0f921\"]], \"type\": \"histogram2d\"}], \"histogram2dcontour\": [{\"colorbar\": {\"outlinewidth\": 0, \"ticks\": \"\"}, \"colorscale\": [[0.0, \"#0d0887\"], [0.1111111111111111, \"#46039f\"], [0.2222222222222222, \"#7201a8\"], [0.3333333333333333, \"#9c179e\"], [0.4444444444444444, \"#bd3786\"], [0.5555555555555556, \"#d8576b\"], [0.6666666666666666, \"#ed7953\"], [0.7777777777777778, \"#fb9f3a\"], [0.8888888888888888, \"#fdca26\"], [1.0, \"#f0f921\"]], \"type\": \"histogram2dcontour\"}], \"mesh3d\": [{\"colorbar\": {\"outlinewidth\": 0, \"ticks\": \"\"}, \"type\": \"mesh3d\"}], \"parcoords\": [{\"line\": {\"colorbar\": {\"outlinewidth\": 0, \"ticks\": \"\"}}, \"type\": \"parcoords\"}], \"pie\": [{\"automargin\": true, \"type\": \"pie\"}], \"scatter\": [{\"marker\": {\"colorbar\": {\"outlinewidth\": 0, \"ticks\": \"\"}}, \"type\": \"scatter\"}], \"scatter3d\": [{\"line\": {\"colorbar\": {\"outlinewidth\": 0, \"ticks\": \"\"}}, \"marker\": {\"colorbar\": {\"outlinewidth\": 0, \"ticks\": \"\"}}, \"type\": \"scatter3d\"}], \"scattercarpet\": [{\"marker\": {\"colorbar\": {\"outlinewidth\": 0, \"ticks\": \"\"}}, \"type\": \"scattercarpet\"}], \"scattergeo\": [{\"marker\": {\"colorbar\": {\"outlinewidth\": 0, \"ticks\": \"\"}}, \"type\": \"scattergeo\"}], \"scattergl\": [{\"marker\": {\"colorbar\": {\"outlinewidth\": 0, \"ticks\": \"\"}}, \"type\": \"scattergl\"}], \"scattermapbox\": [{\"marker\": {\"colorbar\": {\"outlinewidth\": 0, \"ticks\": \"\"}}, \"type\": \"scattermapbox\"}], \"scatterpolar\": [{\"marker\": {\"colorbar\": {\"outlinewidth\": 0, \"ticks\": \"\"}}, \"type\": \"scatterpolar\"}], \"scatterpolargl\": [{\"marker\": {\"colorbar\": {\"outlinewidth\": 0, \"ticks\": \"\"}}, \"type\": \"scatterpolargl\"}], \"scatterternary\": [{\"marker\": {\"colorbar\": {\"outlinewidth\": 0, \"ticks\": \"\"}}, \"type\": \"scatterternary\"}], \"surface\": [{\"colorbar\": {\"outlinewidth\": 0, \"ticks\": \"\"}, \"colorscale\": [[0.0, \"#0d0887\"], [0.1111111111111111, \"#46039f\"], [0.2222222222222222, \"#7201a8\"], [0.3333333333333333, \"#9c179e\"], [0.4444444444444444, \"#bd3786\"], [0.5555555555555556, \"#d8576b\"], [0.6666666666666666, \"#ed7953\"], [0.7777777777777778, \"#fb9f3a\"], [0.8888888888888888, \"#fdca26\"], [1.0, \"#f0f921\"]], \"type\": \"surface\"}], \"table\": [{\"cells\": {\"fill\": {\"color\": \"#EBF0F8\"}, \"line\": {\"color\": \"white\"}}, \"header\": {\"fill\": {\"color\": \"#C8D4E3\"}, \"line\": {\"color\": \"white\"}}, \"type\": \"table\"}]}, \"layout\": {\"annotationdefaults\": {\"arrowcolor\": \"#2a3f5f\", \"arrowhead\": 0, \"arrowwidth\": 1}, \"coloraxis\": {\"colorbar\": {\"outlinewidth\": 0, \"ticks\": \"\"}}, \"colorscale\": {\"diverging\": [[0, \"#8e0152\"], [0.1, \"#c51b7d\"], [0.2, \"#de77ae\"], [0.3, \"#f1b6da\"], [0.4, \"#fde0ef\"], [0.5, \"#f7f7f7\"], [0.6, \"#e6f5d0\"], [0.7, \"#b8e186\"], [0.8, \"#7fbc41\"], [0.9, \"#4d9221\"], [1, \"#276419\"]], \"sequential\": [[0.0, \"#0d0887\"], [0.1111111111111111, \"#46039f\"], [0.2222222222222222, \"#7201a8\"], [0.3333333333333333, \"#9c179e\"], [0.4444444444444444, \"#bd3786\"], [0.5555555555555556, \"#d8576b\"], [0.6666666666666666, \"#ed7953\"], [0.7777777777777778, \"#fb9f3a\"], [0.8888888888888888, \"#fdca26\"], [1.0, \"#f0f921\"]], \"sequentialminus\": [[0.0, \"#0d0887\"], [0.1111111111111111, \"#46039f\"], [0.2222222222222222, \"#7201a8\"], [0.3333333333333333, \"#9c179e\"], [0.4444444444444444, \"#bd3786\"], [0.5555555555555556, \"#d8576b\"], [0.6666666666666666, \"#ed7953\"], [0.7777777777777778, \"#fb9f3a\"], [0.8888888888888888, \"#fdca26\"], [1.0, \"#f0f921\"]]}, \"colorway\": [\"#636efa\", \"#EF553B\", \"#00cc96\", \"#ab63fa\", \"#FFA15A\", \"#19d3f3\", \"#FF6692\", \"#B6E880\", \"#FF97FF\", \"#FECB52\"], \"font\": {\"color\": \"#2a3f5f\"}, \"geo\": {\"bgcolor\": \"white\", \"lakecolor\": \"white\", \"landcolor\": \"#E5ECF6\", \"showlakes\": true, \"showland\": true, \"subunitcolor\": \"white\"}, \"hoverlabel\": {\"align\": \"left\"}, \"hovermode\": \"closest\", \"mapbox\": {\"style\": \"light\"}, \"paper_bgcolor\": \"white\", \"plot_bgcolor\": \"#E5ECF6\", \"polar\": {\"angularaxis\": {\"gridcolor\": \"white\", \"linecolor\": \"white\", \"ticks\": \"\"}, \"bgcolor\": \"#E5ECF6\", \"radialaxis\": {\"gridcolor\": \"white\", \"linecolor\": \"white\", \"ticks\": \"\"}}, \"scene\": {\"xaxis\": {\"backgroundcolor\": \"#E5ECF6\", \"gridcolor\": \"white\", \"gridwidth\": 2, \"linecolor\": \"white\", \"showbackground\": true, \"ticks\": \"\", \"zerolinecolor\": \"white\"}, \"yaxis\": {\"backgroundcolor\": \"#E5ECF6\", \"gridcolor\": \"white\", \"gridwidth\": 2, \"linecolor\": \"white\", \"showbackground\": true, \"ticks\": \"\", \"zerolinecolor\": \"white\"}, \"zaxis\": {\"backgroundcolor\": \"#E5ECF6\", \"gridcolor\": \"white\", \"gridwidth\": 2, \"linecolor\": \"white\", \"showbackground\": true, \"ticks\": \"\", \"zerolinecolor\": \"white\"}}, \"shapedefaults\": {\"line\": {\"color\": \"#2a3f5f\"}}, \"ternary\": {\"aaxis\": {\"gridcolor\": \"white\", \"linecolor\": \"white\", \"ticks\": \"\"}, \"baxis\": {\"gridcolor\": \"white\", \"linecolor\": \"white\", \"ticks\": \"\"}, \"bgcolor\": \"#E5ECF6\", \"caxis\": {\"gridcolor\": \"white\", \"linecolor\": \"white\", \"ticks\": \"\"}}, \"title\": {\"x\": 0.05}, \"xaxis\": {\"automargin\": true, \"gridcolor\": \"white\", \"linecolor\": \"white\", \"ticks\": \"\", \"title\": {\"standoff\": 15}, \"zerolinecolor\": \"white\", \"zerolinewidth\": 2}, \"yaxis\": {\"automargin\": true, \"gridcolor\": \"white\", \"linecolor\": \"white\", \"ticks\": \"\", \"title\": {\"standoff\": 15}, \"zerolinecolor\": \"white\", \"zerolinewidth\": 2}}}},\n",
       "                        {\"responsive\": true}\n",
       "                    ).then(function(){\n",
       "                            \n",
       "var gd = document.getElementById('651f7308-ca95-4992-be2b-e28911dad140');\n",
       "var x = new MutationObserver(function (mutations, observer) {{\n",
       "        var display = window.getComputedStyle(gd).display;\n",
       "        if (!display || display === 'none') {{\n",
       "            console.log([gd, 'removed!']);\n",
       "            Plotly.purge(gd);\n",
       "            observer.disconnect();\n",
       "        }}\n",
       "}});\n",
       "\n",
       "// Listen for the removal of the full notebook cells\n",
       "var notebookContainer = gd.closest('#notebook-container');\n",
       "if (notebookContainer) {{\n",
       "    x.observe(notebookContainer, {childList: true});\n",
       "}}\n",
       "\n",
       "// Listen for the clearing of the current output cell\n",
       "var outputEl = gd.closest('.output');\n",
       "if (outputEl) {{\n",
       "    x.observe(outputEl, {childList: true});\n",
       "}}\n",
       "\n",
       "                        })\n",
       "                };\n",
       "                });\n",
       "            </script>\n",
       "        </div>"
      ]
     },
     "metadata": {},
     "output_type": "display_data"
    }
   ],
   "source": [
    "fig = go.Figure(data=[\n",
    "    go.Bar(name='Blue', x=wins.index, y=wins.blue),\n",
    "    go.Bar(name='Red', x=wins.index, y=wins.red)\n",
    "])\n",
    "\n",
    "fig.update_layout(barmode='stack')\n",
    "fig.show()"
   ]
  },
  {
   "cell_type": "markdown",
   "metadata": {},
   "source": [
    "#### 대부분 red가 이겼고 최근 10년간 blue도 이기기 시작했네!? 그럼 연도에 따라 blue팀에 변화가 생겼을까?\n",
    "#### 찾아보니 ufc 관련 기업이 병합을 하면서 규칙이 2010년에 새로 개정됨 (가장 최근 개정된 규칙)"
   ]
  },
  {
   "cell_type": "code",
   "execution_count": 25,
   "metadata": {},
   "outputs": [],
   "source": [
    "def split_datas(feature_name,count=True):\n",
    "    \n",
    "    base_date = '2010-01-01'\n",
    "    before = df[(df['date'] < base_date)]\n",
    "    after = df[(df['date'] >= base_date)]\n",
    "    \n",
    "    if count==True:\n",
    "        b_red = before[feature_name][df['Winner']=='Red'].value_counts(ascending=False)\n",
    "        b_blue = before[feature_name][df['Winner']=='Blue'].value_counts(ascending=False)\n",
    "        a_red = after[feature_name][df['Winner']=='Red'].value_counts(ascending=False)\n",
    "        a_blue = after[feature_name][df['Winner']=='Blue'].value_counts(ascending=False)\n",
    "        \n",
    "    elif count==False:\n",
    "        b_red = before[feature_name][df['Winner']=='Red']\n",
    "        b_blue = before[feature_name][df['Winner']=='Blue']\n",
    "        a_red = after[feature_name][df['Winner']=='Red']\n",
    "        a_blue = after[feature_name][df['Winner']=='Blue']\n",
    "    else : \n",
    "        print(\"You need 'count'parameter!\")\n",
    "        \n",
    "    b_red.name = 'b_red'\n",
    "    a_red.name = 'a_red'\n",
    "    b_blue.name = 'b_blue'\n",
    "    a_blue.name = 'a_blue'\n",
    "    \n",
    "    data = pd.concat([b_red,b_blue,a_red,a_blue], axis=1, sort=True)\n",
    "    data.index.name = 'index'\n",
    "    return data"
   ]
  },
  {
   "cell_type": "markdown",
   "metadata": {},
   "source": [
    "## weight_class"
   ]
  },
  {
   "cell_type": "code",
   "execution_count": 26,
   "metadata": {},
   "outputs": [
    {
     "data": {
      "text/html": [
       "<div>\n",
       "<style scoped>\n",
       "    .dataframe tbody tr th:only-of-type {\n",
       "        vertical-align: middle;\n",
       "    }\n",
       "\n",
       "    .dataframe tbody tr th {\n",
       "        vertical-align: top;\n",
       "    }\n",
       "\n",
       "    .dataframe thead th {\n",
       "        text-align: right;\n",
       "    }\n",
       "</style>\n",
       "<table border=\"1\" class=\"dataframe\">\n",
       "  <thead>\n",
       "    <tr style=\"text-align: right;\">\n",
       "      <th></th>\n",
       "      <th>b_red</th>\n",
       "      <th>b_blue</th>\n",
       "      <th>a_red</th>\n",
       "      <th>a_blue</th>\n",
       "    </tr>\n",
       "    <tr>\n",
       "      <th>index</th>\n",
       "      <th></th>\n",
       "      <th></th>\n",
       "      <th></th>\n",
       "      <th></th>\n",
       "    </tr>\n",
       "  </thead>\n",
       "  <tbody>\n",
       "    <tr>\n",
       "      <th>Bantamweight</th>\n",
       "      <td>NaN</td>\n",
       "      <td>NaN</td>\n",
       "      <td>157</td>\n",
       "      <td>108</td>\n",
       "    </tr>\n",
       "    <tr>\n",
       "      <th>Catch Weight</th>\n",
       "      <td>4.0</td>\n",
       "      <td>NaN</td>\n",
       "      <td>3</td>\n",
       "      <td>3</td>\n",
       "    </tr>\n",
       "    <tr>\n",
       "      <th>Featherweight</th>\n",
       "      <td>NaN</td>\n",
       "      <td>NaN</td>\n",
       "      <td>193</td>\n",
       "      <td>128</td>\n",
       "    </tr>\n",
       "    <tr>\n",
       "      <th>Flyweight</th>\n",
       "      <td>NaN</td>\n",
       "      <td>NaN</td>\n",
       "      <td>88</td>\n",
       "      <td>53</td>\n",
       "    </tr>\n",
       "    <tr>\n",
       "      <th>Heavyweight</th>\n",
       "      <td>78.0</td>\n",
       "      <td>NaN</td>\n",
       "      <td>130</td>\n",
       "      <td>93</td>\n",
       "    </tr>\n",
       "    <tr>\n",
       "      <th>Light Heavyweight</th>\n",
       "      <td>108.0</td>\n",
       "      <td>NaN</td>\n",
       "      <td>144</td>\n",
       "      <td>105</td>\n",
       "    </tr>\n",
       "    <tr>\n",
       "      <th>Lightweight</th>\n",
       "      <td>138.0</td>\n",
       "      <td>NaN</td>\n",
       "      <td>331</td>\n",
       "      <td>230</td>\n",
       "    </tr>\n",
       "    <tr>\n",
       "      <th>Middleweight</th>\n",
       "      <td>134.0</td>\n",
       "      <td>NaN</td>\n",
       "      <td>211</td>\n",
       "      <td>163</td>\n",
       "    </tr>\n",
       "    <tr>\n",
       "      <th>Welterweight</th>\n",
       "      <td>156.0</td>\n",
       "      <td>NaN</td>\n",
       "      <td>293</td>\n",
       "      <td>243</td>\n",
       "    </tr>\n",
       "    <tr>\n",
       "      <th>Women's Bantamweight</th>\n",
       "      <td>NaN</td>\n",
       "      <td>NaN</td>\n",
       "      <td>39</td>\n",
       "      <td>32</td>\n",
       "    </tr>\n",
       "    <tr>\n",
       "      <th>Women's Featherweight</th>\n",
       "      <td>NaN</td>\n",
       "      <td>NaN</td>\n",
       "      <td>1</td>\n",
       "      <td>3</td>\n",
       "    </tr>\n",
       "    <tr>\n",
       "      <th>Women's Flyweight</th>\n",
       "      <td>NaN</td>\n",
       "      <td>NaN</td>\n",
       "      <td>17</td>\n",
       "      <td>12</td>\n",
       "    </tr>\n",
       "    <tr>\n",
       "      <th>Women's Strawweight</th>\n",
       "      <td>NaN</td>\n",
       "      <td>NaN</td>\n",
       "      <td>59</td>\n",
       "      <td>39</td>\n",
       "    </tr>\n",
       "  </tbody>\n",
       "</table>\n",
       "</div>"
      ],
      "text/plain": [
       "                       b_red  b_blue  a_red  a_blue\n",
       "index                                              \n",
       "Bantamweight             NaN     NaN    157     108\n",
       "Catch Weight             4.0     NaN      3       3\n",
       "Featherweight            NaN     NaN    193     128\n",
       "Flyweight                NaN     NaN     88      53\n",
       "Heavyweight             78.0     NaN    130      93\n",
       "Light Heavyweight      108.0     NaN    144     105\n",
       "Lightweight            138.0     NaN    331     230\n",
       "Middleweight           134.0     NaN    211     163\n",
       "Welterweight           156.0     NaN    293     243\n",
       "Women's Bantamweight     NaN     NaN     39      32\n",
       "Women's Featherweight    NaN     NaN      1       3\n",
       "Women's Flyweight        NaN     NaN     17      12\n",
       "Women's Strawweight      NaN     NaN     59      39"
      ]
     },
     "execution_count": 26,
     "metadata": {},
     "output_type": "execute_result"
    }
   ],
   "source": [
    "weight_data = split_datas('weight_class', count = True)\n",
    "weight_data"
   ]
  },
  {
   "cell_type": "code",
   "execution_count": 27,
   "metadata": {},
   "outputs": [
    {
     "data": {
      "text/plain": [
       "Index(['Bantamweight', 'Catch Weight', 'Featherweight', 'Flyweight',\n",
       "       'Heavyweight', 'Light Heavyweight', 'Lightweight', 'Middleweight',\n",
       "       'Welterweight', 'Women's Bantamweight', 'Women's Featherweight',\n",
       "       'Women's Flyweight', 'Women's Strawweight'],\n",
       "      dtype='object', name='index')"
      ]
     },
     "execution_count": 27,
     "metadata": {},
     "output_type": "execute_result"
    }
   ],
   "source": [
    "weight_data.index"
   ]
  },
  {
   "cell_type": "code",
   "execution_count": 28,
   "metadata": {},
   "outputs": [],
   "source": [
    "def print_plot(df, barmode='stack'):\n",
    "    fig = go.Figure(data=[\n",
    "        go.Bar(name='B_red', x=df.index, y=df.iloc[:,0]),\n",
    "        go.Bar(name='B_blue',x=df.index, y=df.iloc[:,1]),\n",
    "        go.Bar(name='A_red', x=df.index, y=df.iloc[:,2]),\n",
    "        go.Bar(name='A_blue',x=df.index,y =df.iloc[:,3])\n",
    "    ])\n",
    "    fig.update_layout(barmode='stack')\n",
    "    fig.show()\n"
   ]
  },
  {
   "cell_type": "code",
   "execution_count": 29,
   "metadata": {},
   "outputs": [
    {
     "data": {
      "application/vnd.plotly.v1+json": {
       "config": {
        "plotlyServerURL": "https://plot.ly"
       },
       "data": [
        {
         "name": "B_red",
         "type": "bar",
         "x": [
          "Bantamweight",
          "Catch Weight",
          "Featherweight",
          "Flyweight",
          "Heavyweight",
          "Light Heavyweight",
          "Lightweight",
          "Middleweight",
          "Welterweight",
          "Women's Bantamweight",
          "Women's Featherweight",
          "Women's Flyweight",
          "Women's Strawweight"
         ],
         "y": [
          null,
          4,
          null,
          null,
          78,
          108,
          138,
          134,
          156,
          null,
          null,
          null,
          null
         ]
        },
        {
         "name": "B_blue",
         "type": "bar",
         "x": [
          "Bantamweight",
          "Catch Weight",
          "Featherweight",
          "Flyweight",
          "Heavyweight",
          "Light Heavyweight",
          "Lightweight",
          "Middleweight",
          "Welterweight",
          "Women's Bantamweight",
          "Women's Featherweight",
          "Women's Flyweight",
          "Women's Strawweight"
         ],
         "y": [
          null,
          null,
          null,
          null,
          null,
          null,
          null,
          null,
          null,
          null,
          null,
          null,
          null
         ]
        },
        {
         "name": "A_red",
         "type": "bar",
         "x": [
          "Bantamweight",
          "Catch Weight",
          "Featherweight",
          "Flyweight",
          "Heavyweight",
          "Light Heavyweight",
          "Lightweight",
          "Middleweight",
          "Welterweight",
          "Women's Bantamweight",
          "Women's Featherweight",
          "Women's Flyweight",
          "Women's Strawweight"
         ],
         "y": [
          157,
          3,
          193,
          88,
          130,
          144,
          331,
          211,
          293,
          39,
          1,
          17,
          59
         ]
        },
        {
         "name": "A_blue",
         "type": "bar",
         "x": [
          "Bantamweight",
          "Catch Weight",
          "Featherweight",
          "Flyweight",
          "Heavyweight",
          "Light Heavyweight",
          "Lightweight",
          "Middleweight",
          "Welterweight",
          "Women's Bantamweight",
          "Women's Featherweight",
          "Women's Flyweight",
          "Women's Strawweight"
         ],
         "y": [
          108,
          3,
          128,
          53,
          93,
          105,
          230,
          163,
          243,
          32,
          3,
          12,
          39
         ]
        }
       ],
       "layout": {
        "barmode": "stack",
        "template": {
         "data": {
          "bar": [
           {
            "error_x": {
             "color": "#2a3f5f"
            },
            "error_y": {
             "color": "#2a3f5f"
            },
            "marker": {
             "line": {
              "color": "#E5ECF6",
              "width": 0.5
             }
            },
            "type": "bar"
           }
          ],
          "barpolar": [
           {
            "marker": {
             "line": {
              "color": "#E5ECF6",
              "width": 0.5
             }
            },
            "type": "barpolar"
           }
          ],
          "carpet": [
           {
            "aaxis": {
             "endlinecolor": "#2a3f5f",
             "gridcolor": "white",
             "linecolor": "white",
             "minorgridcolor": "white",
             "startlinecolor": "#2a3f5f"
            },
            "baxis": {
             "endlinecolor": "#2a3f5f",
             "gridcolor": "white",
             "linecolor": "white",
             "minorgridcolor": "white",
             "startlinecolor": "#2a3f5f"
            },
            "type": "carpet"
           }
          ],
          "choropleth": [
           {
            "colorbar": {
             "outlinewidth": 0,
             "ticks": ""
            },
            "type": "choropleth"
           }
          ],
          "contour": [
           {
            "colorbar": {
             "outlinewidth": 0,
             "ticks": ""
            },
            "colorscale": [
             [
              0,
              "#0d0887"
             ],
             [
              0.1111111111111111,
              "#46039f"
             ],
             [
              0.2222222222222222,
              "#7201a8"
             ],
             [
              0.3333333333333333,
              "#9c179e"
             ],
             [
              0.4444444444444444,
              "#bd3786"
             ],
             [
              0.5555555555555556,
              "#d8576b"
             ],
             [
              0.6666666666666666,
              "#ed7953"
             ],
             [
              0.7777777777777778,
              "#fb9f3a"
             ],
             [
              0.8888888888888888,
              "#fdca26"
             ],
             [
              1,
              "#f0f921"
             ]
            ],
            "type": "contour"
           }
          ],
          "contourcarpet": [
           {
            "colorbar": {
             "outlinewidth": 0,
             "ticks": ""
            },
            "type": "contourcarpet"
           }
          ],
          "heatmap": [
           {
            "colorbar": {
             "outlinewidth": 0,
             "ticks": ""
            },
            "colorscale": [
             [
              0,
              "#0d0887"
             ],
             [
              0.1111111111111111,
              "#46039f"
             ],
             [
              0.2222222222222222,
              "#7201a8"
             ],
             [
              0.3333333333333333,
              "#9c179e"
             ],
             [
              0.4444444444444444,
              "#bd3786"
             ],
             [
              0.5555555555555556,
              "#d8576b"
             ],
             [
              0.6666666666666666,
              "#ed7953"
             ],
             [
              0.7777777777777778,
              "#fb9f3a"
             ],
             [
              0.8888888888888888,
              "#fdca26"
             ],
             [
              1,
              "#f0f921"
             ]
            ],
            "type": "heatmap"
           }
          ],
          "heatmapgl": [
           {
            "colorbar": {
             "outlinewidth": 0,
             "ticks": ""
            },
            "colorscale": [
             [
              0,
              "#0d0887"
             ],
             [
              0.1111111111111111,
              "#46039f"
             ],
             [
              0.2222222222222222,
              "#7201a8"
             ],
             [
              0.3333333333333333,
              "#9c179e"
             ],
             [
              0.4444444444444444,
              "#bd3786"
             ],
             [
              0.5555555555555556,
              "#d8576b"
             ],
             [
              0.6666666666666666,
              "#ed7953"
             ],
             [
              0.7777777777777778,
              "#fb9f3a"
             ],
             [
              0.8888888888888888,
              "#fdca26"
             ],
             [
              1,
              "#f0f921"
             ]
            ],
            "type": "heatmapgl"
           }
          ],
          "histogram": [
           {
            "marker": {
             "colorbar": {
              "outlinewidth": 0,
              "ticks": ""
             }
            },
            "type": "histogram"
           }
          ],
          "histogram2d": [
           {
            "colorbar": {
             "outlinewidth": 0,
             "ticks": ""
            },
            "colorscale": [
             [
              0,
              "#0d0887"
             ],
             [
              0.1111111111111111,
              "#46039f"
             ],
             [
              0.2222222222222222,
              "#7201a8"
             ],
             [
              0.3333333333333333,
              "#9c179e"
             ],
             [
              0.4444444444444444,
              "#bd3786"
             ],
             [
              0.5555555555555556,
              "#d8576b"
             ],
             [
              0.6666666666666666,
              "#ed7953"
             ],
             [
              0.7777777777777778,
              "#fb9f3a"
             ],
             [
              0.8888888888888888,
              "#fdca26"
             ],
             [
              1,
              "#f0f921"
             ]
            ],
            "type": "histogram2d"
           }
          ],
          "histogram2dcontour": [
           {
            "colorbar": {
             "outlinewidth": 0,
             "ticks": ""
            },
            "colorscale": [
             [
              0,
              "#0d0887"
             ],
             [
              0.1111111111111111,
              "#46039f"
             ],
             [
              0.2222222222222222,
              "#7201a8"
             ],
             [
              0.3333333333333333,
              "#9c179e"
             ],
             [
              0.4444444444444444,
              "#bd3786"
             ],
             [
              0.5555555555555556,
              "#d8576b"
             ],
             [
              0.6666666666666666,
              "#ed7953"
             ],
             [
              0.7777777777777778,
              "#fb9f3a"
             ],
             [
              0.8888888888888888,
              "#fdca26"
             ],
             [
              1,
              "#f0f921"
             ]
            ],
            "type": "histogram2dcontour"
           }
          ],
          "mesh3d": [
           {
            "colorbar": {
             "outlinewidth": 0,
             "ticks": ""
            },
            "type": "mesh3d"
           }
          ],
          "parcoords": [
           {
            "line": {
             "colorbar": {
              "outlinewidth": 0,
              "ticks": ""
             }
            },
            "type": "parcoords"
           }
          ],
          "pie": [
           {
            "automargin": true,
            "type": "pie"
           }
          ],
          "scatter": [
           {
            "marker": {
             "colorbar": {
              "outlinewidth": 0,
              "ticks": ""
             }
            },
            "type": "scatter"
           }
          ],
          "scatter3d": [
           {
            "line": {
             "colorbar": {
              "outlinewidth": 0,
              "ticks": ""
             }
            },
            "marker": {
             "colorbar": {
              "outlinewidth": 0,
              "ticks": ""
             }
            },
            "type": "scatter3d"
           }
          ],
          "scattercarpet": [
           {
            "marker": {
             "colorbar": {
              "outlinewidth": 0,
              "ticks": ""
             }
            },
            "type": "scattercarpet"
           }
          ],
          "scattergeo": [
           {
            "marker": {
             "colorbar": {
              "outlinewidth": 0,
              "ticks": ""
             }
            },
            "type": "scattergeo"
           }
          ],
          "scattergl": [
           {
            "marker": {
             "colorbar": {
              "outlinewidth": 0,
              "ticks": ""
             }
            },
            "type": "scattergl"
           }
          ],
          "scattermapbox": [
           {
            "marker": {
             "colorbar": {
              "outlinewidth": 0,
              "ticks": ""
             }
            },
            "type": "scattermapbox"
           }
          ],
          "scatterpolar": [
           {
            "marker": {
             "colorbar": {
              "outlinewidth": 0,
              "ticks": ""
             }
            },
            "type": "scatterpolar"
           }
          ],
          "scatterpolargl": [
           {
            "marker": {
             "colorbar": {
              "outlinewidth": 0,
              "ticks": ""
             }
            },
            "type": "scatterpolargl"
           }
          ],
          "scatterternary": [
           {
            "marker": {
             "colorbar": {
              "outlinewidth": 0,
              "ticks": ""
             }
            },
            "type": "scatterternary"
           }
          ],
          "surface": [
           {
            "colorbar": {
             "outlinewidth": 0,
             "ticks": ""
            },
            "colorscale": [
             [
              0,
              "#0d0887"
             ],
             [
              0.1111111111111111,
              "#46039f"
             ],
             [
              0.2222222222222222,
              "#7201a8"
             ],
             [
              0.3333333333333333,
              "#9c179e"
             ],
             [
              0.4444444444444444,
              "#bd3786"
             ],
             [
              0.5555555555555556,
              "#d8576b"
             ],
             [
              0.6666666666666666,
              "#ed7953"
             ],
             [
              0.7777777777777778,
              "#fb9f3a"
             ],
             [
              0.8888888888888888,
              "#fdca26"
             ],
             [
              1,
              "#f0f921"
             ]
            ],
            "type": "surface"
           }
          ],
          "table": [
           {
            "cells": {
             "fill": {
              "color": "#EBF0F8"
             },
             "line": {
              "color": "white"
             }
            },
            "header": {
             "fill": {
              "color": "#C8D4E3"
             },
             "line": {
              "color": "white"
             }
            },
            "type": "table"
           }
          ]
         },
         "layout": {
          "annotationdefaults": {
           "arrowcolor": "#2a3f5f",
           "arrowhead": 0,
           "arrowwidth": 1
          },
          "coloraxis": {
           "colorbar": {
            "outlinewidth": 0,
            "ticks": ""
           }
          },
          "colorscale": {
           "diverging": [
            [
             0,
             "#8e0152"
            ],
            [
             0.1,
             "#c51b7d"
            ],
            [
             0.2,
             "#de77ae"
            ],
            [
             0.3,
             "#f1b6da"
            ],
            [
             0.4,
             "#fde0ef"
            ],
            [
             0.5,
             "#f7f7f7"
            ],
            [
             0.6,
             "#e6f5d0"
            ],
            [
             0.7,
             "#b8e186"
            ],
            [
             0.8,
             "#7fbc41"
            ],
            [
             0.9,
             "#4d9221"
            ],
            [
             1,
             "#276419"
            ]
           ],
           "sequential": [
            [
             0,
             "#0d0887"
            ],
            [
             0.1111111111111111,
             "#46039f"
            ],
            [
             0.2222222222222222,
             "#7201a8"
            ],
            [
             0.3333333333333333,
             "#9c179e"
            ],
            [
             0.4444444444444444,
             "#bd3786"
            ],
            [
             0.5555555555555556,
             "#d8576b"
            ],
            [
             0.6666666666666666,
             "#ed7953"
            ],
            [
             0.7777777777777778,
             "#fb9f3a"
            ],
            [
             0.8888888888888888,
             "#fdca26"
            ],
            [
             1,
             "#f0f921"
            ]
           ],
           "sequentialminus": [
            [
             0,
             "#0d0887"
            ],
            [
             0.1111111111111111,
             "#46039f"
            ],
            [
             0.2222222222222222,
             "#7201a8"
            ],
            [
             0.3333333333333333,
             "#9c179e"
            ],
            [
             0.4444444444444444,
             "#bd3786"
            ],
            [
             0.5555555555555556,
             "#d8576b"
            ],
            [
             0.6666666666666666,
             "#ed7953"
            ],
            [
             0.7777777777777778,
             "#fb9f3a"
            ],
            [
             0.8888888888888888,
             "#fdca26"
            ],
            [
             1,
             "#f0f921"
            ]
           ]
          },
          "colorway": [
           "#636efa",
           "#EF553B",
           "#00cc96",
           "#ab63fa",
           "#FFA15A",
           "#19d3f3",
           "#FF6692",
           "#B6E880",
           "#FF97FF",
           "#FECB52"
          ],
          "font": {
           "color": "#2a3f5f"
          },
          "geo": {
           "bgcolor": "white",
           "lakecolor": "white",
           "landcolor": "#E5ECF6",
           "showlakes": true,
           "showland": true,
           "subunitcolor": "white"
          },
          "hoverlabel": {
           "align": "left"
          },
          "hovermode": "closest",
          "mapbox": {
           "style": "light"
          },
          "paper_bgcolor": "white",
          "plot_bgcolor": "#E5ECF6",
          "polar": {
           "angularaxis": {
            "gridcolor": "white",
            "linecolor": "white",
            "ticks": ""
           },
           "bgcolor": "#E5ECF6",
           "radialaxis": {
            "gridcolor": "white",
            "linecolor": "white",
            "ticks": ""
           }
          },
          "scene": {
           "xaxis": {
            "backgroundcolor": "#E5ECF6",
            "gridcolor": "white",
            "gridwidth": 2,
            "linecolor": "white",
            "showbackground": true,
            "ticks": "",
            "zerolinecolor": "white"
           },
           "yaxis": {
            "backgroundcolor": "#E5ECF6",
            "gridcolor": "white",
            "gridwidth": 2,
            "linecolor": "white",
            "showbackground": true,
            "ticks": "",
            "zerolinecolor": "white"
           },
           "zaxis": {
            "backgroundcolor": "#E5ECF6",
            "gridcolor": "white",
            "gridwidth": 2,
            "linecolor": "white",
            "showbackground": true,
            "ticks": "",
            "zerolinecolor": "white"
           }
          },
          "shapedefaults": {
           "line": {
            "color": "#2a3f5f"
           }
          },
          "ternary": {
           "aaxis": {
            "gridcolor": "white",
            "linecolor": "white",
            "ticks": ""
           },
           "baxis": {
            "gridcolor": "white",
            "linecolor": "white",
            "ticks": ""
           },
           "bgcolor": "#E5ECF6",
           "caxis": {
            "gridcolor": "white",
            "linecolor": "white",
            "ticks": ""
           }
          },
          "title": {
           "x": 0.05
          },
          "xaxis": {
           "automargin": true,
           "gridcolor": "white",
           "linecolor": "white",
           "ticks": "",
           "title": {
            "standoff": 15
           },
           "zerolinecolor": "white",
           "zerolinewidth": 2
          },
          "yaxis": {
           "automargin": true,
           "gridcolor": "white",
           "linecolor": "white",
           "ticks": "",
           "title": {
            "standoff": 15
           },
           "zerolinecolor": "white",
           "zerolinewidth": 2
          }
         }
        }
       }
      },
      "text/html": [
       "<div>\n",
       "        \n",
       "        \n",
       "            <div id=\"0a841d1a-5d97-4a17-8a4c-dbb7b3af9938\" class=\"plotly-graph-div\" style=\"height:525px; width:100%;\"></div>\n",
       "            <script type=\"text/javascript\">\n",
       "                require([\"plotly\"], function(Plotly) {\n",
       "                    window.PLOTLYENV=window.PLOTLYENV || {};\n",
       "                    \n",
       "                if (document.getElementById(\"0a841d1a-5d97-4a17-8a4c-dbb7b3af9938\")) {\n",
       "                    Plotly.newPlot(\n",
       "                        '0a841d1a-5d97-4a17-8a4c-dbb7b3af9938',\n",
       "                        [{\"name\": \"B_red\", \"type\": \"bar\", \"x\": [\"Bantamweight\", \"Catch Weight\", \"Featherweight\", \"Flyweight\", \"Heavyweight\", \"Light Heavyweight\", \"Lightweight\", \"Middleweight\", \"Welterweight\", \"Women's Bantamweight\", \"Women's Featherweight\", \"Women's Flyweight\", \"Women's Strawweight\"], \"y\": [null, 4.0, null, null, 78.0, 108.0, 138.0, 134.0, 156.0, null, null, null, null]}, {\"name\": \"B_blue\", \"type\": \"bar\", \"x\": [\"Bantamweight\", \"Catch Weight\", \"Featherweight\", \"Flyweight\", \"Heavyweight\", \"Light Heavyweight\", \"Lightweight\", \"Middleweight\", \"Welterweight\", \"Women's Bantamweight\", \"Women's Featherweight\", \"Women's Flyweight\", \"Women's Strawweight\"], \"y\": [null, null, null, null, null, null, null, null, null, null, null, null, null]}, {\"name\": \"A_red\", \"type\": \"bar\", \"x\": [\"Bantamweight\", \"Catch Weight\", \"Featherweight\", \"Flyweight\", \"Heavyweight\", \"Light Heavyweight\", \"Lightweight\", \"Middleweight\", \"Welterweight\", \"Women's Bantamweight\", \"Women's Featherweight\", \"Women's Flyweight\", \"Women's Strawweight\"], \"y\": [157, 3, 193, 88, 130, 144, 331, 211, 293, 39, 1, 17, 59]}, {\"name\": \"A_blue\", \"type\": \"bar\", \"x\": [\"Bantamweight\", \"Catch Weight\", \"Featherweight\", \"Flyweight\", \"Heavyweight\", \"Light Heavyweight\", \"Lightweight\", \"Middleweight\", \"Welterweight\", \"Women's Bantamweight\", \"Women's Featherweight\", \"Women's Flyweight\", \"Women's Strawweight\"], \"y\": [108, 3, 128, 53, 93, 105, 230, 163, 243, 32, 3, 12, 39]}],\n",
       "                        {\"barmode\": \"stack\", \"template\": {\"data\": {\"bar\": [{\"error_x\": {\"color\": \"#2a3f5f\"}, \"error_y\": {\"color\": \"#2a3f5f\"}, \"marker\": {\"line\": {\"color\": \"#E5ECF6\", \"width\": 0.5}}, \"type\": \"bar\"}], \"barpolar\": [{\"marker\": {\"line\": {\"color\": \"#E5ECF6\", \"width\": 0.5}}, \"type\": \"barpolar\"}], \"carpet\": [{\"aaxis\": {\"endlinecolor\": \"#2a3f5f\", \"gridcolor\": \"white\", \"linecolor\": \"white\", \"minorgridcolor\": \"white\", \"startlinecolor\": \"#2a3f5f\"}, \"baxis\": {\"endlinecolor\": \"#2a3f5f\", \"gridcolor\": \"white\", \"linecolor\": \"white\", \"minorgridcolor\": \"white\", \"startlinecolor\": \"#2a3f5f\"}, \"type\": \"carpet\"}], \"choropleth\": [{\"colorbar\": {\"outlinewidth\": 0, \"ticks\": \"\"}, \"type\": \"choropleth\"}], \"contour\": [{\"colorbar\": {\"outlinewidth\": 0, \"ticks\": \"\"}, \"colorscale\": [[0.0, \"#0d0887\"], [0.1111111111111111, \"#46039f\"], [0.2222222222222222, \"#7201a8\"], [0.3333333333333333, \"#9c179e\"], [0.4444444444444444, \"#bd3786\"], [0.5555555555555556, \"#d8576b\"], [0.6666666666666666, \"#ed7953\"], [0.7777777777777778, \"#fb9f3a\"], [0.8888888888888888, \"#fdca26\"], [1.0, \"#f0f921\"]], \"type\": \"contour\"}], \"contourcarpet\": [{\"colorbar\": {\"outlinewidth\": 0, \"ticks\": \"\"}, \"type\": \"contourcarpet\"}], \"heatmap\": [{\"colorbar\": {\"outlinewidth\": 0, \"ticks\": \"\"}, \"colorscale\": [[0.0, \"#0d0887\"], [0.1111111111111111, \"#46039f\"], [0.2222222222222222, \"#7201a8\"], [0.3333333333333333, \"#9c179e\"], [0.4444444444444444, \"#bd3786\"], [0.5555555555555556, \"#d8576b\"], [0.6666666666666666, \"#ed7953\"], [0.7777777777777778, \"#fb9f3a\"], [0.8888888888888888, \"#fdca26\"], [1.0, \"#f0f921\"]], \"type\": \"heatmap\"}], \"heatmapgl\": [{\"colorbar\": {\"outlinewidth\": 0, \"ticks\": \"\"}, \"colorscale\": [[0.0, \"#0d0887\"], [0.1111111111111111, \"#46039f\"], [0.2222222222222222, \"#7201a8\"], [0.3333333333333333, \"#9c179e\"], [0.4444444444444444, \"#bd3786\"], [0.5555555555555556, \"#d8576b\"], [0.6666666666666666, \"#ed7953\"], [0.7777777777777778, \"#fb9f3a\"], [0.8888888888888888, \"#fdca26\"], [1.0, \"#f0f921\"]], \"type\": \"heatmapgl\"}], \"histogram\": [{\"marker\": {\"colorbar\": {\"outlinewidth\": 0, \"ticks\": \"\"}}, \"type\": \"histogram\"}], \"histogram2d\": [{\"colorbar\": {\"outlinewidth\": 0, \"ticks\": \"\"}, \"colorscale\": [[0.0, \"#0d0887\"], [0.1111111111111111, \"#46039f\"], [0.2222222222222222, \"#7201a8\"], [0.3333333333333333, \"#9c179e\"], [0.4444444444444444, \"#bd3786\"], [0.5555555555555556, \"#d8576b\"], [0.6666666666666666, \"#ed7953\"], [0.7777777777777778, \"#fb9f3a\"], [0.8888888888888888, \"#fdca26\"], [1.0, \"#f0f921\"]], \"type\": \"histogram2d\"}], \"histogram2dcontour\": [{\"colorbar\": {\"outlinewidth\": 0, \"ticks\": \"\"}, \"colorscale\": [[0.0, \"#0d0887\"], [0.1111111111111111, \"#46039f\"], [0.2222222222222222, \"#7201a8\"], [0.3333333333333333, \"#9c179e\"], [0.4444444444444444, \"#bd3786\"], [0.5555555555555556, \"#d8576b\"], [0.6666666666666666, \"#ed7953\"], [0.7777777777777778, \"#fb9f3a\"], [0.8888888888888888, \"#fdca26\"], [1.0, \"#f0f921\"]], \"type\": \"histogram2dcontour\"}], \"mesh3d\": [{\"colorbar\": {\"outlinewidth\": 0, \"ticks\": \"\"}, \"type\": \"mesh3d\"}], \"parcoords\": [{\"line\": {\"colorbar\": {\"outlinewidth\": 0, \"ticks\": \"\"}}, \"type\": \"parcoords\"}], \"pie\": [{\"automargin\": true, \"type\": \"pie\"}], \"scatter\": [{\"marker\": {\"colorbar\": {\"outlinewidth\": 0, \"ticks\": \"\"}}, \"type\": \"scatter\"}], \"scatter3d\": [{\"line\": {\"colorbar\": {\"outlinewidth\": 0, \"ticks\": \"\"}}, \"marker\": {\"colorbar\": {\"outlinewidth\": 0, \"ticks\": \"\"}}, \"type\": \"scatter3d\"}], \"scattercarpet\": [{\"marker\": {\"colorbar\": {\"outlinewidth\": 0, \"ticks\": \"\"}}, \"type\": \"scattercarpet\"}], \"scattergeo\": [{\"marker\": {\"colorbar\": {\"outlinewidth\": 0, \"ticks\": \"\"}}, \"type\": \"scattergeo\"}], \"scattergl\": [{\"marker\": {\"colorbar\": {\"outlinewidth\": 0, \"ticks\": \"\"}}, \"type\": \"scattergl\"}], \"scattermapbox\": [{\"marker\": {\"colorbar\": {\"outlinewidth\": 0, \"ticks\": \"\"}}, \"type\": \"scattermapbox\"}], \"scatterpolar\": [{\"marker\": {\"colorbar\": {\"outlinewidth\": 0, \"ticks\": \"\"}}, \"type\": \"scatterpolar\"}], \"scatterpolargl\": [{\"marker\": {\"colorbar\": {\"outlinewidth\": 0, \"ticks\": \"\"}}, \"type\": \"scatterpolargl\"}], \"scatterternary\": [{\"marker\": {\"colorbar\": {\"outlinewidth\": 0, \"ticks\": \"\"}}, \"type\": \"scatterternary\"}], \"surface\": [{\"colorbar\": {\"outlinewidth\": 0, \"ticks\": \"\"}, \"colorscale\": [[0.0, \"#0d0887\"], [0.1111111111111111, \"#46039f\"], [0.2222222222222222, \"#7201a8\"], [0.3333333333333333, \"#9c179e\"], [0.4444444444444444, \"#bd3786\"], [0.5555555555555556, \"#d8576b\"], [0.6666666666666666, \"#ed7953\"], [0.7777777777777778, \"#fb9f3a\"], [0.8888888888888888, \"#fdca26\"], [1.0, \"#f0f921\"]], \"type\": \"surface\"}], \"table\": [{\"cells\": {\"fill\": {\"color\": \"#EBF0F8\"}, \"line\": {\"color\": \"white\"}}, \"header\": {\"fill\": {\"color\": \"#C8D4E3\"}, \"line\": {\"color\": \"white\"}}, \"type\": \"table\"}]}, \"layout\": {\"annotationdefaults\": {\"arrowcolor\": \"#2a3f5f\", \"arrowhead\": 0, \"arrowwidth\": 1}, \"coloraxis\": {\"colorbar\": {\"outlinewidth\": 0, \"ticks\": \"\"}}, \"colorscale\": {\"diverging\": [[0, \"#8e0152\"], [0.1, \"#c51b7d\"], [0.2, \"#de77ae\"], [0.3, \"#f1b6da\"], [0.4, \"#fde0ef\"], [0.5, \"#f7f7f7\"], [0.6, \"#e6f5d0\"], [0.7, \"#b8e186\"], [0.8, \"#7fbc41\"], [0.9, \"#4d9221\"], [1, \"#276419\"]], \"sequential\": [[0.0, \"#0d0887\"], [0.1111111111111111, \"#46039f\"], [0.2222222222222222, \"#7201a8\"], [0.3333333333333333, \"#9c179e\"], [0.4444444444444444, \"#bd3786\"], [0.5555555555555556, \"#d8576b\"], [0.6666666666666666, \"#ed7953\"], [0.7777777777777778, \"#fb9f3a\"], [0.8888888888888888, \"#fdca26\"], [1.0, \"#f0f921\"]], \"sequentialminus\": [[0.0, \"#0d0887\"], [0.1111111111111111, \"#46039f\"], [0.2222222222222222, \"#7201a8\"], [0.3333333333333333, \"#9c179e\"], [0.4444444444444444, \"#bd3786\"], [0.5555555555555556, \"#d8576b\"], [0.6666666666666666, \"#ed7953\"], [0.7777777777777778, \"#fb9f3a\"], [0.8888888888888888, \"#fdca26\"], [1.0, \"#f0f921\"]]}, \"colorway\": [\"#636efa\", \"#EF553B\", \"#00cc96\", \"#ab63fa\", \"#FFA15A\", \"#19d3f3\", \"#FF6692\", \"#B6E880\", \"#FF97FF\", \"#FECB52\"], \"font\": {\"color\": \"#2a3f5f\"}, \"geo\": {\"bgcolor\": \"white\", \"lakecolor\": \"white\", \"landcolor\": \"#E5ECF6\", \"showlakes\": true, \"showland\": true, \"subunitcolor\": \"white\"}, \"hoverlabel\": {\"align\": \"left\"}, \"hovermode\": \"closest\", \"mapbox\": {\"style\": \"light\"}, \"paper_bgcolor\": \"white\", \"plot_bgcolor\": \"#E5ECF6\", \"polar\": {\"angularaxis\": {\"gridcolor\": \"white\", \"linecolor\": \"white\", \"ticks\": \"\"}, \"bgcolor\": \"#E5ECF6\", \"radialaxis\": {\"gridcolor\": \"white\", \"linecolor\": \"white\", \"ticks\": \"\"}}, \"scene\": {\"xaxis\": {\"backgroundcolor\": \"#E5ECF6\", \"gridcolor\": \"white\", \"gridwidth\": 2, \"linecolor\": \"white\", \"showbackground\": true, \"ticks\": \"\", \"zerolinecolor\": \"white\"}, \"yaxis\": {\"backgroundcolor\": \"#E5ECF6\", \"gridcolor\": \"white\", \"gridwidth\": 2, \"linecolor\": \"white\", \"showbackground\": true, \"ticks\": \"\", \"zerolinecolor\": \"white\"}, \"zaxis\": {\"backgroundcolor\": \"#E5ECF6\", \"gridcolor\": \"white\", \"gridwidth\": 2, \"linecolor\": \"white\", \"showbackground\": true, \"ticks\": \"\", \"zerolinecolor\": \"white\"}}, \"shapedefaults\": {\"line\": {\"color\": \"#2a3f5f\"}}, \"ternary\": {\"aaxis\": {\"gridcolor\": \"white\", \"linecolor\": \"white\", \"ticks\": \"\"}, \"baxis\": {\"gridcolor\": \"white\", \"linecolor\": \"white\", \"ticks\": \"\"}, \"bgcolor\": \"#E5ECF6\", \"caxis\": {\"gridcolor\": \"white\", \"linecolor\": \"white\", \"ticks\": \"\"}}, \"title\": {\"x\": 0.05}, \"xaxis\": {\"automargin\": true, \"gridcolor\": \"white\", \"linecolor\": \"white\", \"ticks\": \"\", \"title\": {\"standoff\": 15}, \"zerolinecolor\": \"white\", \"zerolinewidth\": 2}, \"yaxis\": {\"automargin\": true, \"gridcolor\": \"white\", \"linecolor\": \"white\", \"ticks\": \"\", \"title\": {\"standoff\": 15}, \"zerolinecolor\": \"white\", \"zerolinewidth\": 2}}}},\n",
       "                        {\"responsive\": true}\n",
       "                    ).then(function(){\n",
       "                            \n",
       "var gd = document.getElementById('0a841d1a-5d97-4a17-8a4c-dbb7b3af9938');\n",
       "var x = new MutationObserver(function (mutations, observer) {{\n",
       "        var display = window.getComputedStyle(gd).display;\n",
       "        if (!display || display === 'none') {{\n",
       "            console.log([gd, 'removed!']);\n",
       "            Plotly.purge(gd);\n",
       "            observer.disconnect();\n",
       "        }}\n",
       "}});\n",
       "\n",
       "// Listen for the removal of the full notebook cells\n",
       "var notebookContainer = gd.closest('#notebook-container');\n",
       "if (notebookContainer) {{\n",
       "    x.observe(notebookContainer, {childList: true});\n",
       "}}\n",
       "\n",
       "// Listen for the clearing of the current output cell\n",
       "var outputEl = gd.closest('.output');\n",
       "if (outputEl) {{\n",
       "    x.observe(outputEl, {childList: true});\n",
       "}}\n",
       "\n",
       "                        })\n",
       "                };\n",
       "                });\n",
       "            </script>\n",
       "        </div>"
      ]
     },
     "metadata": {},
     "output_type": "display_data"
    }
   ],
   "source": [
    "print_plot(weight_data)"
   ]
  },
  {
   "cell_type": "markdown",
   "metadata": {},
   "source": [
    "**무게가 2010년 사실 이전과 이후 비중이 시합이 더 적어서 이렇게 나타나는 것으로 보임. <br>\n",
    "이전 경기 수가 최근과 비슷했다면 비중도 비슷해질 것 같음 <br>\n",
    "그렇기 때문에 이전 데이터는 없어도 될 것 같다**"
   ]
  },
  {
   "cell_type": "code",
   "execution_count": 30,
   "metadata": {},
   "outputs": [],
   "source": [
    "def red_split(feature_name,count=False):\n",
    "    \n",
    "    base_date = '2010-01-01'\n",
    "    before = df[(df['date'] < base_date)]\n",
    "    after = df[(df['date'] >= base_date)]\n",
    "    \n",
    "    if count==False:\n",
    "        b_red = before[feature_name][df['Winner']=='Red']\n",
    "        a_red = after[feature_name][df['Winner']=='Red']\n",
    "           \n",
    "    elif count==True:\n",
    "        b_red = pd.DataFrame(before[feature_name][df['Winner']=='Red'].value_counts(ascending=False))\n",
    "        a_red = pd.DataFrame(after[feature_name][df['Winner']=='Red'].value_counts(ascending=False))\n",
    "       \n",
    "    else:\n",
    "        print(\"You need 'count'parameter!\")   \n",
    "        \n",
    "    return b_red, a_red    \n",
    "        "
   ]
  },
  {
   "cell_type": "code",
   "execution_count": 31,
   "metadata": {},
   "outputs": [],
   "source": [
    "def blue_split(feature_name,count=False):\n",
    "    \n",
    "    base_date = '2010-01-01'\n",
    "    before = df[(df['date'] < base_date)]\n",
    "    after = df[(df['date'] >= base_date)]\n",
    "    \n",
    "    if count==False:\n",
    "        b_blue = before[feature_name][df['Winner']=='Blue']\n",
    "        a_blue = after[feature_name][df['Winner']=='Blue']\n",
    "        \n",
    "    elif count==True:\n",
    "        b_blue = before[feature_name][df['Winner']=='Blue'].value_counts(ascending=False)\n",
    "        a_blue = after[feature_name][df['Winner']=='Blue'].value_counts(ascending=False)\n",
    "    \n",
    "    else:\n",
    "        print(\"You need 'count'parameter!\")\n",
    "\n",
    "    return b_blue, a_blue"
   ]
  },
  {
   "cell_type": "code",
   "execution_count": 32,
   "metadata": {},
   "outputs": [
    {
     "data": {
      "text/plain": [
       "(3496, 138)"
      ]
     },
     "execution_count": 32,
     "metadata": {},
     "output_type": "execute_result"
    }
   ],
   "source": [
    "df.shape"
   ]
  },
  {
   "cell_type": "code",
   "execution_count": 33,
   "metadata": {},
   "outputs": [],
   "source": [
    "base_date = '2010-01-01'\n",
    "before = df[(df['date'] < base_date)]\n",
    "after = df[(df['date'] >= base_date)]"
   ]
  },
  {
   "cell_type": "code",
   "execution_count": 34,
   "metadata": {},
   "outputs": [],
   "source": [
    "Bb_win_by = before[['B_win_by_Decision_Majority',\n",
    "    'B_win_by_Decision_Split',\n",
    "    'B_win_by_Decision_Unanimous',\n",
    "    'B_win_by_KO/TKO',\n",
    "    'B_win_by_Submission',\n",
    "    'B_win_by_TKO_Doctor_Stoppage']]\n",
    "\n",
    "Ba_win_by = after[['B_win_by_Decision_Majority',\n",
    "    'B_win_by_Decision_Split',\n",
    "    'B_win_by_Decision_Unanimous',\n",
    "    'B_win_by_KO/TKO',\n",
    "    'B_win_by_Submission',\n",
    "    'B_win_by_TKO_Doctor_Stoppage']]\n",
    "\n",
    "\n",
    "Rb_win_by = before[['R_win_by_Decision_Majority',\n",
    "    'R_win_by_Decision_Split',\n",
    "    'R_win_by_Decision_Unanimous',\n",
    "    'R_win_by_KO/TKO',\n",
    "    'R_win_by_Submission',\n",
    "    'R_win_by_TKO_Doctor_Stoppage']]\n",
    "\n",
    "Ra_win_by = after[['R_win_by_Decision_Majority',\n",
    "    'R_win_by_Decision_Split',\n",
    "    'R_win_by_Decision_Unanimous',\n",
    "    'R_win_by_KO/TKO',\n",
    "    'R_win_by_Submission',\n",
    "    'R_win_by_TKO_Doctor_Stoppage']]\n",
    "\n",
    "bb_winby = Bb_win_by.sum(axis=0)\n",
    "ba_winby = Ba_win_by.sum(axis=0)\n",
    "rb_winby = Rb_win_by.sum(axis=0)\n",
    "ra_winby = Ra_win_by.sum(axis=0)"
   ]
  },
  {
   "cell_type": "code",
   "execution_count": 35,
   "metadata": {},
   "outputs": [
    {
     "data": {
      "image/png": "[encoded data removed]",
      "text/plain": [
       "<Figure size 1008x432 with 1 Axes>"
      ]
     },
     "metadata": {},
     "output_type": "display_data"
    }
   ],
   "source": [
    "bb_winby.plot(kind='line', figsize=(14,6),c='r')\n",
    "ba_winby.plot(kind='line', figsize=(14,6),c='b')\n",
    "plt.show()"
   ]
  },
  {
   "cell_type": "code",
   "execution_count": 36,
   "metadata": {},
   "outputs": [
    {
     "data": {
      "image/png": "[encoded data removed]",
      "text/plain": [
       "<Figure size 1008x432 with 1 Axes>"
      ]
     },
     "metadata": {},
     "output_type": "display_data"
    }
   ],
   "source": [
    "rb_winby.plot(kind='line', figsize=(14,6),c='r')\n",
    "ra_winby.plot(kind='line', figsize=(14,6),c='b')\n",
    "plt.show()"
   ]
  },
  {
   "cell_type": "markdown",
   "metadata": {},
   "source": [
    "#### 뭐로 이겼는가는 큰 차이 없음"
   ]
  },
  {
   "cell_type": "markdown",
   "metadata": {},
   "source": [
    "## _avg_TOTAL_STR_att"
   ]
  },
  {
   "cell_type": "code",
   "execution_count": 37,
   "metadata": {},
   "outputs": [
    {
     "data": {
      "image/png": "[encoded data removed]",
      "text/plain": [
       "<Figure size 576x396 with 1 Axes>"
      ]
     },
     "metadata": {},
     "output_type": "display_data"
    }
   ],
   "source": [
    "Rb_str_att, Ra_str_att = red_split('R_avg_TOTAL_STR_att')\n",
    "Bb_str_att, Ba_str_att = blue_split('B_avg_TOTAL_STR_att')\n",
    "\n",
    "fig, ax = plt.subplots()\n",
    "ax.boxplot([Rb_str_att.values, Ra_str_att.values,Bb_str_att.values, Ba_str_att.values ])\n",
    "plt.title('_avg_TOTAL_STR_att')\n",
    "plt.xticks([1, 2, 3, 4], \n",
    "\n",
    "           ['R_before', 'R_after','B_before','B_after'])\n",
    "plt.show()"
   ]
  },
  {
   "cell_type": "markdown",
   "metadata": {},
   "source": [
    "## _avg_TOTAL_STR_landed"
   ]
  },
  {
   "cell_type": "code",
   "execution_count": 38,
   "metadata": {},
   "outputs": [
    {
     "data": {
      "image/png": "[encoded data removed]",
      "text/plain": [
       "<Figure size 576x396 with 1 Axes>"
      ]
     },
     "metadata": {},
     "output_type": "display_data"
    }
   ],
   "source": [
    "Rb_body_att, Ra_body_att = red_split('R_avg_TOTAL_STR_landed')\n",
    "Bb_body_att, Ba_body_att = blue_split('B_avg_TOTAL_STR_landed')\n",
    "\n",
    "fig, ax = plt.subplots()\n",
    "ax.boxplot([Rb_body_att, Ra_body_att, Bb_body_att, Ba_body_att ])\n",
    "plt.title('_avg_TOTAL_STR_landed')\n",
    "plt.xticks([1, 2, 3, 4], \n",
    "\n",
    "           ['R_before', 'R_after','B_before','B_after'])\n",
    "plt.show()"
   ]
  },
  {
   "cell_type": "markdown",
   "metadata": {},
   "source": [
    "## _avg_BODY_att"
   ]
  },
  {
   "cell_type": "code",
   "execution_count": 39,
   "metadata": {},
   "outputs": [
    {
     "data": {
      "image/png": "[encoded data removed]",
      "text/plain": [
       "<Figure size 576x396 with 1 Axes>"
      ]
     },
     "metadata": {},
     "output_type": "display_data"
    }
   ],
   "source": [
    "Rb_body_att, Ra_body_att = red_split('R_avg_BODY_att')\n",
    "Bb_body_att, Ba_body_att = blue_split('B_avg_BODY_att')\n",
    "\n",
    "fig, ax = plt.subplots()\n",
    "ax.boxplot([Rb_body_att, Ra_body_att, Bb_body_att, Ba_body_att ])\n",
    "plt.title('_avg_BODY_att')\n",
    "plt.xticks([1, 2, 3, 4], \n",
    "\n",
    "           ['R_before', 'R_after','B_before','B_after'])\n",
    "plt.show()"
   ]
  },
  {
   "cell_type": "markdown",
   "metadata": {},
   "source": [
    "## _avg_BODY_landed"
   ]
  },
  {
   "cell_type": "code",
   "execution_count": 40,
   "metadata": {},
   "outputs": [
    {
     "data": {
      "image/png": "[encoded data removed]",
      "text/plain": [
       "<Figure size 576x396 with 1 Axes>"
      ]
     },
     "metadata": {},
     "output_type": "display_data"
    }
   ],
   "source": [
    "Rb, Ra = red_split('R_avg_BODY_landed')\n",
    "Bb, Ba = blue_split('B_avg_BODY_landed')\n",
    "\n",
    "fig, ax = plt.subplots()\n",
    "ax.boxplot([Rb, Ra, Bb, Ba])\n",
    "plt.title('_avg_BODY_landed')\n",
    "plt.xticks([1, 2, 3, 4], \n",
    "\n",
    "           ['R_before', 'R_after','B_before','B_after'])\n",
    "plt.show()"
   ]
  },
  {
   "cell_type": "markdown",
   "metadata": {},
   "source": [
    "#### 이거를 보면 뭔가 시도가 더 중요한듯?"
   ]
  },
  {
   "cell_type": "markdown",
   "metadata": {},
   "source": [
    "## _avg_CLINCH_att"
   ]
  },
  {
   "cell_type": "code",
   "execution_count": 41,
   "metadata": {},
   "outputs": [
    {
     "data": {
      "image/png": "[encoded data removed]",
      "text/plain": [
       "<Figure size 576x396 with 1 Axes>"
      ]
     },
     "metadata": {},
     "output_type": "display_data"
    }
   ],
   "source": [
    "Rb, Ra = red_split('R_avg_CLINCH_att')\n",
    "Bb, Ba = blue_split('B_avg_CLINCH_att')\n",
    "\n",
    "fig, ax = plt.subplots()\n",
    "ax.boxplot([Rb, Ra, Bb, Ba])\n",
    "plt.title('_avg_CLINCH_att')\n",
    "plt.xticks([1, 2, 3, 4], \n",
    "\n",
    "           ['R_before', 'R_after','B_before','B_after'])\n",
    "plt.show()"
   ]
  },
  {
   "cell_type": "markdown",
   "metadata": {},
   "source": [
    "## _avg_CLINCH_landed"
   ]
  },
  {
   "cell_type": "code",
   "execution_count": 42,
   "metadata": {},
   "outputs": [
    {
     "data": {
      "image/png": "[encoded data removed]",
      "text/plain": [
       "<Figure size 576x396 with 1 Axes>"
      ]
     },
     "metadata": {},
     "output_type": "display_data"
    }
   ],
   "source": [
    "Rb, Ra = red_split('R_avg_CLINCH_landed')\n",
    "Bb, Ba = blue_split('B_avg_CLINCH_landed')\n",
    "\n",
    "fig, ax = plt.subplots()\n",
    "ax.boxplot([Rb, Ra, Bb, Ba])\n",
    "plt.title('_avg_CLINCH_landed')\n",
    "plt.xticks([1, 2, 3, 4], \n",
    "\n",
    "           ['R_before', 'R_after','B_before','B_after'])\n",
    "plt.show()"
   ]
  },
  {
   "cell_type": "markdown",
   "metadata": {},
   "source": [
    "## _avg_DISTANCE_att"
   ]
  },
  {
   "cell_type": "code",
   "execution_count": 43,
   "metadata": {},
   "outputs": [
    {
     "data": {
      "image/png": "[encoded data removed]",
      "text/plain": [
       "<Figure size 576x396 with 1 Axes>"
      ]
     },
     "metadata": {},
     "output_type": "display_data"
    }
   ],
   "source": [
    "Rb, Ra = red_split('R_avg_DISTANCE_att')\n",
    "Bb, Ba = blue_split('B_avg_DISTANCE_att')\n",
    "\n",
    "fig, ax = plt.subplots()\n",
    "ax.boxplot([Rb, Ra, Bb, Ba])\n",
    "plt.title('_avg_DISTANCE_att')\n",
    "plt.xticks([1, 2, 3, 4], \n",
    "\n",
    "           ['R_before', 'R_after','B_before','B_after'])\n",
    "plt.show()"
   ]
  },
  {
   "cell_type": "markdown",
   "metadata": {},
   "source": [
    "## _avg_DISTANCE_landed"
   ]
  },
  {
   "cell_type": "code",
   "execution_count": 44,
   "metadata": {
    "scrolled": true
   },
   "outputs": [
    {
     "data": {
      "image/png": "[encoded data removed]",
      "text/plain": [
       "<Figure size 576x396 with 1 Axes>"
      ]
     },
     "metadata": {},
     "output_type": "display_data"
    }
   ],
   "source": [
    "Rb, Ra = red_split('R_avg_DISTANCE_landed')\n",
    "Bb, Ba = blue_split('B_avg_DISTANCE_landed')\n",
    "\n",
    "fig, ax = plt.subplots()\n",
    "ax.boxplot([Rb, Ra, Bb, Ba])\n",
    "plt.title('_avg_DISTANCE_landed')\n",
    "plt.xticks([1, 2, 3, 4], \n",
    "\n",
    "           ['R_before', 'R_after','B_before','B_after'])\n",
    "plt.show()"
   ]
  },
  {
   "cell_type": "markdown",
   "metadata": {},
   "source": [
    "## _avg_GROUND_att"
   ]
  },
  {
   "cell_type": "code",
   "execution_count": 45,
   "metadata": {},
   "outputs": [
    {
     "data": {
      "image/png": "[encoded data removed]",
      "text/plain": [
       "<Figure size 576x396 with 1 Axes>"
      ]
     },
     "metadata": {},
     "output_type": "display_data"
    }
   ],
   "source": [
    "Rb, Ra = red_split('R_avg_GROUND_att')\n",
    "Bb, Ba = blue_split('B_avg_GROUND_att')\n",
    "\n",
    "fig, ax = plt.subplots()\n",
    "ax.boxplot([Rb, Ra, Bb, Ba])\n",
    "plt.title('_avg_GROUND_att')\n",
    "plt.xticks([1, 2, 3, 4], \n",
    "\n",
    "           ['R_before', 'R_after','B_before','B_after'])\n",
    "plt.show()"
   ]
  },
  {
   "cell_type": "markdown",
   "metadata": {},
   "source": [
    "## _avg_GROUND_landed"
   ]
  },
  {
   "cell_type": "code",
   "execution_count": 46,
   "metadata": {},
   "outputs": [
    {
     "data": {
      "image/png": "[encoded data removed]",
      "text/plain": [
       "<Figure size 576x396 with 1 Axes>"
      ]
     },
     "metadata": {},
     "output_type": "display_data"
    }
   ],
   "source": [
    "Rb, Ra = red_split('R_avg_GROUND_landed')\n",
    "Bb, Ba = blue_split('B_avg_GROUND_landed')\n",
    "\n",
    "fig, ax = plt.subplots()\n",
    "ax.boxplot([Rb, Ra, Bb, Ba])\n",
    "plt.title('_avg_GROUND_landed')\n",
    "plt.xticks([1, 2, 3, 4], \n",
    "\n",
    "           ['R_before', 'R_after','B_before','B_after'])\n",
    "plt.show()"
   ]
  },
  {
   "cell_type": "markdown",
   "metadata": {},
   "source": [
    "## _avg_HEAD_att"
   ]
  },
  {
   "cell_type": "code",
   "execution_count": 47,
   "metadata": {},
   "outputs": [
    {
     "data": {
      "image/png": "[encoded data removed]",
      "text/plain": [
       "<Figure size 576x396 with 1 Axes>"
      ]
     },
     "metadata": {},
     "output_type": "display_data"
    }
   ],
   "source": [
    "Rb, Ra = red_split('R_avg_HEAD_att')\n",
    "Bb, Ba = blue_split('B_avg_HEAD_att')\n",
    "\n",
    "fig, ax = plt.subplots()\n",
    "ax.boxplot([Rb, Ra, Bb, Ba])\n",
    "plt.title('_avg_HEAD_att')\n",
    "plt.xticks([1, 2, 3, 4], \n",
    "\n",
    "           ['R_before', 'R_after','B_before','B_after'])\n",
    "plt.show()"
   ]
  },
  {
   "cell_type": "markdown",
   "metadata": {},
   "source": [
    "## _avg_HEAD_landed"
   ]
  },
  {
   "cell_type": "code",
   "execution_count": 48,
   "metadata": {
    "scrolled": true
   },
   "outputs": [
    {
     "data": {
      "image/png": "[encoded data removed]",
      "text/plain": [
       "<Figure size 576x396 with 1 Axes>"
      ]
     },
     "metadata": {},
     "output_type": "display_data"
    }
   ],
   "source": [
    "Rb, Ra = red_split('R_avg_HEAD_landed')\n",
    "Bb, Ba = blue_split('B_avg_HEAD_landed')\n",
    "\n",
    "fig, ax = plt.subplots()\n",
    "ax.boxplot([Rb, Ra, Bb, Ba])\n",
    "plt.title('_avg_HEAD_landed')\n",
    "plt.xticks([1, 2, 3, 4], \n",
    "\n",
    "           ['R_before', 'R_after','B_before','B_after'])\n",
    "plt.show()"
   ]
  },
  {
   "cell_type": "markdown",
   "metadata": {},
   "source": [
    "### 상관관계"
   ]
  },
  {
   "cell_type": "code",
   "execution_count": 49,
   "metadata": {},
   "outputs": [
    {
     "name": "stdout",
     "output_type": "stream",
     "text": [
      "R_avg_opp_HEAD_att      R_avg_opp_SIG_STR_att    0.983956\n",
      "B_avg_opp_HEAD_att      B_avg_opp_SIG_STR_att    0.982278\n",
      "B_avg_HEAD_att          B_avg_SIG_STR_att        0.979104\n",
      "B_avg_LEG_att           B_avg_LEG_landed         0.979062\n",
      "B_avg_opp_LEG_att       B_avg_opp_LEG_landed     0.977231\n",
      "R_avg_HEAD_att          R_avg_SIG_STR_att        0.977198\n",
      "R_avg_LEG_att           R_avg_LEG_landed         0.975742\n",
      "R_avg_opp_LEG_att       R_avg_opp_LEG_landed     0.971823\n",
      "R_avg_GROUND_att        R_avg_GROUND_landed      0.971089\n",
      "R_avg_opp_DISTANCE_att  R_avg_opp_SIG_STR_att    0.970633\n",
      "dtype: float64\n"
     ]
    }
   ],
   "source": [
    "corr_matrix = df.corr(method = 'pearson').abs()\n",
    "sol = (corr_matrix.where(np.triu(np.ones(corr_matrix.shape), k=1)\n",
    "                 .astype(np.bool))\n",
    "                 .stack()\n",
    "                 .sort_values(ascending=False)\n",
    "      )\n",
    "print(sol[0:10])"
   ]
  }
 ],
 "metadata": {
  "kernelspec": {
   "display_name": "Python 3",
   "language": "python",
   "name": "python3"
  },
  "language_info": {
   "codemirror_mode": {
    "name": "ipython",
    "version": 3
   },
   "file_extension": ".py",
   "mimetype": "text/x-python",
   "name": "python",
   "nbconvert_exporter": "python",
   "pygments_lexer": "ipython3",
   "version": "3.8.3"
  }
 },
 "nbformat": 4,
 "nbformat_minor": 2
}
